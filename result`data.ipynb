{
 "cells": [
  {
   "cell_type": "code",
   "execution_count": 1,
   "metadata": {},
   "outputs": [],
   "source": [
    "import numpy as np"
   ]
  },
  {
   "cell_type": "code",
   "execution_count": 2,
   "metadata": {},
   "outputs": [],
   "source": [
    "import pandas as pd"
   ]
  },
  {
   "cell_type": "code",
   "execution_count": 3,
   "metadata": {},
   "outputs": [],
   "source": [
    "import seaborn as sns"
   ]
  },
  {
   "cell_type": "code",
   "execution_count": 4,
   "metadata": {},
   "outputs": [],
   "source": [
    "import matplotlib.pyplot as plt"
   ]
  },
  {
   "cell_type": "code",
   "execution_count": 5,
   "metadata": {},
   "outputs": [],
   "source": [
    "%matplotlib inline"
   ]
  },
  {
   "cell_type": "code",
   "execution_count": 53,
   "metadata": {},
   "outputs": [],
   "source": [
    "df_result = pd.read_csv(\"result`data.csv\")"
   ]
  },
  {
   "cell_type": "code",
   "execution_count": 54,
   "metadata": {},
   "outputs": [
    {
     "data": {
      "text/html": [
       "<div>\n",
       "<style scoped>\n",
       "    .dataframe tbody tr th:only-of-type {\n",
       "        vertical-align: middle;\n",
       "    }\n",
       "\n",
       "    .dataframe tbody tr th {\n",
       "        vertical-align: top;\n",
       "    }\n",
       "\n",
       "    .dataframe thead th {\n",
       "        text-align: right;\n",
       "    }\n",
       "</style>\n",
       "<table border=\"1\" class=\"dataframe\">\n",
       "  <thead>\n",
       "    <tr style=\"text-align: right;\">\n",
       "      <th></th>\n",
       "      <th>card_number</th>\n",
       "      <th>number_win</th>\n",
       "      <th>number_defeats</th>\n",
       "      <th>bet_value</th>\n",
       "      <th>win_value</th>\n",
       "      <th>cashout</th>\n",
       "      <th>card_type</th>\n",
       "      <th>result</th>\n",
       "      <th>bet_type</th>\n",
       "      <th>date</th>\n",
       "    </tr>\n",
       "  </thead>\n",
       "  <tbody>\n",
       "    <tr>\n",
       "      <th>0</th>\n",
       "      <td>4</td>\n",
       "      <td>2</td>\n",
       "      <td>2</td>\n",
       "      <td>1.00</td>\n",
       "      <td>14.05</td>\n",
       "      <td>0.0</td>\n",
       "      <td>combo</td>\n",
       "      <td>defeats</td>\n",
       "      <td>per goal</td>\n",
       "      <td>2024-08-01</td>\n",
       "    </tr>\n",
       "    <tr>\n",
       "      <th>1</th>\n",
       "      <td>4</td>\n",
       "      <td>3</td>\n",
       "      <td>1</td>\n",
       "      <td>1.00</td>\n",
       "      <td>7.81</td>\n",
       "      <td>0.0</td>\n",
       "      <td>combo</td>\n",
       "      <td>defeats</td>\n",
       "      <td>per goal</td>\n",
       "      <td>2024-08-01</td>\n",
       "    </tr>\n",
       "    <tr>\n",
       "      <th>2</th>\n",
       "      <td>3</td>\n",
       "      <td>1</td>\n",
       "      <td>2</td>\n",
       "      <td>1.00</td>\n",
       "      <td>15.77</td>\n",
       "      <td>0.0</td>\n",
       "      <td>combo</td>\n",
       "      <td>defeats</td>\n",
       "      <td>per goal</td>\n",
       "      <td>2024-08-01</td>\n",
       "    </tr>\n",
       "    <tr>\n",
       "      <th>3</th>\n",
       "      <td>5</td>\n",
       "      <td>3</td>\n",
       "      <td>2</td>\n",
       "      <td>1.00</td>\n",
       "      <td>16.88</td>\n",
       "      <td>0.0</td>\n",
       "      <td>combo</td>\n",
       "      <td>defeats</td>\n",
       "      <td>per goal</td>\n",
       "      <td>2024-08-01</td>\n",
       "    </tr>\n",
       "    <tr>\n",
       "      <th>4</th>\n",
       "      <td>4</td>\n",
       "      <td>4</td>\n",
       "      <td>0</td>\n",
       "      <td>1.57</td>\n",
       "      <td>8.61</td>\n",
       "      <td>0.0</td>\n",
       "      <td>combo</td>\n",
       "      <td>win</td>\n",
       "      <td>per goal</td>\n",
       "      <td>2024-08-01</td>\n",
       "    </tr>\n",
       "  </tbody>\n",
       "</table>\n",
       "</div>"
      ],
      "text/plain": [
       "   card_number  number_win  number_defeats  bet_value  win_value  cashout  \\\n",
       "0            4           2               2       1.00      14.05      0.0   \n",
       "1            4           3               1       1.00       7.81      0.0   \n",
       "2            3           1               2       1.00      15.77      0.0   \n",
       "3            5           3               2       1.00      16.88      0.0   \n",
       "4            4           4               0       1.57       8.61      0.0   \n",
       "\n",
       "  card_type   result  bet_type        date  \n",
       "0     combo  defeats  per goal  2024-08-01  \n",
       "1     combo  defeats  per goal  2024-08-01  \n",
       "2     combo  defeats  per goal  2024-08-01  \n",
       "3     combo  defeats  per goal  2024-08-01  \n",
       "4     combo      win  per goal  2024-08-01  "
      ]
     },
     "execution_count": 54,
     "metadata": {},
     "output_type": "execute_result"
    }
   ],
   "source": [
    "df_result.head()"
   ]
  },
  {
   "cell_type": "code",
   "execution_count": 55,
   "metadata": {},
   "outputs": [
    {
     "data": {
      "text/html": [
       "<div>\n",
       "<style scoped>\n",
       "    .dataframe tbody tr th:only-of-type {\n",
       "        vertical-align: middle;\n",
       "    }\n",
       "\n",
       "    .dataframe tbody tr th {\n",
       "        vertical-align: top;\n",
       "    }\n",
       "\n",
       "    .dataframe thead th {\n",
       "        text-align: right;\n",
       "    }\n",
       "</style>\n",
       "<table border=\"1\" class=\"dataframe\">\n",
       "  <thead>\n",
       "    <tr style=\"text-align: right;\">\n",
       "      <th></th>\n",
       "      <th>card_number</th>\n",
       "      <th>number_win</th>\n",
       "      <th>number_defeats</th>\n",
       "      <th>bet_value</th>\n",
       "      <th>win_value</th>\n",
       "      <th>cashout</th>\n",
       "      <th>card_type</th>\n",
       "      <th>result</th>\n",
       "      <th>bet_type</th>\n",
       "      <th>date</th>\n",
       "    </tr>\n",
       "  </thead>\n",
       "  <tbody>\n",
       "    <tr>\n",
       "      <th>218</th>\n",
       "      <td>2</td>\n",
       "      <td>0</td>\n",
       "      <td>2</td>\n",
       "      <td>0.5</td>\n",
       "      <td>21.00</td>\n",
       "      <td>0.0</td>\n",
       "      <td>combo</td>\n",
       "      <td>defeats</td>\n",
       "      <td>per win</td>\n",
       "      <td>2024-08-19</td>\n",
       "    </tr>\n",
       "    <tr>\n",
       "      <th>219</th>\n",
       "      <td>1</td>\n",
       "      <td>0</td>\n",
       "      <td>1</td>\n",
       "      <td>0.5</td>\n",
       "      <td>6.50</td>\n",
       "      <td>0.0</td>\n",
       "      <td>unique</td>\n",
       "      <td>defeats</td>\n",
       "      <td>per win</td>\n",
       "      <td>2024-08-19</td>\n",
       "    </tr>\n",
       "    <tr>\n",
       "      <th>220</th>\n",
       "      <td>2</td>\n",
       "      <td>1</td>\n",
       "      <td>1</td>\n",
       "      <td>0.5</td>\n",
       "      <td>13.65</td>\n",
       "      <td>0.0</td>\n",
       "      <td>combo</td>\n",
       "      <td>defeats</td>\n",
       "      <td>per win</td>\n",
       "      <td>2024-08-19</td>\n",
       "    </tr>\n",
       "    <tr>\n",
       "      <th>221</th>\n",
       "      <td>1</td>\n",
       "      <td>0</td>\n",
       "      <td>1</td>\n",
       "      <td>0.7</td>\n",
       "      <td>4.75</td>\n",
       "      <td>0.0</td>\n",
       "      <td>unique</td>\n",
       "      <td>defeats</td>\n",
       "      <td>per win</td>\n",
       "      <td>2024-08-19</td>\n",
       "    </tr>\n",
       "    <tr>\n",
       "      <th>222</th>\n",
       "      <td>1</td>\n",
       "      <td>1</td>\n",
       "      <td>0</td>\n",
       "      <td>0.5</td>\n",
       "      <td>0.78</td>\n",
       "      <td>0.0</td>\n",
       "      <td>unique</td>\n",
       "      <td>win</td>\n",
       "      <td>per goal</td>\n",
       "      <td>2024-08-19</td>\n",
       "    </tr>\n",
       "  </tbody>\n",
       "</table>\n",
       "</div>"
      ],
      "text/plain": [
       "     card_number  number_win  number_defeats  bet_value  win_value  cashout  \\\n",
       "218            2           0               2        0.5      21.00      0.0   \n",
       "219            1           0               1        0.5       6.50      0.0   \n",
       "220            2           1               1        0.5      13.65      0.0   \n",
       "221            1           0               1        0.7       4.75      0.0   \n",
       "222            1           1               0        0.5       0.78      0.0   \n",
       "\n",
       "    card_type   result  bet_type        date  \n",
       "218     combo  defeats   per win  2024-08-19  \n",
       "219    unique  defeats   per win  2024-08-19  \n",
       "220     combo  defeats   per win  2024-08-19  \n",
       "221    unique  defeats   per win  2024-08-19  \n",
       "222    unique      win  per goal  2024-08-19  "
      ]
     },
     "execution_count": 55,
     "metadata": {},
     "output_type": "execute_result"
    }
   ],
   "source": [
    "df_result.tail()"
   ]
  },
  {
   "cell_type": "code",
   "execution_count": 56,
   "metadata": {
    "scrolled": true
   },
   "outputs": [
    {
     "name": "stdout",
     "output_type": "stream",
     "text": [
      "<class 'pandas.core.frame.DataFrame'>\n",
      "RangeIndex: 223 entries, 0 to 222\n",
      "Data columns (total 10 columns):\n",
      "card_number       223 non-null int64\n",
      "number_win        223 non-null int64\n",
      "number_defeats    223 non-null int64\n",
      "bet_value         223 non-null float64\n",
      "win_value         223 non-null float64\n",
      "cashout           223 non-null float64\n",
      "card_type         223 non-null object\n",
      "result            218 non-null object\n",
      "bet_type          223 non-null object\n",
      "date              223 non-null object\n",
      "dtypes: float64(3), int64(3), object(4)\n",
      "memory usage: 17.5+ KB\n"
     ]
    }
   ],
   "source": [
    "df_result.info()"
   ]
  },
  {
   "cell_type": "code",
   "execution_count": 57,
   "metadata": {
    "scrolled": true
   },
   "outputs": [
    {
     "data": {
      "text/html": [
       "<div>\n",
       "<style scoped>\n",
       "    .dataframe tbody tr th:only-of-type {\n",
       "        vertical-align: middle;\n",
       "    }\n",
       "\n",
       "    .dataframe tbody tr th {\n",
       "        vertical-align: top;\n",
       "    }\n",
       "\n",
       "    .dataframe thead th {\n",
       "        text-align: right;\n",
       "    }\n",
       "</style>\n",
       "<table border=\"1\" class=\"dataframe\">\n",
       "  <thead>\n",
       "    <tr style=\"text-align: right;\">\n",
       "      <th></th>\n",
       "      <th>card_number</th>\n",
       "      <th>number_win</th>\n",
       "      <th>number_defeats</th>\n",
       "      <th>bet_value</th>\n",
       "      <th>win_value</th>\n",
       "      <th>cashout</th>\n",
       "    </tr>\n",
       "  </thead>\n",
       "  <tbody>\n",
       "    <tr>\n",
       "      <th>count</th>\n",
       "      <td>223.000000</td>\n",
       "      <td>223.000000</td>\n",
       "      <td>223.000000</td>\n",
       "      <td>223.000000</td>\n",
       "      <td>223.000000</td>\n",
       "      <td>223.000000</td>\n",
       "    </tr>\n",
       "    <tr>\n",
       "      <th>mean</th>\n",
       "      <td>3.556054</td>\n",
       "      <td>2.143498</td>\n",
       "      <td>1.417040</td>\n",
       "      <td>0.894978</td>\n",
       "      <td>13.604888</td>\n",
       "      <td>0.346547</td>\n",
       "    </tr>\n",
       "    <tr>\n",
       "      <th>std</th>\n",
       "      <td>1.748937</td>\n",
       "      <td>1.634934</td>\n",
       "      <td>0.991439</td>\n",
       "      <td>0.473605</td>\n",
       "      <td>19.603527</td>\n",
       "      <td>1.256462</td>\n",
       "    </tr>\n",
       "    <tr>\n",
       "      <th>min</th>\n",
       "      <td>1.000000</td>\n",
       "      <td>0.000000</td>\n",
       "      <td>0.000000</td>\n",
       "      <td>0.500000</td>\n",
       "      <td>0.530000</td>\n",
       "      <td>0.000000</td>\n",
       "    </tr>\n",
       "    <tr>\n",
       "      <th>25%</th>\n",
       "      <td>2.000000</td>\n",
       "      <td>1.000000</td>\n",
       "      <td>1.000000</td>\n",
       "      <td>0.500000</td>\n",
       "      <td>4.310000</td>\n",
       "      <td>0.000000</td>\n",
       "    </tr>\n",
       "    <tr>\n",
       "      <th>50%</th>\n",
       "      <td>3.000000</td>\n",
       "      <td>2.000000</td>\n",
       "      <td>1.000000</td>\n",
       "      <td>0.950000</td>\n",
       "      <td>8.740000</td>\n",
       "      <td>0.000000</td>\n",
       "    </tr>\n",
       "    <tr>\n",
       "      <th>75%</th>\n",
       "      <td>4.000000</td>\n",
       "      <td>3.000000</td>\n",
       "      <td>2.000000</td>\n",
       "      <td>1.000000</td>\n",
       "      <td>15.925000</td>\n",
       "      <td>0.000000</td>\n",
       "    </tr>\n",
       "    <tr>\n",
       "      <th>max</th>\n",
       "      <td>11.000000</td>\n",
       "      <td>9.000000</td>\n",
       "      <td>4.000000</td>\n",
       "      <td>2.810000</td>\n",
       "      <td>209.000000</td>\n",
       "      <td>10.920000</td>\n",
       "    </tr>\n",
       "  </tbody>\n",
       "</table>\n",
       "</div>"
      ],
      "text/plain": [
       "       card_number  number_win  number_defeats   bet_value   win_value  \\\n",
       "count   223.000000  223.000000      223.000000  223.000000  223.000000   \n",
       "mean      3.556054    2.143498        1.417040    0.894978   13.604888   \n",
       "std       1.748937    1.634934        0.991439    0.473605   19.603527   \n",
       "min       1.000000    0.000000        0.000000    0.500000    0.530000   \n",
       "25%       2.000000    1.000000        1.000000    0.500000    4.310000   \n",
       "50%       3.000000    2.000000        1.000000    0.950000    8.740000   \n",
       "75%       4.000000    3.000000        2.000000    1.000000   15.925000   \n",
       "max      11.000000    9.000000        4.000000    2.810000  209.000000   \n",
       "\n",
       "          cashout  \n",
       "count  223.000000  \n",
       "mean     0.346547  \n",
       "std      1.256462  \n",
       "min      0.000000  \n",
       "25%      0.000000  \n",
       "50%      0.000000  \n",
       "75%      0.000000  \n",
       "max     10.920000  "
      ]
     },
     "execution_count": 57,
     "metadata": {},
     "output_type": "execute_result"
    }
   ],
   "source": [
    "df_result.describe()"
   ]
  },
  {
   "cell_type": "code",
   "execution_count": 58,
   "metadata": {},
   "outputs": [
    {
     "data": {
      "text/plain": [
       "Index(['card_number', 'number_win', 'number_defeats', 'bet_value', 'win_value',\n",
       "       'cashout', 'card_type', 'result', 'bet_type', 'date'],\n",
       "      dtype='object')"
      ]
     },
     "execution_count": 58,
     "metadata": {},
     "output_type": "execute_result"
    }
   ],
   "source": [
    "df_result.columns"
   ]
  },
  {
   "cell_type": "code",
   "execution_count": 59,
   "metadata": {},
   "outputs": [
    {
     "data": {
      "text/plain": [
       "0    4\n",
       "1    4\n",
       "Name: card_number, dtype: int64"
      ]
     },
     "execution_count": 59,
     "metadata": {},
     "output_type": "execute_result"
    }
   ],
   "source": [
    "df_result['card_number'].head(2)"
   ]
  },
  {
   "cell_type": "code",
   "execution_count": 60,
   "metadata": {},
   "outputs": [
    {
     "data": {
      "text/plain": [
       "<seaborn.axisgrid.PairGrid at 0x773796d39320>"
      ]
     },
     "execution_count": 60,
     "metadata": {},
     "output_type": "execute_result"
    },
    {
     "data": {
      "image/png": "[encoded data removed]",
      "text/plain": [
       "<Figure size 1080x1080 with 42 Axes>"
      ]
     },
     "metadata": {},
     "output_type": "display_data"
    }
   ],
   "source": [
    "sns.pairplot(df_result)"
   ]
  },
  {
   "cell_type": "code",
   "execution_count": 61,
   "metadata": {},
   "outputs": [
    {
     "name": "stderr",
     "output_type": "stream",
     "text": [
      "/home/iva/anaconda3/lib/python3.7/site-packages/scipy/stats/stats.py:1713: FutureWarning: Using a non-tuple sequence for multidimensional indexing is deprecated; use `arr[tuple(seq)]` instead of `arr[seq]`. In the future this will be interpreted as an array index, `arr[np.array(seq)]`, which will result either in an error or a different result.\n",
      "  return np.add.reduce(sorted[indexer] * weights, axis=axis) / sumval\n"
     ]
    },
    {
     "data": {
      "text/plain": [
       "<matplotlib.axes._subplots.AxesSubplot at 0x773795cdd828>"
      ]
     },
     "execution_count": 61,
     "metadata": {},
     "output_type": "execute_result"
    },
    {
     "data": {
      "image/png": "[encoded data removed]",
      "text/plain": [
       "<Figure size 432x288 with 1 Axes>"
      ]
     },
     "metadata": {},
     "output_type": "display_data"
    }
   ],
   "source": [
    "sns.distplot(df_result['card_number'], kde=True, bins=5)"
   ]
  },
  {
   "cell_type": "code",
   "execution_count": 62,
   "metadata": {},
   "outputs": [
    {
     "data": {
      "text/plain": [
       "<matplotlib.axes._subplots.AxesSubplot at 0x7737955329e8>"
      ]
     },
     "execution_count": 62,
     "metadata": {},
     "output_type": "execute_result"
    },
    {
     "data": {
      "image/png": "[encoded data removed]",
      "text/plain": [
       "<Figure size 432x288 with 2 Axes>"
      ]
     },
     "metadata": {},
     "output_type": "display_data"
    }
   ],
   "source": [
    "sns.heatmap(df_result.corr())"
   ]
  },
  {
   "cell_type": "code",
   "execution_count": 63,
   "metadata": {},
   "outputs": [
    {
     "name": "stderr",
     "output_type": "stream",
     "text": [
      "/home/iva/anaconda3/lib/python3.7/site-packages/scipy/stats/stats.py:1713: FutureWarning: Using a non-tuple sequence for multidimensional indexing is deprecated; use `arr[tuple(seq)]` instead of `arr[seq]`. In the future this will be interpreted as an array index, `arr[np.array(seq)]`, which will result either in an error or a different result.\n",
      "  return np.add.reduce(sorted[indexer] * weights, axis=axis) / sumval\n"
     ]
    },
    {
     "data": {
      "text/plain": [
       "<seaborn.axisgrid.JointGrid at 0x773795622e48>"
      ]
     },
     "execution_count": 63,
     "metadata": {},
     "output_type": "execute_result"
    },
    {
     "data": {
      "image/png": "[encoded data removed]",
      "text/plain": [
       "<Figure size 432x432 with 3 Axes>"
      ]
     },
     "metadata": {},
     "output_type": "display_data"
    }
   ],
   "source": [
    "sns.jointplot(x='card_number', y='win_value', data=df_result, kind='kde')"
   ]
  },
  {
   "cell_type": "code",
   "execution_count": 64,
   "metadata": {},
   "outputs": [
    {
     "name": "stderr",
     "output_type": "stream",
     "text": [
      "/home/iva/anaconda3/lib/python3.7/site-packages/scipy/stats/stats.py:1713: FutureWarning: Using a non-tuple sequence for multidimensional indexing is deprecated; use `arr[tuple(seq)]` instead of `arr[seq]`. In the future this will be interpreted as an array index, `arr[np.array(seq)]`, which will result either in an error or a different result.\n",
      "  return np.add.reduce(sorted[indexer] * weights, axis=axis) / sumval\n"
     ]
    },
    {
     "data": {
      "text/plain": [
       "<seaborn.axisgrid.JointGrid at 0x773795162400>"
      ]
     },
     "execution_count": 64,
     "metadata": {},
     "output_type": "execute_result"
    },
    {
     "data": {
      "image/png": "[encoded data removed]",
      "text/plain": [
       "<Figure size 432x432 with 3 Axes>"
      ]
     },
     "metadata": {},
     "output_type": "display_data"
    }
   ],
   "source": [
    "sns.jointplot(x='card_number', y='win_value', data=df_result, kind = \"hex\")"
   ]
  },
  {
   "cell_type": "code",
   "execution_count": 65,
   "metadata": {},
   "outputs": [
    {
     "name": "stderr",
     "output_type": "stream",
     "text": [
      "/home/iva/anaconda3/lib/python3.7/site-packages/scipy/stats/stats.py:1713: FutureWarning: Using a non-tuple sequence for multidimensional indexing is deprecated; use `arr[tuple(seq)]` instead of `arr[seq]`. In the future this will be interpreted as an array index, `arr[np.array(seq)]`, which will result either in an error or a different result.\n",
      "  return np.add.reduce(sorted[indexer] * weights, axis=axis) / sumval\n",
      "/home/iva/anaconda3/lib/python3.7/site-packages/matplotlib/contour.py:1230: UserWarning: No contour levels were found within the data range.\n",
      "  warnings.warn(\"No contour levels were found\"\n"
     ]
    },
    {
     "data": {
      "text/plain": [
       "<seaborn.axisgrid.JointGrid at 0x773794fc4400>"
      ]
     },
     "execution_count": 65,
     "metadata": {},
     "output_type": "execute_result"
    },
    {
     "data": {
      "image/png": "[encoded data removed]",
      "text/plain": [
       "<Figure size 432x432 with 3 Axes>"
      ]
     },
     "metadata": {},
     "output_type": "display_data"
    }
   ],
   "source": [
    "g = sns.jointplot(data=df_result, x='card_number', y='number_defeats')\n",
    "g.plot_joint(sns.kdeplot, color=\"r\", zorder=0, levels=6)\n",
    "g.plot_marginals(sns.rugplot, color=\"r\", height=-.15, clip_on=False)"
   ]
  },
  {
   "cell_type": "markdown",
   "metadata": {},
   "source": [
    "## K Means"
   ]
  },
  {
   "cell_type": "code",
   "execution_count": 66,
   "metadata": {},
   "outputs": [
    {
     "data": {
      "text/plain": [
       "array([[  2.  ,  14.05],\n",
       "       [  3.  ,   7.81],\n",
       "       [  1.  ,  15.77],\n",
       "       [  3.  ,  16.88],\n",
       "       [  4.  ,   8.61],\n",
       "       [  2.  ,  51.74],\n",
       "       [  3.  ,  23.22],\n",
       "       [  2.  ,   5.77],\n",
       "       [  3.  ,  13.06],\n",
       "       [  2.  ,  10.62],\n",
       "       [  3.  ,  10.99],\n",
       "       [  3.  ,   6.48],\n",
       "       [  1.  ,  12.12],\n",
       "       [  3.  ,  11.62],\n",
       "       [  0.  ,   8.74],\n",
       "       [  0.  ,  23.8 ],\n",
       "       [  2.  ,   7.6 ],\n",
       "       [  1.  ,   7.91],\n",
       "       [  1.  ,   6.93],\n",
       "       [  2.  ,  32.12],\n",
       "       [  1.  ,  29.42],\n",
       "       [  6.  ,  35.02],\n",
       "       [  2.  ,  34.31],\n",
       "       [  1.  ,  10.44],\n",
       "       [  1.  ,   3.36],\n",
       "       [  4.  ,  29.22],\n",
       "       [  0.  ,  12.  ],\n",
       "       [  1.  ,   3.28],\n",
       "       [  2.  ,  14.58],\n",
       "       [  2.  ,   9.79],\n",
       "       [  1.  ,  27.96],\n",
       "       [  1.  ,  10.19],\n",
       "       [  2.  ,  17.85],\n",
       "       [  0.  ,  21.93],\n",
       "       [  4.  ,   7.75],\n",
       "       [  5.  ,   4.63],\n",
       "       [  2.  ,   1.64],\n",
       "       [  3.  ,   2.94],\n",
       "       [  2.  ,   6.8 ],\n",
       "       [  3.  ,   7.03],\n",
       "       [  1.  ,   5.04],\n",
       "       [  1.  ,   1.24],\n",
       "       [  1.  ,   1.19],\n",
       "       [  1.  ,   1.27],\n",
       "       [  3.  ,   7.08],\n",
       "       [  2.  ,   5.65],\n",
       "       [  2.  ,   3.42],\n",
       "       [  3.  ,   2.04],\n",
       "       [  3.  ,   4.46],\n",
       "       [  1.  ,   4.62],\n",
       "       [  2.  ,   3.69],\n",
       "       [  3.  ,   2.31],\n",
       "       [  1.  ,   3.68],\n",
       "       [  1.  ,   6.32],\n",
       "       [  3.  ,   6.86],\n",
       "       [  2.  ,   4.75],\n",
       "       [  1.  ,  17.12],\n",
       "       [  1.  ,   4.22],\n",
       "       [  1.  ,   5.14],\n",
       "       [  9.  ,  14.35],\n",
       "       [  2.  ,  13.84],\n",
       "       [  9.  ,  14.35],\n",
       "       [  0.  ,   7.86],\n",
       "       [  0.  ,   4.65],\n",
       "       [  2.  ,  22.46],\n",
       "       [  1.  ,  18.03],\n",
       "       [  3.  ,  18.03],\n",
       "       [  3.  ,  11.48],\n",
       "       [  2.  ,   8.12],\n",
       "       [  0.  ,  13.3 ],\n",
       "       [  2.  ,  19.98],\n",
       "       [  1.  ,  10.77],\n",
       "       [  1.  ,  29.24],\n",
       "       [  2.  ,   7.69],\n",
       "       [  0.  ,   9.87],\n",
       "       [  2.  ,   8.1 ],\n",
       "       [  1.  ,  11.2 ],\n",
       "       [  2.  ,  11.31],\n",
       "       [  1.  ,  12.32],\n",
       "       [  1.  ,  26.86],\n",
       "       [  3.  ,   6.3 ],\n",
       "       [  3.  ,  32.26],\n",
       "       [  2.  ,   7.66],\n",
       "       [  2.  ,   3.09],\n",
       "       [  4.  ,  17.07],\n",
       "       [  3.  ,  11.04],\n",
       "       [  2.  ,  11.93],\n",
       "       [  1.  ,  12.36],\n",
       "       [  7.  ,   4.89],\n",
       "       [  2.  ,  10.49],\n",
       "       [  2.  ,  17.9 ],\n",
       "       [  4.  ,   2.53],\n",
       "       [  2.  ,   6.3 ],\n",
       "       [  4.  ,  29.38],\n",
       "       [  2.  ,   2.59],\n",
       "       [  1.  ,  17.02],\n",
       "       [  0.  ,  15.43],\n",
       "       [  4.  ,  10.03],\n",
       "       [  1.  ,  16.07],\n",
       "       [  2.  ,  24.1 ],\n",
       "       [  1.  ,  26.1 ],\n",
       "       [  3.  ,   1.72],\n",
       "       [  1.  ,  27.84],\n",
       "       [  0.  ,   6.82],\n",
       "       [  5.  ,  55.72],\n",
       "       [  0.  ,  38.98],\n",
       "       [  2.  ,  39.67],\n",
       "       [  1.  ,  12.74],\n",
       "       [  3.  ,  26.36],\n",
       "       [  0.  ,   2.4 ],\n",
       "       [  3.  ,  10.34],\n",
       "       [  2.  ,  10.83],\n",
       "       [  1.  ,   4.37],\n",
       "       [  1.  ,  12.11],\n",
       "       [  5.  ,   8.01],\n",
       "       [  2.  ,   3.96],\n",
       "       [  2.  ,   8.73],\n",
       "       [  3.  ,  41.  ],\n",
       "       [  3.  ,   9.79],\n",
       "       [  2.  ,  13.43],\n",
       "       [  3.  ,  14.54],\n",
       "       [  4.  ,  24.3 ],\n",
       "       [  7.  ,   6.98],\n",
       "       [  3.  ,   3.04],\n",
       "       [  2.  ,   7.77],\n",
       "       [  3.  ,   4.62],\n",
       "       [  0.  ,   4.2 ],\n",
       "       [  2.  ,   4.22],\n",
       "       [  1.  ,   7.56],\n",
       "       [  3.  ,   1.08],\n",
       "       [  3.  ,   4.02],\n",
       "       [  2.  ,  13.77],\n",
       "       [  3.  ,   9.32],\n",
       "       [  1.  ,  23.76],\n",
       "       [  1.  ,   2.37],\n",
       "       [  2.  ,   1.23],\n",
       "       [  1.  ,   5.77],\n",
       "       [  1.  ,  19.  ],\n",
       "       [  2.  ,  19.5 ],\n",
       "       [  2.  ,  22.04],\n",
       "       [  2.  ,  25.2 ],\n",
       "       [  5.  ,   3.13],\n",
       "       [  3.  ,   0.7 ],\n",
       "       [  2.  ,  11.31],\n",
       "       [  1.  ,   0.55],\n",
       "       [  3.  ,   1.24],\n",
       "       [  4.  ,   2.96],\n",
       "       [  2.  ,   8.94],\n",
       "       [  2.  ,   1.45],\n",
       "       [  3.  ,   0.85],\n",
       "       [  2.  ,   4.59],\n",
       "       [  1.  ,  19.78],\n",
       "       [  2.  ,   5.25],\n",
       "       [  1.  ,  10.78],\n",
       "       [  2.  ,   0.97],\n",
       "       [  1.  ,   6.  ],\n",
       "       [  4.  ,   9.49],\n",
       "       [  2.  ,   3.81],\n",
       "       [  2.  ,   6.69],\n",
       "       [  3.  ,  16.  ],\n",
       "       [  3.  ,   1.08],\n",
       "       [  2.  ,  10.03],\n",
       "       [  3.  ,   2.7 ],\n",
       "       [  4.  ,  31.  ],\n",
       "       [  1.  ,   9.24],\n",
       "       [  3.  ,  11.14],\n",
       "       [  2.  ,   7.31],\n",
       "       [  2.  ,   4.06],\n",
       "       [  2.  ,   7.09],\n",
       "       [  3.  ,   8.13],\n",
       "       [  4.  ,   2.23],\n",
       "       [  4.  ,   5.83],\n",
       "       [  2.  ,   6.49],\n",
       "       [  2.  ,   0.64],\n",
       "       [  1.  ,   3.99],\n",
       "       [  1.  ,   0.53],\n",
       "       [  8.  ,  22.68],\n",
       "       [  1.  ,   1.88],\n",
       "       [  3.  ,  28.71],\n",
       "       [  9.  ,  42.18],\n",
       "       [  8.  ,  81.  ],\n",
       "       [  1.  ,   8.5 ],\n",
       "       [  5.  ,  23.02],\n",
       "       [  4.  ,  22.91],\n",
       "       [  2.  ,   1.08],\n",
       "       [  1.  ,  15.85],\n",
       "       [  3.  , 123.55],\n",
       "       [  4.  ,   1.22],\n",
       "       [  3.  ,  50.27],\n",
       "       [  0.  ,  23.97],\n",
       "       [  3.  ,   1.45],\n",
       "       [  3.  ,   3.34],\n",
       "       [  2.  ,   1.72],\n",
       "       [  3.  ,  96.94],\n",
       "       [  2.  ,   1.37],\n",
       "       [  2.  ,  13.54],\n",
       "       [  3.  ,   3.13],\n",
       "       [  1.  ,   1.18],\n",
       "       [  2.  ,  16.75],\n",
       "       [  0.  ,  15.43],\n",
       "       [  1.  ,  12.28],\n",
       "       [  5.  ,   5.25],\n",
       "       [  0.  ,   4.73],\n",
       "       [  1.  ,   9.6 ],\n",
       "       [  0.  ,  10.53],\n",
       "       [  1.  ,   6.72],\n",
       "       [  0.  , 209.  ],\n",
       "       [  1.  ,   5.14],\n",
       "       [  0.  ,  17.6 ],\n",
       "       [  0.  ,   3.25],\n",
       "       [  2.  ,   1.74],\n",
       "       [  1.  ,   4.25],\n",
       "       [  1.  ,  15.22],\n",
       "       [  1.  ,  14.2 ],\n",
       "       [  1.  ,   2.72],\n",
       "       [  1.  ,   8.84],\n",
       "       [  1.  ,   5.5 ],\n",
       "       [  2.  ,   9.45],\n",
       "       [  0.  ,  21.  ],\n",
       "       [  0.  ,   6.5 ],\n",
       "       [  1.  ,  13.65],\n",
       "       [  0.  ,   4.75],\n",
       "       [  1.  ,   0.78]])"
      ]
     },
     "execution_count": 66,
     "metadata": {},
     "output_type": "execute_result"
    }
   ],
   "source": [
    "df_means=df_result.iloc[:,[1,4]].values\n",
    "df_means"
   ]
  },
  {
   "cell_type": "code",
   "execution_count": 67,
   "metadata": {},
   "outputs": [
    {
     "data": {
      "text/plain": [
       "array([ 4,  4,  3,  5,  4,  4,  5,  3,  5,  6,  5,  6,  4,  4,  2,  2,  3,\n",
       "        3,  3,  4,  5,  8,  5,  3,  2,  7,  2,  2,  3,  3,  3,  3,  3,  3,\n",
       "        4,  5,  3,  4,  4,  7,  2,  1,  1,  1,  3,  4,  3,  3,  4,  2,  3,\n",
       "        4,  2,  4,  4,  4,  3,  3,  3, 10,  4, 10,  3,  2,  5,  3,  4,  4,\n",
       "        2,  3,  3,  3,  3,  2,  2,  2,  2,  2,  2,  4,  4,  5,  3,  3,  7,\n",
       "        5,  5,  3,  7,  3,  4,  4,  3,  6,  3,  3,  3,  5,  3,  5,  3,  4,\n",
       "        3,  2,  7,  4,  6,  4,  5,  2,  5,  4,  2,  2,  6,  2,  3,  4,  4,\n",
       "        3,  5,  5,  8,  3,  3,  4,  2,  2,  2,  3,  3,  3,  4,  3,  2,  2,\n",
       "        2,  2,  3,  3,  3,  5,  3,  5,  1,  3,  5,  4,  2,  3,  3,  5,  2,\n",
       "        3,  2,  3,  5,  3,  3,  4,  3,  3,  3,  6,  2,  4,  4,  3,  3,  3,\n",
       "        4,  5,  4,  2,  2,  1,  9,  3,  6, 11, 11,  2,  8,  5,  2,  4,  5,\n",
       "        4,  5,  4,  5,  4,  2,  4,  2,  4,  4,  3,  3,  2,  4,  8,  2,  2,\n",
       "        2,  2,  2,  2,  2,  1,  2,  2,  2,  3,  2,  2,  2,  3,  2,  1,  2,\n",
       "        1,  1])"
      ]
     },
     "execution_count": 67,
     "metadata": {},
     "output_type": "execute_result"
    }
   ],
   "source": [
    "list_rcn = df_result[df_result.columns[0]].tolist()\n",
    "array_rcn = np.array(list_rcn)\n",
    "array_rcn"
   ]
  },
  {
   "cell_type": "code",
   "execution_count": 68,
   "metadata": {},
   "outputs": [
    {
     "data": {
      "text/plain": [
       "array([2, 3, 1, 3, 4, 2, 3, 2, 3, 2, 3, 3, 1, 3, 0, 0, 2, 1, 1, 2, 1, 6,\n",
       "       2, 1, 1, 4, 0, 1, 2, 2, 1, 1, 2, 0, 4, 5, 2, 3, 2, 3, 1, 1, 1, 1,\n",
       "       3, 2, 2, 3, 3, 1, 2, 3, 1, 1, 3, 2, 1, 1, 1, 9, 2, 9, 0, 0, 2, 1,\n",
       "       3, 3, 2, 0, 2, 1, 1, 2, 0, 2, 1, 2, 1, 1, 3, 3, 2, 2, 4, 3, 2, 1,\n",
       "       7, 2, 2, 4, 2, 4, 2, 1, 0, 4, 1, 2, 1, 3, 1, 0, 5, 0, 2, 1, 3, 0,\n",
       "       3, 2, 1, 1, 5, 2, 2, 3, 3, 2, 3, 4, 7, 3, 2, 3, 0, 2, 1, 3, 3, 2,\n",
       "       3, 1, 1, 2, 1, 1, 2, 2, 2, 5, 3, 2, 1, 3, 4, 2, 2, 3, 2, 1, 2, 1,\n",
       "       2, 1, 4, 2, 2, 3, 3, 2, 3, 4, 1, 3, 2, 2, 2, 3, 4, 4, 2, 2, 1, 1,\n",
       "       8, 1, 3, 9, 8, 1, 5, 4, 2, 1, 3, 4, 3, 0, 3, 3, 2, 3, 2, 2, 3, 1,\n",
       "       2, 0, 1, 5, 0, 1, 0, 1, 0, 1, 0, 0, 2, 1, 1, 1, 1, 1, 1, 2, 0, 0,\n",
       "       1, 0, 1])"
      ]
     },
     "execution_count": 68,
     "metadata": {},
     "output_type": "execute_result"
    }
   ],
   "source": [
    "list_rw = df_result[df_result.columns[1]].tolist()\n",
    "array_rw = np.array(list_rw)\n",
    "array_rw"
   ]
  },
  {
   "cell_type": "code",
   "execution_count": 69,
   "metadata": {},
   "outputs": [
    {
     "data": {
      "text/plain": [
       "array([ 14.05,   7.81,  15.77,  16.88,   8.61,  51.74,  23.22,   5.77,\n",
       "        13.06,  10.62,  10.99,   6.48,  12.12,  11.62,   8.74,  23.8 ,\n",
       "         7.6 ,   7.91,   6.93,  32.12,  29.42,  35.02,  34.31,  10.44,\n",
       "         3.36,  29.22,  12.  ,   3.28,  14.58,   9.79,  27.96,  10.19,\n",
       "        17.85,  21.93,   7.75,   4.63,   1.64,   2.94,   6.8 ,   7.03,\n",
       "         5.04,   1.24,   1.19,   1.27,   7.08,   5.65,   3.42,   2.04,\n",
       "         4.46,   4.62,   3.69,   2.31,   3.68,   6.32,   6.86,   4.75,\n",
       "        17.12,   4.22,   5.14,  14.35,  13.84,  14.35,   7.86,   4.65,\n",
       "        22.46,  18.03,  18.03,  11.48,   8.12,  13.3 ,  19.98,  10.77,\n",
       "        29.24,   7.69,   9.87,   8.1 ,  11.2 ,  11.31,  12.32,  26.86,\n",
       "         6.3 ,  32.26,   7.66,   3.09,  17.07,  11.04,  11.93,  12.36,\n",
       "         4.89,  10.49,  17.9 ,   2.53,   6.3 ,  29.38,   2.59,  17.02,\n",
       "        15.43,  10.03,  16.07,  24.1 ,  26.1 ,   1.72,  27.84,   6.82,\n",
       "        55.72,  38.98,  39.67,  12.74,  26.36,   2.4 ,  10.34,  10.83,\n",
       "         4.37,  12.11,   8.01,   3.96,   8.73,  41.  ,   9.79,  13.43,\n",
       "        14.54,  24.3 ,   6.98,   3.04,   7.77,   4.62,   4.2 ,   4.22,\n",
       "         7.56,   1.08,   4.02,  13.77,   9.32,  23.76,   2.37,   1.23,\n",
       "         5.77,  19.  ,  19.5 ,  22.04,  25.2 ,   3.13,   0.7 ,  11.31,\n",
       "         0.55,   1.24,   2.96,   8.94,   1.45,   0.85,   4.59,  19.78,\n",
       "         5.25,  10.78,   0.97,   6.  ,   9.49,   3.81,   6.69,  16.  ,\n",
       "         1.08,  10.03,   2.7 ,  31.  ,   9.24,  11.14,   7.31,   4.06,\n",
       "         7.09,   8.13,   2.23,   5.83,   6.49,   0.64,   3.99,   0.53,\n",
       "        22.68,   1.88,  28.71,  42.18,  81.  ,   8.5 ,  23.02,  22.91,\n",
       "         1.08,  15.85, 123.55,   1.22,  50.27,  23.97,   1.45,   3.34,\n",
       "         1.72,  96.94,   1.37,  13.54,   3.13,   1.18,  16.75,  15.43,\n",
       "        12.28,   5.25,   4.73,   9.6 ,  10.53,   6.72, 209.  ,   5.14,\n",
       "        17.6 ,   3.25,   1.74,   4.25,  15.22,  14.2 ,   2.72,   8.84,\n",
       "         5.5 ,   9.45,  21.  ,   6.5 ,  13.65,   4.75,   0.78])"
      ]
     },
     "execution_count": 69,
     "metadata": {},
     "output_type": "execute_result"
    }
   ],
   "source": [
    "list_rwv = df_result[df_result.columns[4]].tolist()\n",
    "array_rwv = np.array(list_rwv)\n",
    "array_rwv"
   ]
  },
  {
   "cell_type": "code",
   "execution_count": 70,
   "metadata": {},
   "outputs": [
    {
     "data": {
      "text/plain": [
       "array([2., 3., 1., 3., 4., 2., 3., 2., 3., 2., 3., 3., 1., 3., 0., 0., 2.,\n",
       "       1., 1., 2., 1., 6., 2., 1., 1., 4., 0., 1., 2., 2., 1., 1., 2., 0.,\n",
       "       4., 5., 2., 3., 2., 3., 1., 1., 1., 1., 3., 2., 2., 3., 3., 1., 2.,\n",
       "       3., 1., 1., 3., 2., 1., 1., 1., 9., 2., 9., 0., 0., 2., 1., 3., 3.,\n",
       "       2., 0., 2., 1., 1., 2., 0., 2., 1., 2., 1., 1., 3., 3., 2., 2., 4.,\n",
       "       3., 2., 1., 7., 2., 2., 4., 2., 4., 2., 1., 0., 4., 1., 2., 1., 3.,\n",
       "       1., 0., 5., 0., 2., 1., 3., 0., 3., 2., 1., 1., 5., 2., 2., 3., 3.,\n",
       "       2., 3., 4., 7., 3., 2., 3., 0., 2., 1., 3., 3., 2., 3., 1., 1., 2.,\n",
       "       1., 1., 2., 2., 2., 5., 3., 2., 1., 3., 4., 2., 2., 3., 2., 1., 2.,\n",
       "       1., 2., 1., 4., 2., 2., 3., 3., 2., 3., 4., 1., 3., 2., 2., 2., 3.,\n",
       "       4., 4., 2., 2., 1., 1., 8., 1., 3., 9., 8., 1., 5., 4., 2., 1., 3.,\n",
       "       4., 3., 0., 3., 3., 2., 3., 2., 2., 3., 1., 2., 0., 1., 5., 0., 1.,\n",
       "       0., 1., 0., 1., 0., 0., 2., 1., 1., 1., 1., 1., 1., 2., 0., 0., 1.,\n",
       "       0., 1.])"
      ]
     },
     "execution_count": 70,
     "metadata": {},
     "output_type": "execute_result"
    }
   ],
   "source": [
    "list_result=[df_means,array_rcn]\n",
    "list_result[0][:,0]"
   ]
  },
  {
   "cell_type": "code",
   "execution_count": 71,
   "metadata": {
    "scrolled": true
   },
   "outputs": [
    {
     "data": {
      "text/plain": [
       "array([ 14.05,   7.81,  15.77,  16.88,   8.61,  51.74,  23.22,   5.77,\n",
       "        13.06,  10.62,  10.99,   6.48,  12.12,  11.62,   8.74,  23.8 ,\n",
       "         7.6 ,   7.91,   6.93,  32.12,  29.42,  35.02,  34.31,  10.44,\n",
       "         3.36,  29.22,  12.  ,   3.28,  14.58,   9.79,  27.96,  10.19,\n",
       "        17.85,  21.93,   7.75,   4.63,   1.64,   2.94,   6.8 ,   7.03,\n",
       "         5.04,   1.24,   1.19,   1.27,   7.08,   5.65,   3.42,   2.04,\n",
       "         4.46,   4.62,   3.69,   2.31,   3.68,   6.32,   6.86,   4.75,\n",
       "        17.12,   4.22,   5.14,  14.35,  13.84,  14.35,   7.86,   4.65,\n",
       "        22.46,  18.03,  18.03,  11.48,   8.12,  13.3 ,  19.98,  10.77,\n",
       "        29.24,   7.69,   9.87,   8.1 ,  11.2 ,  11.31,  12.32,  26.86,\n",
       "         6.3 ,  32.26,   7.66,   3.09,  17.07,  11.04,  11.93,  12.36,\n",
       "         4.89,  10.49,  17.9 ,   2.53,   6.3 ,  29.38,   2.59,  17.02,\n",
       "        15.43,  10.03,  16.07,  24.1 ,  26.1 ,   1.72,  27.84,   6.82,\n",
       "        55.72,  38.98,  39.67,  12.74,  26.36,   2.4 ,  10.34,  10.83,\n",
       "         4.37,  12.11,   8.01,   3.96,   8.73,  41.  ,   9.79,  13.43,\n",
       "        14.54,  24.3 ,   6.98,   3.04,   7.77,   4.62,   4.2 ,   4.22,\n",
       "         7.56,   1.08,   4.02,  13.77,   9.32,  23.76,   2.37,   1.23,\n",
       "         5.77,  19.  ,  19.5 ,  22.04,  25.2 ,   3.13,   0.7 ,  11.31,\n",
       "         0.55,   1.24,   2.96,   8.94,   1.45,   0.85,   4.59,  19.78,\n",
       "         5.25,  10.78,   0.97,   6.  ,   9.49,   3.81,   6.69,  16.  ,\n",
       "         1.08,  10.03,   2.7 ,  31.  ,   9.24,  11.14,   7.31,   4.06,\n",
       "         7.09,   8.13,   2.23,   5.83,   6.49,   0.64,   3.99,   0.53,\n",
       "        22.68,   1.88,  28.71,  42.18,  81.  ,   8.5 ,  23.02,  22.91,\n",
       "         1.08,  15.85, 123.55,   1.22,  50.27,  23.97,   1.45,   3.34,\n",
       "         1.72,  96.94,   1.37,  13.54,   3.13,   1.18,  16.75,  15.43,\n",
       "        12.28,   5.25,   4.73,   9.6 ,  10.53,   6.72, 209.  ,   5.14,\n",
       "        17.6 ,   3.25,   1.74,   4.25,  15.22,  14.2 ,   2.72,   8.84,\n",
       "         5.5 ,   9.45,  21.  ,   6.5 ,  13.65,   4.75,   0.78])"
      ]
     },
     "execution_count": 71,
     "metadata": {},
     "output_type": "execute_result"
    }
   ],
   "source": [
    "list_result[0][:,1]"
   ]
  },
  {
   "cell_type": "code",
   "execution_count": 72,
   "metadata": {},
   "outputs": [
    {
     "data": {
      "text/plain": [
       "array([ 4,  4,  3,  5,  4,  4,  5,  3,  5,  6,  5,  6,  4,  4,  2,  2,  3,\n",
       "        3,  3,  4,  5,  8,  5,  3,  2,  7,  2,  2,  3,  3,  3,  3,  3,  3,\n",
       "        4,  5,  3,  4,  4,  7,  2,  1,  1,  1,  3,  4,  3,  3,  4,  2,  3,\n",
       "        4,  2,  4,  4,  4,  3,  3,  3, 10,  4, 10,  3,  2,  5,  3,  4,  4,\n",
       "        2,  3,  3,  3,  3,  2,  2,  2,  2,  2,  2,  4,  4,  5,  3,  3,  7,\n",
       "        5,  5,  3,  7,  3,  4,  4,  3,  6,  3,  3,  3,  5,  3,  5,  3,  4,\n",
       "        3,  2,  7,  4,  6,  4,  5,  2,  5,  4,  2,  2,  6,  2,  3,  4,  4,\n",
       "        3,  5,  5,  8,  3,  3,  4,  2,  2,  2,  3,  3,  3,  4,  3,  2,  2,\n",
       "        2,  2,  3,  3,  3,  5,  3,  5,  1,  3,  5,  4,  2,  3,  3,  5,  2,\n",
       "        3,  2,  3,  5,  3,  3,  4,  3,  3,  3,  6,  2,  4,  4,  3,  3,  3,\n",
       "        4,  5,  4,  2,  2,  1,  9,  3,  6, 11, 11,  2,  8,  5,  2,  4,  5,\n",
       "        4,  5,  4,  5,  4,  2,  4,  2,  4,  4,  3,  3,  2,  4,  8,  2,  2,\n",
       "        2,  2,  2,  2,  2,  1,  2,  2,  2,  3,  2,  2,  2,  3,  2,  1,  2,\n",
       "        1,  1])"
      ]
     },
     "execution_count": 72,
     "metadata": {},
     "output_type": "execute_result"
    }
   ],
   "source": [
    "list_result[1]"
   ]
  },
  {
   "cell_type": "code",
   "execution_count": 73,
   "metadata": {},
   "outputs": [],
   "source": [
    "from sklearn.datasets import make_blobs"
   ]
  },
  {
   "cell_type": "code",
   "execution_count": 74,
   "metadata": {
    "scrolled": true
   },
   "outputs": [
    {
     "data": {
      "text/plain": [
       "<matplotlib.collections.PathCollection at 0x773794e731d0>"
      ]
     },
     "execution_count": 74,
     "metadata": {},
     "output_type": "execute_result"
    },
    {
     "data": {
      "image/png": "[encoded data removed]",
      "text/plain": [
       "<Figure size 432x288 with 1 Axes>"
      ]
     },
     "metadata": {},
     "output_type": "display_data"
    }
   ],
   "source": [
    "plt.scatter(list_result[0][:,0],list_result[0][:,1],c=list_result[1],cmap='rainbow')"
   ]
  },
  {
   "cell_type": "code",
   "execution_count": 75,
   "metadata": {},
   "outputs": [],
   "source": [
    "from sklearn.cluster import KMeans"
   ]
  },
  {
   "cell_type": "code",
   "execution_count": 76,
   "metadata": {},
   "outputs": [],
   "source": [
    "kmeans = KMeans(n_clusters=3)"
   ]
  },
  {
   "cell_type": "code",
   "execution_count": 77,
   "metadata": {},
   "outputs": [
    {
     "data": {
      "text/plain": [
       "KMeans(algorithm='auto', copy_x=True, init='k-means++', max_iter=300,\n",
       "    n_clusters=3, n_init=10, n_jobs=1, precompute_distances='auto',\n",
       "    random_state=None, tol=0.0001, verbose=0)"
      ]
     },
     "execution_count": 77,
     "metadata": {},
     "output_type": "execute_result"
    }
   ],
   "source": [
    "kmeans.fit(df_means)"
   ]
  },
  {
   "cell_type": "code",
   "execution_count": 78,
   "metadata": {},
   "outputs": [
    {
     "data": {
      "text/plain": [
       "array([[  2.02777778,   7.6355    ],\n",
       "       [  2.        , 143.16333333],\n",
       "       [  2.675     ,  30.75025   ]])"
      ]
     },
     "execution_count": 78,
     "metadata": {},
     "output_type": "execute_result"
    }
   ],
   "source": [
    "kmeans.cluster_centers_"
   ]
  },
  {
   "cell_type": "code",
   "execution_count": 79,
   "metadata": {},
   "outputs": [
    {
     "data": {
      "text/plain": [
       "array([0, 0, 0, 0, 0, 2, 2, 0, 0, 0, 0, 0, 0, 0, 0, 2, 0, 0, 0, 2, 2, 2,\n",
       "       2, 0, 0, 2, 0, 0, 0, 0, 2, 0, 0, 2, 0, 0, 0, 0, 0, 0, 0, 0, 0, 0,\n",
       "       0, 0, 0, 0, 0, 0, 0, 0, 0, 0, 0, 0, 0, 0, 0, 0, 0, 0, 0, 0, 2, 0,\n",
       "       0, 0, 0, 0, 2, 0, 2, 0, 0, 0, 0, 0, 0, 2, 0, 2, 0, 0, 0, 0, 0, 0,\n",
       "       0, 0, 0, 0, 0, 2, 0, 0, 0, 0, 0, 2, 2, 0, 2, 0, 2, 2, 2, 0, 2, 0,\n",
       "       0, 0, 0, 0, 0, 0, 0, 2, 0, 0, 0, 2, 0, 0, 0, 0, 0, 0, 0, 0, 0, 0,\n",
       "       0, 2, 0, 0, 0, 0, 2, 2, 2, 0, 0, 0, 0, 0, 0, 0, 0, 0, 0, 2, 0, 0,\n",
       "       0, 0, 0, 0, 0, 0, 0, 0, 0, 2, 0, 0, 0, 0, 0, 0, 0, 0, 0, 0, 0, 0,\n",
       "       2, 0, 2, 2, 2, 0, 2, 2, 0, 0, 1, 0, 2, 2, 0, 0, 0, 1, 0, 0, 0, 0,\n",
       "       0, 0, 0, 0, 0, 0, 0, 0, 1, 0, 0, 0, 0, 0, 0, 0, 0, 0, 0, 0, 2, 0,\n",
       "       0, 0, 0], dtype=int32)"
      ]
     },
     "execution_count": 79,
     "metadata": {},
     "output_type": "execute_result"
    }
   ],
   "source": [
    "kmeans.labels_"
   ]
  },
  {
   "cell_type": "code",
   "execution_count": 80,
   "metadata": {},
   "outputs": [
    {
     "data": {
      "text/plain": [
       "<matplotlib.collections.PathCollection at 0x773794bb4588>"
      ]
     },
     "execution_count": 80,
     "metadata": {},
     "output_type": "execute_result"
    },
    {
     "data": {
      "image/png": "[encoded data removed]",
      "text/plain": [
       "<Figure size 720x432 with 2 Axes>"
      ]
     },
     "metadata": {},
     "output_type": "display_data"
    }
   ],
   "source": [
    "f, (ax1, ax2) = plt.subplots(1, 2, sharey=True,figsize=(10,6))\n",
    "ax1.set_title('K Means')\n",
    "ax1.scatter(list_result[0][:,0],list_result[0][:,1],c=kmeans.labels_,cmap='rainbow')\n",
    "ax2.set_title(\"Original\")\n",
    "ax2.scatter(list_result[0][:,0],list_result[0][:,1],c=list_result[1],cmap='rainbow')"
   ]
  },
  {
   "cell_type": "code",
   "execution_count": 81,
   "metadata": {},
   "outputs": [
    {
     "data": {
      "text/html": [
       "<div>\n",
       "<style scoped>\n",
       "    .dataframe tbody tr th:only-of-type {\n",
       "        vertical-align: middle;\n",
       "    }\n",
       "\n",
       "    .dataframe tbody tr th {\n",
       "        vertical-align: top;\n",
       "    }\n",
       "\n",
       "    .dataframe thead th {\n",
       "        text-align: right;\n",
       "    }\n",
       "</style>\n",
       "<table border=\"1\" class=\"dataframe\">\n",
       "  <thead>\n",
       "    <tr style=\"text-align: right;\">\n",
       "      <th></th>\n",
       "      <th>card_number</th>\n",
       "      <th>number_win</th>\n",
       "      <th>number_defeats</th>\n",
       "      <th>bet_value</th>\n",
       "      <th>win_value</th>\n",
       "      <th>cashout</th>\n",
       "      <th>card_type</th>\n",
       "      <th>result</th>\n",
       "      <th>bet_type</th>\n",
       "      <th>date</th>\n",
       "    </tr>\n",
       "  </thead>\n",
       "  <tbody>\n",
       "    <tr>\n",
       "      <th>0</th>\n",
       "      <td>4</td>\n",
       "      <td>2</td>\n",
       "      <td>2</td>\n",
       "      <td>1.0</td>\n",
       "      <td>14.05</td>\n",
       "      <td>0.0</td>\n",
       "      <td>combo</td>\n",
       "      <td>defeats</td>\n",
       "      <td>per goal</td>\n",
       "      <td>2024-08-01</td>\n",
       "    </tr>\n",
       "  </tbody>\n",
       "</table>\n",
       "</div>"
      ],
      "text/plain": [
       "   card_number  number_win  number_defeats  bet_value  win_value  cashout  \\\n",
       "0            4           2               2        1.0      14.05      0.0   \n",
       "\n",
       "  card_type   result  bet_type        date  \n",
       "0     combo  defeats  per goal  2024-08-01  "
      ]
     },
     "execution_count": 81,
     "metadata": {},
     "output_type": "execute_result"
    }
   ],
   "source": [
    "df_result.head(1)"
   ]
  },
  {
   "cell_type": "code",
   "execution_count": 82,
   "metadata": {},
   "outputs": [],
   "source": [
    "filter_result = np.where((df_result['result'] == 'win') | (df_result['result'] == 'defeats'))"
   ]
  },
  {
   "cell_type": "code",
   "execution_count": 83,
   "metadata": {},
   "outputs": [
    {
     "data": {
      "text/plain": [
       "(array([  0,   1,   2,   3,   4,   5,   8,   9,  10,  11,  12,  13,  14,\n",
       "         15,  16,  17,  18,  20,  22,  23,  24,  25,  26,  27,  28,  29,\n",
       "         30,  31,  32,  33,  34,  35,  36,  37,  38,  39,  40,  41,  42,\n",
       "         43,  44,  45,  46,  47,  48,  49,  50,  51,  52,  53,  54,  55,\n",
       "         56,  57,  58,  59,  60,  61,  62,  63,  64,  65,  66,  68,  69,\n",
       "         70,  71,  72,  73,  74,  75,  76,  77,  78,  79,  80,  81,  82,\n",
       "         83,  84,  85,  86,  87,  88,  89,  90,  91,  92,  93,  94,  95,\n",
       "         96,  97,  98,  99, 100, 101, 102, 103, 104, 105, 106, 107, 108,\n",
       "        109, 110, 111, 112, 113, 114, 115, 116, 117, 118, 119, 120, 121,\n",
       "        122, 123, 124, 125, 126, 127, 128, 129, 130, 131, 132, 133, 134,\n",
       "        135, 136, 137, 138, 139, 140, 141, 142, 143, 144, 145, 146, 147,\n",
       "        148, 149, 150, 151, 152, 153, 154, 155, 156, 157, 158, 159, 160,\n",
       "        161, 162, 163, 164, 165, 166, 167, 168, 169, 170, 171, 172, 173,\n",
       "        174, 175, 176, 177, 178, 179, 180, 181, 182, 183, 184, 185, 186,\n",
       "        187, 188, 189, 190, 191, 192, 193, 194, 195, 196, 197, 198, 199,\n",
       "        200, 201, 202, 203, 204, 205, 206, 207, 208, 209, 210, 211, 212,\n",
       "        213, 214, 215, 216, 217, 218, 219, 220, 221, 222]),)"
      ]
     },
     "execution_count": 83,
     "metadata": {},
     "output_type": "execute_result"
    }
   ],
   "source": [
    "filter_result "
   ]
  },
  {
   "cell_type": "code",
   "execution_count": 84,
   "metadata": {},
   "outputs": [
    {
     "data": {
      "text/html": [
       "<div>\n",
       "<style scoped>\n",
       "    .dataframe tbody tr th:only-of-type {\n",
       "        vertical-align: middle;\n",
       "    }\n",
       "\n",
       "    .dataframe tbody tr th {\n",
       "        vertical-align: top;\n",
       "    }\n",
       "\n",
       "    .dataframe thead th {\n",
       "        text-align: right;\n",
       "    }\n",
       "</style>\n",
       "<table border=\"1\" class=\"dataframe\">\n",
       "  <thead>\n",
       "    <tr style=\"text-align: right;\">\n",
       "      <th></th>\n",
       "      <th>card_number</th>\n",
       "      <th>number_win</th>\n",
       "      <th>number_defeats</th>\n",
       "      <th>bet_value</th>\n",
       "      <th>win_value</th>\n",
       "      <th>cashout</th>\n",
       "      <th>card_type</th>\n",
       "      <th>result</th>\n",
       "      <th>bet_type</th>\n",
       "      <th>date</th>\n",
       "    </tr>\n",
       "  </thead>\n",
       "  <tbody>\n",
       "    <tr>\n",
       "      <th>0</th>\n",
       "      <td>4</td>\n",
       "      <td>2</td>\n",
       "      <td>2</td>\n",
       "      <td>1.00</td>\n",
       "      <td>14.05</td>\n",
       "      <td>0.0</td>\n",
       "      <td>combo</td>\n",
       "      <td>defeats</td>\n",
       "      <td>per goal</td>\n",
       "      <td>2024-08-01</td>\n",
       "    </tr>\n",
       "    <tr>\n",
       "      <th>1</th>\n",
       "      <td>4</td>\n",
       "      <td>3</td>\n",
       "      <td>1</td>\n",
       "      <td>1.00</td>\n",
       "      <td>7.81</td>\n",
       "      <td>0.0</td>\n",
       "      <td>combo</td>\n",
       "      <td>defeats</td>\n",
       "      <td>per goal</td>\n",
       "      <td>2024-08-01</td>\n",
       "    </tr>\n",
       "    <tr>\n",
       "      <th>2</th>\n",
       "      <td>3</td>\n",
       "      <td>1</td>\n",
       "      <td>2</td>\n",
       "      <td>1.00</td>\n",
       "      <td>15.77</td>\n",
       "      <td>0.0</td>\n",
       "      <td>combo</td>\n",
       "      <td>defeats</td>\n",
       "      <td>per goal</td>\n",
       "      <td>2024-08-01</td>\n",
       "    </tr>\n",
       "    <tr>\n",
       "      <th>3</th>\n",
       "      <td>5</td>\n",
       "      <td>3</td>\n",
       "      <td>2</td>\n",
       "      <td>1.00</td>\n",
       "      <td>16.88</td>\n",
       "      <td>0.0</td>\n",
       "      <td>combo</td>\n",
       "      <td>defeats</td>\n",
       "      <td>per goal</td>\n",
       "      <td>2024-08-01</td>\n",
       "    </tr>\n",
       "    <tr>\n",
       "      <th>4</th>\n",
       "      <td>4</td>\n",
       "      <td>4</td>\n",
       "      <td>0</td>\n",
       "      <td>1.57</td>\n",
       "      <td>8.61</td>\n",
       "      <td>0.0</td>\n",
       "      <td>combo</td>\n",
       "      <td>win</td>\n",
       "      <td>per goal</td>\n",
       "      <td>2024-08-01</td>\n",
       "    </tr>\n",
       "  </tbody>\n",
       "</table>\n",
       "</div>"
      ],
      "text/plain": [
       "   card_number  number_win  number_defeats  bet_value  win_value  cashout  \\\n",
       "0            4           2               2       1.00      14.05      0.0   \n",
       "1            4           3               1       1.00       7.81      0.0   \n",
       "2            3           1               2       1.00      15.77      0.0   \n",
       "3            5           3               2       1.00      16.88      0.0   \n",
       "4            4           4               0       1.57       8.61      0.0   \n",
       "\n",
       "  card_type   result  bet_type        date  \n",
       "0     combo  defeats  per goal  2024-08-01  \n",
       "1     combo  defeats  per goal  2024-08-01  \n",
       "2     combo  defeats  per goal  2024-08-01  \n",
       "3     combo  defeats  per goal  2024-08-01  \n",
       "4     combo      win  per goal  2024-08-01  "
      ]
     },
     "execution_count": 84,
     "metadata": {},
     "output_type": "execute_result"
    }
   ],
   "source": [
    "result=df_result.loc[filter_result]\n",
    "result.head()"
   ]
  },
  {
   "cell_type": "code",
   "execution_count": 85,
   "metadata": {},
   "outputs": [
    {
     "name": "stderr",
     "output_type": "stream",
     "text": [
      "/home/iva/anaconda3/lib/python3.7/site-packages/seaborn/regression.py:546: UserWarning: The `size` paramter has been renamed to `height`; please update your code.\n",
      "  warnings.warn(msg, UserWarning)\n"
     ]
    },
    {
     "data": {
      "text/plain": [
       "<seaborn.axisgrid.FacetGrid at 0x773794b7a860>"
      ]
     },
     "execution_count": 85,
     "metadata": {},
     "output_type": "execute_result"
    },
    {
     "data": {
      "image/png": "[encoded data removed]",
      "text/plain": [
       "<Figure size 505.5x432 with 1 Axes>"
      ]
     },
     "metadata": {},
     "output_type": "display_data"
    }
   ],
   "source": [
    "sns.set_style('whitegrid')\n",
    "sns.lmplot('number_win','number_defeats',data=result, hue='result',\n",
    "           palette='coolwarm',size=6,aspect=1,fit_reg=False)"
   ]
  },
  {
   "cell_type": "code",
   "execution_count": 86,
   "metadata": {},
   "outputs": [
    {
     "name": "stderr",
     "output_type": "stream",
     "text": [
      "/home/iva/anaconda3/lib/python3.7/site-packages/seaborn/regression.py:546: UserWarning: The `size` paramter has been renamed to `height`; please update your code.\n",
      "  warnings.warn(msg, UserWarning)\n"
     ]
    },
    {
     "data": {
      "text/plain": [
       "<seaborn.axisgrid.FacetGrid at 0x773794b6ecc0>"
      ]
     },
     "execution_count": 86,
     "metadata": {},
     "output_type": "execute_result"
    },
    {
     "data": {
      "image/png": "[encoded data removed]",
      "text/plain": [
       "<Figure size 505.5x432 with 1 Axes>"
      ]
     },
     "metadata": {},
     "output_type": "display_data"
    }
   ],
   "source": [
    "sns.set_style('whitegrid')\n",
    "sns.lmplot('card_number','win_value',data=result, hue='result',\n",
    "           palette='coolwarm',size=6,aspect=1,fit_reg=False)"
   ]
  },
  {
   "cell_type": "code",
   "execution_count": 87,
   "metadata": {},
   "outputs": [],
   "source": [
    "filter_win = np.where((df_result['result'] == 'win'))"
   ]
  },
  {
   "cell_type": "code",
   "execution_count": 88,
   "metadata": {},
   "outputs": [
    {
     "data": {
      "text/html": [
       "<div>\n",
       "<style scoped>\n",
       "    .dataframe tbody tr th:only-of-type {\n",
       "        vertical-align: middle;\n",
       "    }\n",
       "\n",
       "    .dataframe tbody tr th {\n",
       "        vertical-align: top;\n",
       "    }\n",
       "\n",
       "    .dataframe thead th {\n",
       "        text-align: right;\n",
       "    }\n",
       "</style>\n",
       "<table border=\"1\" class=\"dataframe\">\n",
       "  <thead>\n",
       "    <tr style=\"text-align: right;\">\n",
       "      <th></th>\n",
       "      <th>card_number</th>\n",
       "      <th>number_win</th>\n",
       "      <th>number_defeats</th>\n",
       "      <th>bet_value</th>\n",
       "      <th>win_value</th>\n",
       "      <th>cashout</th>\n",
       "      <th>card_type</th>\n",
       "      <th>result</th>\n",
       "      <th>bet_type</th>\n",
       "      <th>date</th>\n",
       "    </tr>\n",
       "  </thead>\n",
       "  <tbody>\n",
       "    <tr>\n",
       "      <th>4</th>\n",
       "      <td>4</td>\n",
       "      <td>4</td>\n",
       "      <td>0</td>\n",
       "      <td>1.57</td>\n",
       "      <td>8.61</td>\n",
       "      <td>0.0</td>\n",
       "      <td>combo</td>\n",
       "      <td>win</td>\n",
       "      <td>per goal</td>\n",
       "      <td>2024-08-01</td>\n",
       "    </tr>\n",
       "    <tr>\n",
       "      <th>34</th>\n",
       "      <td>4</td>\n",
       "      <td>4</td>\n",
       "      <td>0</td>\n",
       "      <td>1.63</td>\n",
       "      <td>7.75</td>\n",
       "      <td>0.0</td>\n",
       "      <td>combo</td>\n",
       "      <td>win</td>\n",
       "      <td>per win</td>\n",
       "      <td>2024-08-31</td>\n",
       "    </tr>\n",
       "    <tr>\n",
       "      <th>35</th>\n",
       "      <td>5</td>\n",
       "      <td>5</td>\n",
       "      <td>0</td>\n",
       "      <td>1.00</td>\n",
       "      <td>4.63</td>\n",
       "      <td>0.0</td>\n",
       "      <td>combo</td>\n",
       "      <td>win</td>\n",
       "      <td>per win</td>\n",
       "      <td>2024-08-31</td>\n",
       "    </tr>\n",
       "    <tr>\n",
       "      <th>41</th>\n",
       "      <td>1</td>\n",
       "      <td>1</td>\n",
       "      <td>0</td>\n",
       "      <td>0.95</td>\n",
       "      <td>1.24</td>\n",
       "      <td>0.0</td>\n",
       "      <td>unique</td>\n",
       "      <td>win</td>\n",
       "      <td>per win</td>\n",
       "      <td>2024-08-31</td>\n",
       "    </tr>\n",
       "    <tr>\n",
       "      <th>42</th>\n",
       "      <td>1</td>\n",
       "      <td>1</td>\n",
       "      <td>0</td>\n",
       "      <td>0.95</td>\n",
       "      <td>1.19</td>\n",
       "      <td>0.0</td>\n",
       "      <td>unique</td>\n",
       "      <td>win</td>\n",
       "      <td>per win</td>\n",
       "      <td>2024-08-31</td>\n",
       "    </tr>\n",
       "  </tbody>\n",
       "</table>\n",
       "</div>"
      ],
      "text/plain": [
       "    card_number  number_win  number_defeats  bet_value  win_value  cashout  \\\n",
       "4             4           4               0       1.57       8.61      0.0   \n",
       "34            4           4               0       1.63       7.75      0.0   \n",
       "35            5           5               0       1.00       4.63      0.0   \n",
       "41            1           1               0       0.95       1.24      0.0   \n",
       "42            1           1               0       0.95       1.19      0.0   \n",
       "\n",
       "   card_type result  bet_type        date  \n",
       "4      combo    win  per goal  2024-08-01  \n",
       "34     combo    win   per win  2024-08-31  \n",
       "35     combo    win   per win  2024-08-31  \n",
       "41    unique    win   per win  2024-08-31  \n",
       "42    unique    win   per win  2024-08-31  "
      ]
     },
     "execution_count": 88,
     "metadata": {},
     "output_type": "execute_result"
    }
   ],
   "source": [
    "result_win=df_result.loc[filter_win]\n",
    "result_win.head()"
   ]
  },
  {
   "cell_type": "code",
   "execution_count": 89,
   "metadata": {},
   "outputs": [
    {
     "name": "stderr",
     "output_type": "stream",
     "text": [
      "/home/iva/anaconda3/lib/python3.7/site-packages/seaborn/axisgrid.py:230: UserWarning: The `size` paramter has been renamed to `height`; please update your code.\n",
      "  warnings.warn(msg, UserWarning)\n"
     ]
    },
    {
     "data": {
      "image/png": "[encoded data removed]",
      "text/plain": [
       "<Figure size 720x360 with 1 Axes>"
      ]
     },
     "metadata": {},
     "output_type": "display_data"
    }
   ],
   "source": [
    "sns.set_style('darkgrid')\n",
    "g = sns.FacetGrid(result_win,hue=\"result\",palette='coolwarm',size=5,aspect=2)\n",
    "g = g.map(plt.hist,'win_value',bins=10,alpha=0.9)"
   ]
  },
  {
   "cell_type": "code",
   "execution_count": 90,
   "metadata": {},
   "outputs": [
    {
     "data": {
      "text/html": [
       "<div>\n",
       "<style scoped>\n",
       "    .dataframe tbody tr th:only-of-type {\n",
       "        vertical-align: middle;\n",
       "    }\n",
       "\n",
       "    .dataframe tbody tr th {\n",
       "        vertical-align: top;\n",
       "    }\n",
       "\n",
       "    .dataframe thead th {\n",
       "        text-align: right;\n",
       "    }\n",
       "</style>\n",
       "<table border=\"1\" class=\"dataframe\">\n",
       "  <thead>\n",
       "    <tr style=\"text-align: right;\">\n",
       "      <th></th>\n",
       "      <th>card_number</th>\n",
       "      <th>number_win</th>\n",
       "      <th>number_defeats</th>\n",
       "      <th>bet_value</th>\n",
       "      <th>win_value</th>\n",
       "      <th>cashout</th>\n",
       "      <th>card_type</th>\n",
       "      <th>result</th>\n",
       "      <th>bet_type</th>\n",
       "      <th>date</th>\n",
       "    </tr>\n",
       "  </thead>\n",
       "  <tbody>\n",
       "    <tr>\n",
       "      <th>0</th>\n",
       "      <td>4</td>\n",
       "      <td>2</td>\n",
       "      <td>2</td>\n",
       "      <td>1.0</td>\n",
       "      <td>14.05</td>\n",
       "      <td>0.0</td>\n",
       "      <td>combo</td>\n",
       "      <td>defeats</td>\n",
       "      <td>per goal</td>\n",
       "      <td>2024-08-01</td>\n",
       "    </tr>\n",
       "    <tr>\n",
       "      <th>1</th>\n",
       "      <td>4</td>\n",
       "      <td>3</td>\n",
       "      <td>1</td>\n",
       "      <td>1.0</td>\n",
       "      <td>7.81</td>\n",
       "      <td>0.0</td>\n",
       "      <td>combo</td>\n",
       "      <td>defeats</td>\n",
       "      <td>per goal</td>\n",
       "      <td>2024-08-01</td>\n",
       "    </tr>\n",
       "    <tr>\n",
       "      <th>2</th>\n",
       "      <td>3</td>\n",
       "      <td>1</td>\n",
       "      <td>2</td>\n",
       "      <td>1.0</td>\n",
       "      <td>15.77</td>\n",
       "      <td>0.0</td>\n",
       "      <td>combo</td>\n",
       "      <td>defeats</td>\n",
       "      <td>per goal</td>\n",
       "      <td>2024-08-01</td>\n",
       "    </tr>\n",
       "    <tr>\n",
       "      <th>3</th>\n",
       "      <td>5</td>\n",
       "      <td>3</td>\n",
       "      <td>2</td>\n",
       "      <td>1.0</td>\n",
       "      <td>16.88</td>\n",
       "      <td>0.0</td>\n",
       "      <td>combo</td>\n",
       "      <td>defeats</td>\n",
       "      <td>per goal</td>\n",
       "      <td>2024-08-01</td>\n",
       "    </tr>\n",
       "    <tr>\n",
       "      <th>5</th>\n",
       "      <td>4</td>\n",
       "      <td>2</td>\n",
       "      <td>2</td>\n",
       "      <td>2.0</td>\n",
       "      <td>51.74</td>\n",
       "      <td>0.0</td>\n",
       "      <td>combo</td>\n",
       "      <td>defeats</td>\n",
       "      <td>per goal</td>\n",
       "      <td>2024-08-01</td>\n",
       "    </tr>\n",
       "  </tbody>\n",
       "</table>\n",
       "</div>"
      ],
      "text/plain": [
       "   card_number  number_win  number_defeats  bet_value  win_value  cashout  \\\n",
       "0            4           2               2        1.0      14.05      0.0   \n",
       "1            4           3               1        1.0       7.81      0.0   \n",
       "2            3           1               2        1.0      15.77      0.0   \n",
       "3            5           3               2        1.0      16.88      0.0   \n",
       "5            4           2               2        2.0      51.74      0.0   \n",
       "\n",
       "  card_type   result  bet_type        date  \n",
       "0     combo  defeats  per goal  2024-08-01  \n",
       "1     combo  defeats  per goal  2024-08-01  \n",
       "2     combo  defeats  per goal  2024-08-01  \n",
       "3     combo  defeats  per goal  2024-08-01  \n",
       "5     combo  defeats  per goal  2024-08-01  "
      ]
     },
     "execution_count": 90,
     "metadata": {},
     "output_type": "execute_result"
    }
   ],
   "source": [
    "filter_defeats = np.where((df_result['result'] == 'defeats'))\n",
    "result_defeats=df_result.loc[filter_defeats]\n",
    "result_defeats.head()"
   ]
  },
  {
   "cell_type": "code",
   "execution_count": 91,
   "metadata": {},
   "outputs": [
    {
     "name": "stderr",
     "output_type": "stream",
     "text": [
      "/home/iva/anaconda3/lib/python3.7/site-packages/seaborn/axisgrid.py:230: UserWarning: The `size` paramter has been renamed to `height`; please update your code.\n",
      "  warnings.warn(msg, UserWarning)\n"
     ]
    },
    {
     "data": {
      "image/png": "[encoded data removed]",
      "text/plain": [
       "<Figure size 720x360 with 1 Axes>"
      ]
     },
     "metadata": {},
     "output_type": "display_data"
    }
   ],
   "source": [
    "sns.set_style('darkgrid')\n",
    "g = sns.FacetGrid(result_defeats,hue=\"result\",palette='coolwarm',size=5,aspect=2)\n",
    "g = g.map(plt.hist,'win_value',bins=10,alpha=0.9)"
   ]
  },
  {
   "cell_type": "code",
   "execution_count": 92,
   "metadata": {},
   "outputs": [
    {
     "name": "stderr",
     "output_type": "stream",
     "text": [
      "/home/iva/anaconda3/lib/python3.7/site-packages/seaborn/axisgrid.py:230: UserWarning: The `size` paramter has been renamed to `height`; please update your code.\n",
      "  warnings.warn(msg, UserWarning)\n"
     ]
    },
    {
     "data": {
      "image/png": "[encoded data removed]",
      "text/plain": [
       "<Figure size 864x432 with 1 Axes>"
      ]
     },
     "metadata": {},
     "output_type": "display_data"
    }
   ],
   "source": [
    "sns.set_style('whitegrid')\n",
    "g = sns.FacetGrid(result_defeats,hue=\"result\",palette='coolwarm',size=6,aspect=2)\n",
    "g = g.map(plt.hist,'number_defeats',bins=20,alpha=1)"
   ]
  }
 ],
 "metadata": {
  "kernelspec": {
   "display_name": "Python 3",
   "language": "python",
   "name": "python3"
  },
  "language_info": {
   "codemirror_mode": {
    "name": "ipython",
    "version": 3
   },
   "file_extension": ".py",
   "mimetype": "text/x-python",
   "name": "python",
   "nbconvert_exporter": "python",
   "pygments_lexer": "ipython3",
   "version": "3.7.0"
  }
 },
 "nbformat": 4,
 "nbformat_minor": 2
}
