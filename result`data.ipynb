{
 "cells": [
  {
   "cell_type": "code",
   "execution_count": 1,
   "metadata": {},
   "outputs": [],
   "source": [
    "import numpy as np"
   ]
  },
  {
   "cell_type": "code",
   "execution_count": 2,
   "metadata": {},
   "outputs": [],
   "source": [
    "import pandas as pd"
   ]
  },
  {
   "cell_type": "code",
   "execution_count": 3,
   "metadata": {},
   "outputs": [],
   "source": [
    "import seaborn as sns"
   ]
  },
  {
   "cell_type": "code",
   "execution_count": 4,
   "metadata": {},
   "outputs": [],
   "source": [
    "import matplotlib.pyplot as plt"
   ]
  },
  {
   "cell_type": "code",
   "execution_count": 5,
   "metadata": {},
   "outputs": [],
   "source": [
    "%matplotlib inline"
   ]
  },
  {
   "cell_type": "code",
   "execution_count": 8,
   "metadata": {},
   "outputs": [],
   "source": [
    "df_result = pd.read_csv(\"result`data.csv\")"
   ]
  },
  {
   "cell_type": "code",
   "execution_count": 9,
   "metadata": {},
   "outputs": [
    {
     "data": {
      "text/html": [
       "<div>\n",
       "<style scoped>\n",
       "    .dataframe tbody tr th:only-of-type {\n",
       "        vertical-align: middle;\n",
       "    }\n",
       "\n",
       "    .dataframe tbody tr th {\n",
       "        vertical-align: top;\n",
       "    }\n",
       "\n",
       "    .dataframe thead th {\n",
       "        text-align: right;\n",
       "    }\n",
       "</style>\n",
       "<table border=\"1\" class=\"dataframe\">\n",
       "  <thead>\n",
       "    <tr style=\"text-align: right;\">\n",
       "      <th></th>\n",
       "      <th>card_number</th>\n",
       "      <th>number_win</th>\n",
       "      <th>number_defeats</th>\n",
       "      <th>bet_value</th>\n",
       "      <th>win_value</th>\n",
       "      <th>cashout</th>\n",
       "      <th>card_type</th>\n",
       "      <th>result</th>\n",
       "      <th>bet_type</th>\n",
       "      <th>date</th>\n",
       "    </tr>\n",
       "  </thead>\n",
       "  <tbody>\n",
       "    <tr>\n",
       "      <th>0</th>\n",
       "      <td>3</td>\n",
       "      <td>1</td>\n",
       "      <td>2</td>\n",
       "      <td>1.0</td>\n",
       "      <td>11.08</td>\n",
       "      <td>0.0</td>\n",
       "      <td>combo</td>\n",
       "      <td>defeats</td>\n",
       "      <td>per goal</td>\n",
       "      <td>2024-09-02</td>\n",
       "    </tr>\n",
       "    <tr>\n",
       "      <th>1</th>\n",
       "      <td>6</td>\n",
       "      <td>5</td>\n",
       "      <td>1</td>\n",
       "      <td>1.0</td>\n",
       "      <td>9.95</td>\n",
       "      <td>0.0</td>\n",
       "      <td>combo</td>\n",
       "      <td>defeats</td>\n",
       "      <td>per goal</td>\n",
       "      <td>2024-09-01</td>\n",
       "    </tr>\n",
       "    <tr>\n",
       "      <th>2</th>\n",
       "      <td>6</td>\n",
       "      <td>3</td>\n",
       "      <td>3</td>\n",
       "      <td>1.0</td>\n",
       "      <td>31.48</td>\n",
       "      <td>0.0</td>\n",
       "      <td>combo</td>\n",
       "      <td>defeats</td>\n",
       "      <td>per goal</td>\n",
       "      <td>2024-09-01</td>\n",
       "    </tr>\n",
       "    <tr>\n",
       "      <th>3</th>\n",
       "      <td>4</td>\n",
       "      <td>1</td>\n",
       "      <td>3</td>\n",
       "      <td>1.0</td>\n",
       "      <td>6.78</td>\n",
       "      <td>0.0</td>\n",
       "      <td>combo</td>\n",
       "      <td>defeats</td>\n",
       "      <td>per goal</td>\n",
       "      <td>2024-09-01</td>\n",
       "    </tr>\n",
       "    <tr>\n",
       "      <th>4</th>\n",
       "      <td>9</td>\n",
       "      <td>5</td>\n",
       "      <td>4</td>\n",
       "      <td>2.0</td>\n",
       "      <td>30.48</td>\n",
       "      <td>0.0</td>\n",
       "      <td>combo</td>\n",
       "      <td>defeats</td>\n",
       "      <td>per goal</td>\n",
       "      <td>2024-09-01</td>\n",
       "    </tr>\n",
       "  </tbody>\n",
       "</table>\n",
       "</div>"
      ],
      "text/plain": [
       "   card_number  number_win  number_defeats  bet_value  win_value  cashout  \\\n",
       "0            3           1               2        1.0      11.08      0.0   \n",
       "1            6           5               1        1.0       9.95      0.0   \n",
       "2            6           3               3        1.0      31.48      0.0   \n",
       "3            4           1               3        1.0       6.78      0.0   \n",
       "4            9           5               4        2.0      30.48      0.0   \n",
       "\n",
       "  card_type   result  bet_type        date  \n",
       "0     combo  defeats  per goal  2024-09-02  \n",
       "1     combo  defeats  per goal  2024-09-01  \n",
       "2     combo  defeats  per goal  2024-09-01  \n",
       "3     combo  defeats  per goal  2024-09-01  \n",
       "4     combo  defeats  per goal  2024-09-01  "
      ]
     },
     "execution_count": 9,
     "metadata": {},
     "output_type": "execute_result"
    }
   ],
   "source": [
    "df_result.head()"
   ]
  },
  {
   "cell_type": "code",
   "execution_count": 10,
   "metadata": {},
   "outputs": [
    {
     "data": {
      "text/html": [
       "<div>\n",
       "<style scoped>\n",
       "    .dataframe tbody tr th:only-of-type {\n",
       "        vertical-align: middle;\n",
       "    }\n",
       "\n",
       "    .dataframe tbody tr th {\n",
       "        vertical-align: top;\n",
       "    }\n",
       "\n",
       "    .dataframe thead th {\n",
       "        text-align: right;\n",
       "    }\n",
       "</style>\n",
       "<table border=\"1\" class=\"dataframe\">\n",
       "  <thead>\n",
       "    <tr style=\"text-align: right;\">\n",
       "      <th></th>\n",
       "      <th>card_number</th>\n",
       "      <th>number_win</th>\n",
       "      <th>number_defeats</th>\n",
       "      <th>bet_value</th>\n",
       "      <th>win_value</th>\n",
       "      <th>cashout</th>\n",
       "      <th>card_type</th>\n",
       "      <th>result</th>\n",
       "      <th>bet_type</th>\n",
       "      <th>date</th>\n",
       "    </tr>\n",
       "  </thead>\n",
       "  <tbody>\n",
       "    <tr>\n",
       "      <th>227</th>\n",
       "      <td>2</td>\n",
       "      <td>0</td>\n",
       "      <td>2</td>\n",
       "      <td>0.5</td>\n",
       "      <td>21.00</td>\n",
       "      <td>0.0</td>\n",
       "      <td>combo</td>\n",
       "      <td>defeats</td>\n",
       "      <td>per win</td>\n",
       "      <td>2024-08-19</td>\n",
       "    </tr>\n",
       "    <tr>\n",
       "      <th>228</th>\n",
       "      <td>1</td>\n",
       "      <td>0</td>\n",
       "      <td>1</td>\n",
       "      <td>0.5</td>\n",
       "      <td>6.50</td>\n",
       "      <td>0.0</td>\n",
       "      <td>unique</td>\n",
       "      <td>defeats</td>\n",
       "      <td>per win</td>\n",
       "      <td>2024-08-19</td>\n",
       "    </tr>\n",
       "    <tr>\n",
       "      <th>229</th>\n",
       "      <td>2</td>\n",
       "      <td>1</td>\n",
       "      <td>1</td>\n",
       "      <td>0.5</td>\n",
       "      <td>13.65</td>\n",
       "      <td>0.0</td>\n",
       "      <td>combo</td>\n",
       "      <td>defeats</td>\n",
       "      <td>per win</td>\n",
       "      <td>2024-08-19</td>\n",
       "    </tr>\n",
       "    <tr>\n",
       "      <th>230</th>\n",
       "      <td>1</td>\n",
       "      <td>0</td>\n",
       "      <td>1</td>\n",
       "      <td>0.7</td>\n",
       "      <td>4.75</td>\n",
       "      <td>0.0</td>\n",
       "      <td>unique</td>\n",
       "      <td>defeats</td>\n",
       "      <td>per win</td>\n",
       "      <td>2024-08-19</td>\n",
       "    </tr>\n",
       "    <tr>\n",
       "      <th>231</th>\n",
       "      <td>1</td>\n",
       "      <td>1</td>\n",
       "      <td>0</td>\n",
       "      <td>0.5</td>\n",
       "      <td>0.78</td>\n",
       "      <td>0.0</td>\n",
       "      <td>unique</td>\n",
       "      <td>win</td>\n",
       "      <td>per goal</td>\n",
       "      <td>2024-08-19</td>\n",
       "    </tr>\n",
       "  </tbody>\n",
       "</table>\n",
       "</div>"
      ],
      "text/plain": [
       "     card_number  number_win  number_defeats  bet_value  win_value  cashout  \\\n",
       "227            2           0               2        0.5      21.00      0.0   \n",
       "228            1           0               1        0.5       6.50      0.0   \n",
       "229            2           1               1        0.5      13.65      0.0   \n",
       "230            1           0               1        0.7       4.75      0.0   \n",
       "231            1           1               0        0.5       0.78      0.0   \n",
       "\n",
       "    card_type   result  bet_type        date  \n",
       "227     combo  defeats   per win  2024-08-19  \n",
       "228    unique  defeats   per win  2024-08-19  \n",
       "229     combo  defeats   per win  2024-08-19  \n",
       "230    unique  defeats   per win  2024-08-19  \n",
       "231    unique      win  per goal  2024-08-19  "
      ]
     },
     "execution_count": 10,
     "metadata": {},
     "output_type": "execute_result"
    }
   ],
   "source": [
    "df_result.tail()"
   ]
  },
  {
   "cell_type": "code",
   "execution_count": 11,
   "metadata": {
    "scrolled": true
   },
   "outputs": [
    {
     "name": "stdout",
     "output_type": "stream",
     "text": [
      "<class 'pandas.core.frame.DataFrame'>\n",
      "RangeIndex: 232 entries, 0 to 231\n",
      "Data columns (total 10 columns):\n",
      "card_number       232 non-null int64\n",
      "number_win        232 non-null int64\n",
      "number_defeats    232 non-null int64\n",
      "bet_value         232 non-null float64\n",
      "win_value         232 non-null float64\n",
      "cashout           232 non-null float64\n",
      "card_type         232 non-null object\n",
      "result            232 non-null object\n",
      "bet_type          232 non-null object\n",
      "date              232 non-null object\n",
      "dtypes: float64(3), int64(3), object(4)\n",
      "memory usage: 18.2+ KB\n"
     ]
    }
   ],
   "source": [
    "df_result.info()"
   ]
  },
  {
   "cell_type": "code",
   "execution_count": 12,
   "metadata": {
    "scrolled": true
   },
   "outputs": [
    {
     "data": {
      "text/html": [
       "<div>\n",
       "<style scoped>\n",
       "    .dataframe tbody tr th:only-of-type {\n",
       "        vertical-align: middle;\n",
       "    }\n",
       "\n",
       "    .dataframe tbody tr th {\n",
       "        vertical-align: top;\n",
       "    }\n",
       "\n",
       "    .dataframe thead th {\n",
       "        text-align: right;\n",
       "    }\n",
       "</style>\n",
       "<table border=\"1\" class=\"dataframe\">\n",
       "  <thead>\n",
       "    <tr style=\"text-align: right;\">\n",
       "      <th></th>\n",
       "      <th>card_number</th>\n",
       "      <th>number_win</th>\n",
       "      <th>number_defeats</th>\n",
       "      <th>bet_value</th>\n",
       "      <th>win_value</th>\n",
       "      <th>cashout</th>\n",
       "    </tr>\n",
       "  </thead>\n",
       "  <tbody>\n",
       "    <tr>\n",
       "      <th>count</th>\n",
       "      <td>232.000000</td>\n",
       "      <td>232.000000</td>\n",
       "      <td>232.000000</td>\n",
       "      <td>232.000000</td>\n",
       "      <td>232.000000</td>\n",
       "      <td>232.000000</td>\n",
       "    </tr>\n",
       "    <tr>\n",
       "      <th>mean</th>\n",
       "      <td>3.599138</td>\n",
       "      <td>2.155172</td>\n",
       "      <td>1.448276</td>\n",
       "      <td>0.903362</td>\n",
       "      <td>13.693448</td>\n",
       "      <td>0.335517</td>\n",
       "    </tr>\n",
       "    <tr>\n",
       "      <th>std</th>\n",
       "      <td>1.774909</td>\n",
       "      <td>1.633542</td>\n",
       "      <td>1.013714</td>\n",
       "      <td>0.470277</td>\n",
       "      <td>19.335904</td>\n",
       "      <td>1.233459</td>\n",
       "    </tr>\n",
       "    <tr>\n",
       "      <th>min</th>\n",
       "      <td>1.000000</td>\n",
       "      <td>0.000000</td>\n",
       "      <td>0.000000</td>\n",
       "      <td>0.500000</td>\n",
       "      <td>0.530000</td>\n",
       "      <td>0.000000</td>\n",
       "    </tr>\n",
       "    <tr>\n",
       "      <th>25%</th>\n",
       "      <td>2.000000</td>\n",
       "      <td>1.000000</td>\n",
       "      <td>1.000000</td>\n",
       "      <td>0.500000</td>\n",
       "      <td>4.467500</td>\n",
       "      <td>0.000000</td>\n",
       "    </tr>\n",
       "    <tr>\n",
       "      <th>50%</th>\n",
       "      <td>3.000000</td>\n",
       "      <td>2.000000</td>\n",
       "      <td>1.000000</td>\n",
       "      <td>0.955000</td>\n",
       "      <td>8.890000</td>\n",
       "      <td>0.000000</td>\n",
       "    </tr>\n",
       "    <tr>\n",
       "      <th>75%</th>\n",
       "      <td>4.000000</td>\n",
       "      <td>3.000000</td>\n",
       "      <td>2.000000</td>\n",
       "      <td>1.000000</td>\n",
       "      <td>16.017500</td>\n",
       "      <td>0.000000</td>\n",
       "    </tr>\n",
       "    <tr>\n",
       "      <th>max</th>\n",
       "      <td>11.000000</td>\n",
       "      <td>9.000000</td>\n",
       "      <td>4.000000</td>\n",
       "      <td>2.810000</td>\n",
       "      <td>209.000000</td>\n",
       "      <td>10.920000</td>\n",
       "    </tr>\n",
       "  </tbody>\n",
       "</table>\n",
       "</div>"
      ],
      "text/plain": [
       "       card_number  number_win  number_defeats   bet_value   win_value  \\\n",
       "count   232.000000  232.000000      232.000000  232.000000  232.000000   \n",
       "mean      3.599138    2.155172        1.448276    0.903362   13.693448   \n",
       "std       1.774909    1.633542        1.013714    0.470277   19.335904   \n",
       "min       1.000000    0.000000        0.000000    0.500000    0.530000   \n",
       "25%       2.000000    1.000000        1.000000    0.500000    4.467500   \n",
       "50%       3.000000    2.000000        1.000000    0.955000    8.890000   \n",
       "75%       4.000000    3.000000        2.000000    1.000000   16.017500   \n",
       "max      11.000000    9.000000        4.000000    2.810000  209.000000   \n",
       "\n",
       "          cashout  \n",
       "count  232.000000  \n",
       "mean     0.335517  \n",
       "std      1.233459  \n",
       "min      0.000000  \n",
       "25%      0.000000  \n",
       "50%      0.000000  \n",
       "75%      0.000000  \n",
       "max     10.920000  "
      ]
     },
     "execution_count": 12,
     "metadata": {},
     "output_type": "execute_result"
    }
   ],
   "source": [
    "df_result.describe()"
   ]
  },
  {
   "cell_type": "code",
   "execution_count": 13,
   "metadata": {},
   "outputs": [
    {
     "data": {
      "text/plain": [
       "Index(['card_number', 'number_win', 'number_defeats', 'bet_value', 'win_value',\n",
       "       'cashout', 'card_type', 'result', 'bet_type', 'date'],\n",
       "      dtype='object')"
      ]
     },
     "execution_count": 13,
     "metadata": {},
     "output_type": "execute_result"
    }
   ],
   "source": [
    "df_result.columns"
   ]
  },
  {
   "cell_type": "code",
   "execution_count": 15,
   "metadata": {},
   "outputs": [
    {
     "data": {
      "text/plain": [
       "0    3\n",
       "1    6\n",
       "Name: card_number, dtype: int64"
      ]
     },
     "execution_count": 15,
     "metadata": {},
     "output_type": "execute_result"
    }
   ],
   "source": [
    "df_result['card_number'].head(2)"
   ]
  },
  {
   "cell_type": "code",
   "execution_count": 16,
   "metadata": {},
   "outputs": [
    {
     "data": {
      "text/plain": [
       "<seaborn.axisgrid.PairGrid at 0x70e56af0d6a0>"
      ]
     },
     "execution_count": 16,
     "metadata": {},
     "output_type": "execute_result"
    },
    {
     "data": {
      "image/png": "[encoded data removed]",
      "text/plain": [
       "<Figure size 1080x1080 with 42 Axes>"
      ]
     },
     "metadata": {
      "needs_background": "light"
     },
     "output_type": "display_data"
    }
   ],
   "source": [
    "sns.pairplot(df_result)"
   ]
  },
  {
   "cell_type": "code",
   "execution_count": 17,
   "metadata": {},
   "outputs": [
    {
     "name": "stderr",
     "output_type": "stream",
     "text": [
      "/home/iva/anaconda3/lib/python3.7/site-packages/scipy/stats/stats.py:1713: FutureWarning: Using a non-tuple sequence for multidimensional indexing is deprecated; use `arr[tuple(seq)]` instead of `arr[seq]`. In the future this will be interpreted as an array index, `arr[np.array(seq)]`, which will result either in an error or a different result.\n",
      "  return np.add.reduce(sorted[indexer] * weights, axis=axis) / sumval\n"
     ]
    },
    {
     "data": {
      "text/plain": [
       "<matplotlib.axes._subplots.AxesSubplot at 0x70e569c288d0>"
      ]
     },
     "execution_count": 17,
     "metadata": {},
     "output_type": "execute_result"
    },
    {
     "data": {
      "image/png": "[encoded data removed]",
      "text/plain": [
       "<Figure size 432x288 with 1 Axes>"
      ]
     },
     "metadata": {
      "needs_background": "light"
     },
     "output_type": "display_data"
    }
   ],
   "source": [
    "sns.distplot(df_result['card_number'], kde=True, bins=5)"
   ]
  },
  {
   "cell_type": "code",
   "execution_count": 18,
   "metadata": {},
   "outputs": [
    {
     "data": {
      "text/plain": [
       "<matplotlib.axes._subplots.AxesSubplot at 0x70e569a98a90>"
      ]
     },
     "execution_count": 18,
     "metadata": {},
     "output_type": "execute_result"
    },
    {
     "data": {
      "image/png": "[encoded data removed]",
      "text/plain": [
       "<Figure size 432x288 with 2 Axes>"
      ]
     },
     "metadata": {
      "needs_background": "light"
     },
     "output_type": "display_data"
    }
   ],
   "source": [
    "sns.heatmap(df_result.corr())"
   ]
  },
  {
   "cell_type": "code",
   "execution_count": 19,
   "metadata": {},
   "outputs": [
    {
     "name": "stderr",
     "output_type": "stream",
     "text": [
      "/home/iva/anaconda3/lib/python3.7/site-packages/scipy/stats/stats.py:1713: FutureWarning: Using a non-tuple sequence for multidimensional indexing is deprecated; use `arr[tuple(seq)]` instead of `arr[seq]`. In the future this will be interpreted as an array index, `arr[np.array(seq)]`, which will result either in an error or a different result.\n",
      "  return np.add.reduce(sorted[indexer] * weights, axis=axis) / sumval\n"
     ]
    },
    {
     "data": {
      "text/plain": [
       "<seaborn.axisgrid.JointGrid at 0x70e569c42d68>"
      ]
     },
     "execution_count": 19,
     "metadata": {},
     "output_type": "execute_result"
    },
    {
     "data": {
      "image/png": "[encoded data removed]",
      "text/plain": [
       "<Figure size 432x432 with 3 Axes>"
      ]
     },
     "metadata": {
      "needs_background": "light"
     },
     "output_type": "display_data"
    }
   ],
   "source": [
    "sns.jointplot(x='card_number', y='win_value', data=df_result, kind='kde')"
   ]
  },
  {
   "cell_type": "code",
   "execution_count": 20,
   "metadata": {},
   "outputs": [
    {
     "name": "stderr",
     "output_type": "stream",
     "text": [
      "/home/iva/anaconda3/lib/python3.7/site-packages/scipy/stats/stats.py:1713: FutureWarning: Using a non-tuple sequence for multidimensional indexing is deprecated; use `arr[tuple(seq)]` instead of `arr[seq]`. In the future this will be interpreted as an array index, `arr[np.array(seq)]`, which will result either in an error or a different result.\n",
      "  return np.add.reduce(sorted[indexer] * weights, axis=axis) / sumval\n"
     ]
    },
    {
     "data": {
      "text/plain": [
       "<seaborn.axisgrid.JointGrid at 0x70e569645128>"
      ]
     },
     "execution_count": 20,
     "metadata": {},
     "output_type": "execute_result"
    },
    {
     "data": {
      "image/png": "[encoded data removed]",
      "text/plain": [
       "<Figure size 432x432 with 3 Axes>"
      ]
     },
     "metadata": {
      "needs_background": "light"
     },
     "output_type": "display_data"
    }
   ],
   "source": [
    "sns.jointplot(x='card_number', y='win_value', data=df_result, kind = \"hex\")"
   ]
  },
  {
   "cell_type": "code",
   "execution_count": 21,
   "metadata": {},
   "outputs": [
    {
     "name": "stderr",
     "output_type": "stream",
     "text": [
      "/home/iva/anaconda3/lib/python3.7/site-packages/scipy/stats/stats.py:1713: FutureWarning: Using a non-tuple sequence for multidimensional indexing is deprecated; use `arr[tuple(seq)]` instead of `arr[seq]`. In the future this will be interpreted as an array index, `arr[np.array(seq)]`, which will result either in an error or a different result.\n",
      "  return np.add.reduce(sorted[indexer] * weights, axis=axis) / sumval\n",
      "/home/iva/anaconda3/lib/python3.7/site-packages/matplotlib/contour.py:1230: UserWarning: No contour levels were found within the data range.\n",
      "  warnings.warn(\"No contour levels were found\"\n"
     ]
    },
    {
     "data": {
      "text/plain": [
       "<seaborn.axisgrid.JointGrid at 0x70e56953bb00>"
      ]
     },
     "execution_count": 21,
     "metadata": {},
     "output_type": "execute_result"
    },
    {
     "data": {
      "image/png": "[encoded data removed]",
      "text/plain": [
       "<Figure size 432x432 with 3 Axes>"
      ]
     },
     "metadata": {
      "needs_background": "light"
     },
     "output_type": "display_data"
    }
   ],
   "source": [
    "g = sns.jointplot(data=df_result, x='card_number', y='number_defeats')\n",
    "g.plot_joint(sns.kdeplot, color=\"r\", zorder=0, levels=6)\n",
    "g.plot_marginals(sns.rugplot, color=\"r\", height=-.15, clip_on=False)"
   ]
  },
  {
   "cell_type": "markdown",
   "metadata": {},
   "source": [
    "## K Means"
   ]
  },
  {
   "cell_type": "code",
   "execution_count": 22,
   "metadata": {},
   "outputs": [
    {
     "data": {
      "text/plain": [
       "array([[  1.  ,  11.08],\n",
       "       [  5.  ,   9.95],\n",
       "       [  3.  ,  31.48],\n",
       "       [  1.  ,   6.78],\n",
       "       [  5.  ,  30.48],\n",
       "       [  2.  ,  14.48],\n",
       "       [  2.  ,  14.05],\n",
       "       [  3.  ,   7.81],\n",
       "       [  1.  ,  15.77],\n",
       "       [  3.  ,  16.88],\n",
       "       [  4.  ,   8.61],\n",
       "       [  2.  ,  51.74],\n",
       "       [  2.  ,  23.22],\n",
       "       [  4.  ,  28.36],\n",
       "       [  2.  ,   5.77],\n",
       "       [  3.  ,  13.06],\n",
       "       [  2.  ,  10.62],\n",
       "       [  3.  ,  10.99],\n",
       "       [  3.  ,   6.48],\n",
       "       [  1.  ,  12.12],\n",
       "       [  3.  ,  11.62],\n",
       "       [  0.  ,   8.74],\n",
       "       [  0.  ,  23.8 ],\n",
       "       [  2.  ,   7.6 ],\n",
       "       [  1.  ,   7.91],\n",
       "       [  1.  ,   6.93],\n",
       "       [  2.  ,  32.12],\n",
       "       [  1.  ,  29.42],\n",
       "       [  6.  ,  35.02],\n",
       "       [  2.  ,  34.31],\n",
       "       [  1.  ,  10.44],\n",
       "       [  1.  ,   3.36],\n",
       "       [  4.  ,  29.22],\n",
       "       [  0.  ,  12.  ],\n",
       "       [  1.  ,   3.28],\n",
       "       [  2.  ,  14.58],\n",
       "       [  2.  ,   9.79],\n",
       "       [  1.  ,  27.96],\n",
       "       [  1.  ,  10.19],\n",
       "       [  2.  ,  17.85],\n",
       "       [  0.  ,  21.93],\n",
       "       [  4.  ,   7.75],\n",
       "       [  5.  ,   4.63],\n",
       "       [  2.  ,   1.64],\n",
       "       [  3.  ,   2.94],\n",
       "       [  2.  ,   6.8 ],\n",
       "       [  3.  ,   7.03],\n",
       "       [  1.  ,   5.04],\n",
       "       [  1.  ,   1.24],\n",
       "       [  1.  ,   1.19],\n",
       "       [  1.  ,   1.27],\n",
       "       [  3.  ,   7.08],\n",
       "       [  2.  ,   5.65],\n",
       "       [  2.  ,   3.42],\n",
       "       [  3.  ,   2.04],\n",
       "       [  3.  ,   4.46],\n",
       "       [  1.  ,   4.62],\n",
       "       [  2.  ,   3.69],\n",
       "       [  3.  ,   2.31],\n",
       "       [  1.  ,   3.68],\n",
       "       [  1.  ,   6.32],\n",
       "       [  3.  ,   6.86],\n",
       "       [  2.  ,   4.75],\n",
       "       [  1.  ,  17.12],\n",
       "       [  1.  ,   4.22],\n",
       "       [  1.  ,   5.14],\n",
       "       [  9.  ,  14.35],\n",
       "       [  2.  ,  13.84],\n",
       "       [  9.  ,  14.35],\n",
       "       [  0.  ,   7.86],\n",
       "       [  0.  ,   4.65],\n",
       "       [  1.  ,  18.86],\n",
       "       [  2.  ,  22.46],\n",
       "       [  1.  ,  18.03],\n",
       "       [  3.  ,  11.48],\n",
       "       [  2.  ,   8.12],\n",
       "       [  2.  ,   4.47],\n",
       "       [  2.  ,   5.08],\n",
       "       [  0.  ,  13.3 ],\n",
       "       [  2.  ,  19.98],\n",
       "       [  1.  ,  10.77],\n",
       "       [  1.  ,  29.24],\n",
       "       [  2.  ,   7.69],\n",
       "       [  0.  ,   9.87],\n",
       "       [  2.  ,   8.1 ],\n",
       "       [  1.  ,  11.2 ],\n",
       "       [  2.  ,  11.31],\n",
       "       [  1.  ,  12.32],\n",
       "       [  1.  ,  26.86],\n",
       "       [  3.  ,   6.3 ],\n",
       "       [  3.  ,  32.26],\n",
       "       [  2.  ,   7.66],\n",
       "       [  2.  ,   3.09],\n",
       "       [  4.  ,  17.07],\n",
       "       [  3.  ,  11.04],\n",
       "       [  2.  ,  11.93],\n",
       "       [  1.  ,  12.36],\n",
       "       [  7.  ,   4.89],\n",
       "       [  2.  ,  10.49],\n",
       "       [  2.  ,  17.9 ],\n",
       "       [  4.  ,   2.53],\n",
       "       [  2.  ,   6.3 ],\n",
       "       [  4.  ,  29.38],\n",
       "       [  2.  ,   2.59],\n",
       "       [  1.  ,  17.02],\n",
       "       [  0.  ,  15.43],\n",
       "       [  4.  ,  10.03],\n",
       "       [  1.  ,  16.07],\n",
       "       [  2.  ,  24.1 ],\n",
       "       [  1.  ,  26.1 ],\n",
       "       [  3.  ,   1.72],\n",
       "       [  1.  ,  27.84],\n",
       "       [  0.  ,   6.82],\n",
       "       [  5.  ,  55.72],\n",
       "       [  0.  ,  38.98],\n",
       "       [  2.  ,  39.67],\n",
       "       [  1.  ,  12.74],\n",
       "       [  3.  ,  26.36],\n",
       "       [  0.  ,   2.4 ],\n",
       "       [  3.  ,  10.34],\n",
       "       [  2.  ,  10.83],\n",
       "       [  1.  ,   4.37],\n",
       "       [  1.  ,  12.11],\n",
       "       [  5.  ,   8.01],\n",
       "       [  2.  ,   3.96],\n",
       "       [  2.  ,   8.73],\n",
       "       [  3.  ,  41.  ],\n",
       "       [  3.  ,   9.79],\n",
       "       [  2.  ,  13.43],\n",
       "       [  3.  ,  14.54],\n",
       "       [  4.  ,  24.3 ],\n",
       "       [  7.  ,   6.98],\n",
       "       [  3.  ,   3.04],\n",
       "       [  2.  ,   7.77],\n",
       "       [  3.  ,   4.62],\n",
       "       [  0.  ,   4.2 ],\n",
       "       [  2.  ,   4.22],\n",
       "       [  1.  ,   7.56],\n",
       "       [  3.  ,   1.08],\n",
       "       [  3.  ,   4.02],\n",
       "       [  2.  ,  13.77],\n",
       "       [  3.  ,   9.32],\n",
       "       [  1.  ,  23.76],\n",
       "       [  1.  ,   2.37],\n",
       "       [  2.  ,   1.23],\n",
       "       [  1.  ,   5.77],\n",
       "       [  1.  ,  19.  ],\n",
       "       [  2.  ,  19.5 ],\n",
       "       [  2.  ,  22.04],\n",
       "       [  2.  ,  25.2 ],\n",
       "       [  5.  ,   3.13],\n",
       "       [  3.  ,   0.7 ],\n",
       "       [  2.  ,  11.31],\n",
       "       [  1.  ,   0.55],\n",
       "       [  3.  ,   1.24],\n",
       "       [  4.  ,   2.96],\n",
       "       [  2.  ,   8.94],\n",
       "       [  2.  ,   1.45],\n",
       "       [  3.  ,   0.85],\n",
       "       [  2.  ,   4.59],\n",
       "       [  1.  ,  19.78],\n",
       "       [  2.  ,   5.25],\n",
       "       [  1.  ,  10.78],\n",
       "       [  2.  ,   0.97],\n",
       "       [  1.  ,   6.  ],\n",
       "       [  4.  ,   9.49],\n",
       "       [  2.  ,   3.81],\n",
       "       [  2.  ,   6.69],\n",
       "       [  3.  ,  16.  ],\n",
       "       [  3.  ,   1.08],\n",
       "       [  2.  ,  10.03],\n",
       "       [  3.  ,   2.7 ],\n",
       "       [  4.  ,  31.  ],\n",
       "       [  1.  ,   9.24],\n",
       "       [  3.  ,  11.14],\n",
       "       [  2.  ,   7.31],\n",
       "       [  2.  ,   4.06],\n",
       "       [  2.  ,   7.09],\n",
       "       [  3.  ,   8.13],\n",
       "       [  4.  ,   2.23],\n",
       "       [  4.  ,   5.83],\n",
       "       [  2.  ,   6.49],\n",
       "       [  2.  ,   0.64],\n",
       "       [  1.  ,   3.99],\n",
       "       [  1.  ,   0.53],\n",
       "       [  8.  ,  22.68],\n",
       "       [  1.  ,   1.88],\n",
       "       [  3.  ,  28.71],\n",
       "       [  9.  ,  42.18],\n",
       "       [  8.  ,  81.  ],\n",
       "       [  1.  ,   8.5 ],\n",
       "       [  5.  ,  23.02],\n",
       "       [  4.  ,  22.91],\n",
       "       [  2.  ,   1.08],\n",
       "       [  1.  ,  15.85],\n",
       "       [  3.  , 123.55],\n",
       "       [  4.  ,   1.22],\n",
       "       [  3.  ,  50.27],\n",
       "       [  0.  ,  23.97],\n",
       "       [  3.  ,   1.45],\n",
       "       [  3.  ,   3.34],\n",
       "       [  2.  ,   1.72],\n",
       "       [  3.  ,  96.94],\n",
       "       [  2.  ,   1.37],\n",
       "       [  2.  ,  13.54],\n",
       "       [  3.  ,   3.13],\n",
       "       [  1.  ,   1.18],\n",
       "       [  2.  ,  16.75],\n",
       "       [  0.  ,  15.43],\n",
       "       [  1.  ,  12.28],\n",
       "       [  5.  ,   5.25],\n",
       "       [  0.  ,   4.73],\n",
       "       [  1.  ,   9.6 ],\n",
       "       [  0.  ,  10.53],\n",
       "       [  1.  ,   6.72],\n",
       "       [  0.  , 209.  ],\n",
       "       [  1.  ,   5.14],\n",
       "       [  0.  ,  17.6 ],\n",
       "       [  0.  ,   3.25],\n",
       "       [  2.  ,   1.74],\n",
       "       [  1.  ,   4.25],\n",
       "       [  1.  ,  15.22],\n",
       "       [  1.  ,  14.2 ],\n",
       "       [  1.  ,   2.72],\n",
       "       [  1.  ,   8.84],\n",
       "       [  1.  ,   5.5 ],\n",
       "       [  2.  ,   9.45],\n",
       "       [  0.  ,  21.  ],\n",
       "       [  0.  ,   6.5 ],\n",
       "       [  1.  ,  13.65],\n",
       "       [  0.  ,   4.75],\n",
       "       [  1.  ,   0.78]])"
      ]
     },
     "execution_count": 22,
     "metadata": {},
     "output_type": "execute_result"
    }
   ],
   "source": [
    "df_means=df_result.iloc[:,[1,4]].values\n",
    "df_means"
   ]
  },
  {
   "cell_type": "code",
   "execution_count": 23,
   "metadata": {},
   "outputs": [
    {
     "data": {
      "text/plain": [
       "array([ 3,  6,  6,  4,  9,  5,  4,  4,  3,  5,  4,  4,  5,  5,  3,  5,  6,\n",
       "        5,  6,  4,  4,  2,  2,  3,  3,  3,  4,  5,  8,  5,  3,  2,  7,  2,\n",
       "        2,  3,  3,  3,  3,  3,  3,  4,  5,  3,  4,  4,  7,  2,  1,  1,  1,\n",
       "        3,  4,  3,  3,  4,  2,  3,  4,  2,  4,  4,  4,  3,  3,  3, 10,  4,\n",
       "       10,  3,  2,  3,  5,  3,  4,  2,  2,  3,  3,  3,  3,  3,  2,  2,  2,\n",
       "        2,  2,  2,  4,  4,  5,  3,  3,  7,  5,  5,  3,  7,  3,  4,  4,  3,\n",
       "        6,  3,  3,  3,  5,  3,  5,  3,  4,  3,  2,  7,  4,  6,  4,  5,  2,\n",
       "        5,  4,  2,  2,  6,  2,  3,  4,  4,  3,  5,  5,  8,  3,  3,  4,  2,\n",
       "        2,  2,  3,  3,  3,  4,  3,  2,  2,  2,  2,  3,  3,  3,  5,  3,  5,\n",
       "        1,  3,  5,  4,  2,  3,  3,  5,  2,  3,  2,  3,  5,  3,  3,  4,  3,\n",
       "        3,  3,  6,  2,  4,  4,  3,  3,  3,  4,  5,  4,  2,  2,  1,  9,  3,\n",
       "        6, 11, 11,  2,  8,  5,  2,  4,  5,  4,  5,  4,  5,  4,  2,  4,  2,\n",
       "        4,  4,  3,  3,  2,  4,  8,  2,  2,  2,  2,  2,  2,  2,  1,  2,  2,\n",
       "        2,  3,  2,  2,  2,  3,  2,  1,  2,  1,  1])"
      ]
     },
     "execution_count": 23,
     "metadata": {},
     "output_type": "execute_result"
    }
   ],
   "source": [
    "list_rcn = df_result[df_result.columns[0]].tolist()\n",
    "array_rcn = np.array(list_rcn)\n",
    "array_rcn"
   ]
  },
  {
   "cell_type": "code",
   "execution_count": 24,
   "metadata": {},
   "outputs": [
    {
     "data": {
      "text/plain": [
       "array([1, 5, 3, 1, 5, 2, 2, 3, 1, 3, 4, 2, 2, 4, 2, 3, 2, 3, 3, 1, 3, 0,\n",
       "       0, 2, 1, 1, 2, 1, 6, 2, 1, 1, 4, 0, 1, 2, 2, 1, 1, 2, 0, 4, 5, 2,\n",
       "       3, 2, 3, 1, 1, 1, 1, 3, 2, 2, 3, 3, 1, 2, 3, 1, 1, 3, 2, 1, 1, 1,\n",
       "       9, 2, 9, 0, 0, 1, 2, 1, 3, 2, 2, 2, 0, 2, 1, 1, 2, 0, 2, 1, 2, 1,\n",
       "       1, 3, 3, 2, 2, 4, 3, 2, 1, 7, 2, 2, 4, 2, 4, 2, 1, 0, 4, 1, 2, 1,\n",
       "       3, 1, 0, 5, 0, 2, 1, 3, 0, 3, 2, 1, 1, 5, 2, 2, 3, 3, 2, 3, 4, 7,\n",
       "       3, 2, 3, 0, 2, 1, 3, 3, 2, 3, 1, 1, 2, 1, 1, 2, 2, 2, 5, 3, 2, 1,\n",
       "       3, 4, 2, 2, 3, 2, 1, 2, 1, 2, 1, 4, 2, 2, 3, 3, 2, 3, 4, 1, 3, 2,\n",
       "       2, 2, 3, 4, 4, 2, 2, 1, 1, 8, 1, 3, 9, 8, 1, 5, 4, 2, 1, 3, 4, 3,\n",
       "       0, 3, 3, 2, 3, 2, 2, 3, 1, 2, 0, 1, 5, 0, 1, 0, 1, 0, 1, 0, 0, 2,\n",
       "       1, 1, 1, 1, 1, 1, 2, 0, 0, 1, 0, 1])"
      ]
     },
     "execution_count": 24,
     "metadata": {},
     "output_type": "execute_result"
    }
   ],
   "source": [
    "list_rw = df_result[df_result.columns[1]].tolist()\n",
    "array_rw = np.array(list_rw)\n",
    "array_rw"
   ]
  },
  {
   "cell_type": "code",
   "execution_count": 25,
   "metadata": {},
   "outputs": [
    {
     "data": {
      "text/plain": [
       "array([ 11.08,   9.95,  31.48,   6.78,  30.48,  14.48,  14.05,   7.81,\n",
       "        15.77,  16.88,   8.61,  51.74,  23.22,  28.36,   5.77,  13.06,\n",
       "        10.62,  10.99,   6.48,  12.12,  11.62,   8.74,  23.8 ,   7.6 ,\n",
       "         7.91,   6.93,  32.12,  29.42,  35.02,  34.31,  10.44,   3.36,\n",
       "        29.22,  12.  ,   3.28,  14.58,   9.79,  27.96,  10.19,  17.85,\n",
       "        21.93,   7.75,   4.63,   1.64,   2.94,   6.8 ,   7.03,   5.04,\n",
       "         1.24,   1.19,   1.27,   7.08,   5.65,   3.42,   2.04,   4.46,\n",
       "         4.62,   3.69,   2.31,   3.68,   6.32,   6.86,   4.75,  17.12,\n",
       "         4.22,   5.14,  14.35,  13.84,  14.35,   7.86,   4.65,  18.86,\n",
       "        22.46,  18.03,  11.48,   8.12,   4.47,   5.08,  13.3 ,  19.98,\n",
       "        10.77,  29.24,   7.69,   9.87,   8.1 ,  11.2 ,  11.31,  12.32,\n",
       "        26.86,   6.3 ,  32.26,   7.66,   3.09,  17.07,  11.04,  11.93,\n",
       "        12.36,   4.89,  10.49,  17.9 ,   2.53,   6.3 ,  29.38,   2.59,\n",
       "        17.02,  15.43,  10.03,  16.07,  24.1 ,  26.1 ,   1.72,  27.84,\n",
       "         6.82,  55.72,  38.98,  39.67,  12.74,  26.36,   2.4 ,  10.34,\n",
       "        10.83,   4.37,  12.11,   8.01,   3.96,   8.73,  41.  ,   9.79,\n",
       "        13.43,  14.54,  24.3 ,   6.98,   3.04,   7.77,   4.62,   4.2 ,\n",
       "         4.22,   7.56,   1.08,   4.02,  13.77,   9.32,  23.76,   2.37,\n",
       "         1.23,   5.77,  19.  ,  19.5 ,  22.04,  25.2 ,   3.13,   0.7 ,\n",
       "        11.31,   0.55,   1.24,   2.96,   8.94,   1.45,   0.85,   4.59,\n",
       "        19.78,   5.25,  10.78,   0.97,   6.  ,   9.49,   3.81,   6.69,\n",
       "        16.  ,   1.08,  10.03,   2.7 ,  31.  ,   9.24,  11.14,   7.31,\n",
       "         4.06,   7.09,   8.13,   2.23,   5.83,   6.49,   0.64,   3.99,\n",
       "         0.53,  22.68,   1.88,  28.71,  42.18,  81.  ,   8.5 ,  23.02,\n",
       "        22.91,   1.08,  15.85, 123.55,   1.22,  50.27,  23.97,   1.45,\n",
       "         3.34,   1.72,  96.94,   1.37,  13.54,   3.13,   1.18,  16.75,\n",
       "        15.43,  12.28,   5.25,   4.73,   9.6 ,  10.53,   6.72, 209.  ,\n",
       "         5.14,  17.6 ,   3.25,   1.74,   4.25,  15.22,  14.2 ,   2.72,\n",
       "         8.84,   5.5 ,   9.45,  21.  ,   6.5 ,  13.65,   4.75,   0.78])"
      ]
     },
     "execution_count": 25,
     "metadata": {},
     "output_type": "execute_result"
    }
   ],
   "source": [
    "list_rwv = df_result[df_result.columns[4]].tolist()\n",
    "array_rwv = np.array(list_rwv)\n",
    "array_rwv"
   ]
  },
  {
   "cell_type": "code",
   "execution_count": 26,
   "metadata": {},
   "outputs": [
    {
     "data": {
      "text/plain": [
       "array([1., 5., 3., 1., 5., 2., 2., 3., 1., 3., 4., 2., 2., 4., 2., 3., 2.,\n",
       "       3., 3., 1., 3., 0., 0., 2., 1., 1., 2., 1., 6., 2., 1., 1., 4., 0.,\n",
       "       1., 2., 2., 1., 1., 2., 0., 4., 5., 2., 3., 2., 3., 1., 1., 1., 1.,\n",
       "       3., 2., 2., 3., 3., 1., 2., 3., 1., 1., 3., 2., 1., 1., 1., 9., 2.,\n",
       "       9., 0., 0., 1., 2., 1., 3., 2., 2., 2., 0., 2., 1., 1., 2., 0., 2.,\n",
       "       1., 2., 1., 1., 3., 3., 2., 2., 4., 3., 2., 1., 7., 2., 2., 4., 2.,\n",
       "       4., 2., 1., 0., 4., 1., 2., 1., 3., 1., 0., 5., 0., 2., 1., 3., 0.,\n",
       "       3., 2., 1., 1., 5., 2., 2., 3., 3., 2., 3., 4., 7., 3., 2., 3., 0.,\n",
       "       2., 1., 3., 3., 2., 3., 1., 1., 2., 1., 1., 2., 2., 2., 5., 3., 2.,\n",
       "       1., 3., 4., 2., 2., 3., 2., 1., 2., 1., 2., 1., 4., 2., 2., 3., 3.,\n",
       "       2., 3., 4., 1., 3., 2., 2., 2., 3., 4., 4., 2., 2., 1., 1., 8., 1.,\n",
       "       3., 9., 8., 1., 5., 4., 2., 1., 3., 4., 3., 0., 3., 3., 2., 3., 2.,\n",
       "       2., 3., 1., 2., 0., 1., 5., 0., 1., 0., 1., 0., 1., 0., 0., 2., 1.,\n",
       "       1., 1., 1., 1., 1., 2., 0., 0., 1., 0., 1.])"
      ]
     },
     "execution_count": 26,
     "metadata": {},
     "output_type": "execute_result"
    }
   ],
   "source": [
    "list_result=[df_means,array_rcn]\n",
    "list_result[0][:,0]"
   ]
  },
  {
   "cell_type": "code",
   "execution_count": 27,
   "metadata": {
    "scrolled": true
   },
   "outputs": [
    {
     "data": {
      "text/plain": [
       "array([ 11.08,   9.95,  31.48,   6.78,  30.48,  14.48,  14.05,   7.81,\n",
       "        15.77,  16.88,   8.61,  51.74,  23.22,  28.36,   5.77,  13.06,\n",
       "        10.62,  10.99,   6.48,  12.12,  11.62,   8.74,  23.8 ,   7.6 ,\n",
       "         7.91,   6.93,  32.12,  29.42,  35.02,  34.31,  10.44,   3.36,\n",
       "        29.22,  12.  ,   3.28,  14.58,   9.79,  27.96,  10.19,  17.85,\n",
       "        21.93,   7.75,   4.63,   1.64,   2.94,   6.8 ,   7.03,   5.04,\n",
       "         1.24,   1.19,   1.27,   7.08,   5.65,   3.42,   2.04,   4.46,\n",
       "         4.62,   3.69,   2.31,   3.68,   6.32,   6.86,   4.75,  17.12,\n",
       "         4.22,   5.14,  14.35,  13.84,  14.35,   7.86,   4.65,  18.86,\n",
       "        22.46,  18.03,  11.48,   8.12,   4.47,   5.08,  13.3 ,  19.98,\n",
       "        10.77,  29.24,   7.69,   9.87,   8.1 ,  11.2 ,  11.31,  12.32,\n",
       "        26.86,   6.3 ,  32.26,   7.66,   3.09,  17.07,  11.04,  11.93,\n",
       "        12.36,   4.89,  10.49,  17.9 ,   2.53,   6.3 ,  29.38,   2.59,\n",
       "        17.02,  15.43,  10.03,  16.07,  24.1 ,  26.1 ,   1.72,  27.84,\n",
       "         6.82,  55.72,  38.98,  39.67,  12.74,  26.36,   2.4 ,  10.34,\n",
       "        10.83,   4.37,  12.11,   8.01,   3.96,   8.73,  41.  ,   9.79,\n",
       "        13.43,  14.54,  24.3 ,   6.98,   3.04,   7.77,   4.62,   4.2 ,\n",
       "         4.22,   7.56,   1.08,   4.02,  13.77,   9.32,  23.76,   2.37,\n",
       "         1.23,   5.77,  19.  ,  19.5 ,  22.04,  25.2 ,   3.13,   0.7 ,\n",
       "        11.31,   0.55,   1.24,   2.96,   8.94,   1.45,   0.85,   4.59,\n",
       "        19.78,   5.25,  10.78,   0.97,   6.  ,   9.49,   3.81,   6.69,\n",
       "        16.  ,   1.08,  10.03,   2.7 ,  31.  ,   9.24,  11.14,   7.31,\n",
       "         4.06,   7.09,   8.13,   2.23,   5.83,   6.49,   0.64,   3.99,\n",
       "         0.53,  22.68,   1.88,  28.71,  42.18,  81.  ,   8.5 ,  23.02,\n",
       "        22.91,   1.08,  15.85, 123.55,   1.22,  50.27,  23.97,   1.45,\n",
       "         3.34,   1.72,  96.94,   1.37,  13.54,   3.13,   1.18,  16.75,\n",
       "        15.43,  12.28,   5.25,   4.73,   9.6 ,  10.53,   6.72, 209.  ,\n",
       "         5.14,  17.6 ,   3.25,   1.74,   4.25,  15.22,  14.2 ,   2.72,\n",
       "         8.84,   5.5 ,   9.45,  21.  ,   6.5 ,  13.65,   4.75,   0.78])"
      ]
     },
     "execution_count": 27,
     "metadata": {},
     "output_type": "execute_result"
    }
   ],
   "source": [
    "list_result[0][:,1]"
   ]
  },
  {
   "cell_type": "code",
   "execution_count": 28,
   "metadata": {},
   "outputs": [
    {
     "data": {
      "text/plain": [
       "array([ 3,  6,  6,  4,  9,  5,  4,  4,  3,  5,  4,  4,  5,  5,  3,  5,  6,\n",
       "        5,  6,  4,  4,  2,  2,  3,  3,  3,  4,  5,  8,  5,  3,  2,  7,  2,\n",
       "        2,  3,  3,  3,  3,  3,  3,  4,  5,  3,  4,  4,  7,  2,  1,  1,  1,\n",
       "        3,  4,  3,  3,  4,  2,  3,  4,  2,  4,  4,  4,  3,  3,  3, 10,  4,\n",
       "       10,  3,  2,  3,  5,  3,  4,  2,  2,  3,  3,  3,  3,  3,  2,  2,  2,\n",
       "        2,  2,  2,  4,  4,  5,  3,  3,  7,  5,  5,  3,  7,  3,  4,  4,  3,\n",
       "        6,  3,  3,  3,  5,  3,  5,  3,  4,  3,  2,  7,  4,  6,  4,  5,  2,\n",
       "        5,  4,  2,  2,  6,  2,  3,  4,  4,  3,  5,  5,  8,  3,  3,  4,  2,\n",
       "        2,  2,  3,  3,  3,  4,  3,  2,  2,  2,  2,  3,  3,  3,  5,  3,  5,\n",
       "        1,  3,  5,  4,  2,  3,  3,  5,  2,  3,  2,  3,  5,  3,  3,  4,  3,\n",
       "        3,  3,  6,  2,  4,  4,  3,  3,  3,  4,  5,  4,  2,  2,  1,  9,  3,\n",
       "        6, 11, 11,  2,  8,  5,  2,  4,  5,  4,  5,  4,  5,  4,  2,  4,  2,\n",
       "        4,  4,  3,  3,  2,  4,  8,  2,  2,  2,  2,  2,  2,  2,  1,  2,  2,\n",
       "        2,  3,  2,  2,  2,  3,  2,  1,  2,  1,  1])"
      ]
     },
     "execution_count": 28,
     "metadata": {},
     "output_type": "execute_result"
    }
   ],
   "source": [
    "list_result[1]"
   ]
  },
  {
   "cell_type": "code",
   "execution_count": 29,
   "metadata": {},
   "outputs": [],
   "source": [
    "from sklearn.datasets import make_blobs"
   ]
  },
  {
   "cell_type": "code",
   "execution_count": 30,
   "metadata": {
    "scrolled": true
   },
   "outputs": [
    {
     "data": {
      "text/plain": [
       "<matplotlib.collections.PathCollection at 0x70e568ec8f60>"
      ]
     },
     "execution_count": 30,
     "metadata": {},
     "output_type": "execute_result"
    },
    {
     "data": {
      "image/png": "[encoded data removed]",
      "text/plain": [
       "<Figure size 432x288 with 1 Axes>"
      ]
     },
     "metadata": {
      "needs_background": "light"
     },
     "output_type": "display_data"
    }
   ],
   "source": [
    "plt.scatter(list_result[0][:,0],list_result[0][:,1],c=list_result[1],cmap='rainbow')"
   ]
  },
  {
   "cell_type": "code",
   "execution_count": 31,
   "metadata": {},
   "outputs": [],
   "source": [
    "from sklearn.cluster import KMeans"
   ]
  },
  {
   "cell_type": "code",
   "execution_count": 32,
   "metadata": {},
   "outputs": [],
   "source": [
    "kmeans = KMeans(n_clusters=3)"
   ]
  },
  {
   "cell_type": "code",
   "execution_count": 33,
   "metadata": {},
   "outputs": [
    {
     "data": {
      "text/plain": [
       "KMeans(algorithm='auto', copy_x=True, init='k-means++', max_iter=300,\n",
       "    n_clusters=3, n_init=10, n_jobs=1, precompute_distances='auto',\n",
       "    random_state=None, tol=0.0001, verbose=0)"
      ]
     },
     "execution_count": 33,
     "metadata": {},
     "output_type": "execute_result"
    }
   ],
   "source": [
    "kmeans.fit(df_means)"
   ]
  },
  {
   "cell_type": "code",
   "execution_count": 34,
   "metadata": {},
   "outputs": [
    {
     "data": {
      "text/plain": [
       "array([[  2.02150538,   7.67236559],\n",
       "       [  2.74418605,  30.70534884],\n",
       "       [  2.        , 143.16333333]])"
      ]
     },
     "execution_count": 34,
     "metadata": {},
     "output_type": "execute_result"
    }
   ],
   "source": [
    "kmeans.cluster_centers_"
   ]
  },
  {
   "cell_type": "code",
   "execution_count": 35,
   "metadata": {},
   "outputs": [
    {
     "data": {
      "text/plain": [
       "array([0, 0, 1, 0, 1, 0, 0, 0, 0, 0, 0, 1, 1, 1, 0, 0, 0, 0, 0, 0, 0, 0,\n",
       "       1, 0, 0, 0, 1, 1, 1, 1, 0, 0, 1, 0, 0, 0, 0, 1, 0, 0, 1, 0, 0, 0,\n",
       "       0, 0, 0, 0, 0, 0, 0, 0, 0, 0, 0, 0, 0, 0, 0, 0, 0, 0, 0, 0, 0, 0,\n",
       "       0, 0, 0, 0, 0, 0, 1, 0, 0, 0, 0, 0, 0, 1, 0, 1, 0, 0, 0, 0, 0, 0,\n",
       "       1, 0, 1, 0, 0, 0, 0, 0, 0, 0, 0, 0, 0, 0, 1, 0, 0, 0, 0, 0, 1, 1,\n",
       "       0, 1, 0, 1, 1, 1, 0, 1, 0, 0, 0, 0, 0, 0, 0, 0, 1, 0, 0, 0, 1, 0,\n",
       "       0, 0, 0, 0, 0, 0, 0, 0, 0, 0, 1, 0, 0, 0, 0, 1, 1, 1, 0, 0, 0, 0,\n",
       "       0, 0, 0, 0, 0, 0, 1, 0, 0, 0, 0, 0, 0, 0, 0, 0, 0, 0, 1, 0, 0, 0,\n",
       "       0, 0, 0, 0, 0, 0, 0, 0, 0, 1, 0, 1, 1, 1, 0, 1, 1, 0, 0, 2, 0, 1,\n",
       "       1, 0, 0, 0, 2, 0, 0, 0, 0, 0, 0, 0, 0, 0, 0, 0, 0, 2, 0, 0, 0, 0,\n",
       "       0, 0, 0, 0, 0, 0, 0, 1, 0, 0, 0, 0], dtype=int32)"
      ]
     },
     "execution_count": 35,
     "metadata": {},
     "output_type": "execute_result"
    }
   ],
   "source": [
    "kmeans.labels_"
   ]
  },
  {
   "cell_type": "code",
   "execution_count": 36,
   "metadata": {},
   "outputs": [
    {
     "data": {
      "text/plain": [
       "<matplotlib.collections.PathCollection at 0x70e567f81c88>"
      ]
     },
     "execution_count": 36,
     "metadata": {},
     "output_type": "execute_result"
    },
    {
     "data": {
      "image/png": "[encoded data removed]",
      "text/plain": [
       "<Figure size 720x432 with 2 Axes>"
      ]
     },
     "metadata": {
      "needs_background": "light"
     },
     "output_type": "display_data"
    }
   ],
   "source": [
    "f, (ax1, ax2) = plt.subplots(1, 2, sharey=True,figsize=(10,6))\n",
    "ax1.set_title('K Means')\n",
    "ax1.scatter(list_result[0][:,0],list_result[0][:,1],c=kmeans.labels_,cmap='rainbow')\n",
    "ax2.set_title(\"Original\")\n",
    "ax2.scatter(list_result[0][:,0],list_result[0][:,1],c=list_result[1],cmap='rainbow')"
   ]
  },
  {
   "cell_type": "code",
   "execution_count": 37,
   "metadata": {},
   "outputs": [
    {
     "data": {
      "text/html": [
       "<div>\n",
       "<style scoped>\n",
       "    .dataframe tbody tr th:only-of-type {\n",
       "        vertical-align: middle;\n",
       "    }\n",
       "\n",
       "    .dataframe tbody tr th {\n",
       "        vertical-align: top;\n",
       "    }\n",
       "\n",
       "    .dataframe thead th {\n",
       "        text-align: right;\n",
       "    }\n",
       "</style>\n",
       "<table border=\"1\" class=\"dataframe\">\n",
       "  <thead>\n",
       "    <tr style=\"text-align: right;\">\n",
       "      <th></th>\n",
       "      <th>card_number</th>\n",
       "      <th>number_win</th>\n",
       "      <th>number_defeats</th>\n",
       "      <th>bet_value</th>\n",
       "      <th>win_value</th>\n",
       "      <th>cashout</th>\n",
       "      <th>card_type</th>\n",
       "      <th>result</th>\n",
       "      <th>bet_type</th>\n",
       "      <th>date</th>\n",
       "    </tr>\n",
       "  </thead>\n",
       "  <tbody>\n",
       "    <tr>\n",
       "      <th>0</th>\n",
       "      <td>3</td>\n",
       "      <td>1</td>\n",
       "      <td>2</td>\n",
       "      <td>1.0</td>\n",
       "      <td>11.08</td>\n",
       "      <td>0.0</td>\n",
       "      <td>combo</td>\n",
       "      <td>defeats</td>\n",
       "      <td>per goal</td>\n",
       "      <td>2024-09-02</td>\n",
       "    </tr>\n",
       "  </tbody>\n",
       "</table>\n",
       "</div>"
      ],
      "text/plain": [
       "   card_number  number_win  number_defeats  bet_value  win_value  cashout  \\\n",
       "0            3           1               2        1.0      11.08      0.0   \n",
       "\n",
       "  card_type   result  bet_type        date  \n",
       "0     combo  defeats  per goal  2024-09-02  "
      ]
     },
     "execution_count": 37,
     "metadata": {},
     "output_type": "execute_result"
    }
   ],
   "source": [
    "df_result.head(1)"
   ]
  },
  {
   "cell_type": "code",
   "execution_count": 38,
   "metadata": {},
   "outputs": [],
   "source": [
    "filter_result = np.where((df_result['result'] == 'win') | (df_result['result'] == 'defeats'))"
   ]
  },
  {
   "cell_type": "code",
   "execution_count": 39,
   "metadata": {},
   "outputs": [
    {
     "data": {
      "text/plain": [
       "(array([  0,   1,   2,   3,   4,   5,   6,   7,   8,   9,  10,  11,  12,\n",
       "         13,  14,  15,  16,  17,  18,  19,  20,  21,  22,  23,  24,  25,\n",
       "         26,  27,  28,  29,  30,  31,  32,  33,  34,  35,  36,  37,  38,\n",
       "         39,  40,  41,  42,  43,  44,  45,  46,  47,  48,  49,  50,  51,\n",
       "         52,  53,  54,  55,  56,  57,  58,  59,  60,  61,  62,  63,  64,\n",
       "         65,  66,  67,  68,  69,  70,  71,  72,  73,  74,  75,  76,  77,\n",
       "         78,  79,  80,  81,  82,  83,  84,  85,  86,  87,  88,  89,  90,\n",
       "         91,  92,  93,  94,  95,  96,  97,  98,  99, 100, 101, 102, 103,\n",
       "        104, 105, 106, 107, 108, 109, 110, 111, 112, 113, 114, 115, 116,\n",
       "        117, 118, 119, 120, 121, 122, 123, 124, 125, 126, 127, 128, 129,\n",
       "        130, 131, 132, 133, 134, 135, 136, 137, 138, 139, 140, 141, 142,\n",
       "        143, 144, 145, 146, 147, 148, 149, 150, 151, 152, 153, 154, 155,\n",
       "        156, 157, 158, 159, 160, 161, 162, 163, 164, 165, 166, 167, 168,\n",
       "        169, 170, 171, 172, 173, 174, 175, 176, 177, 178, 179, 180, 181,\n",
       "        182, 183, 184, 185, 186, 187, 188, 189, 190, 191, 192, 193, 194,\n",
       "        195, 196, 197, 198, 199, 200, 201, 202, 203, 204, 205, 206, 207,\n",
       "        208, 209, 210, 211, 212, 213, 214, 215, 216, 217, 218, 219, 220,\n",
       "        221, 222, 223, 224, 225, 226, 227, 228, 229, 230, 231]),)"
      ]
     },
     "execution_count": 39,
     "metadata": {},
     "output_type": "execute_result"
    }
   ],
   "source": [
    "filter_result "
   ]
  },
  {
   "cell_type": "code",
   "execution_count": 40,
   "metadata": {},
   "outputs": [
    {
     "data": {
      "text/html": [
       "<div>\n",
       "<style scoped>\n",
       "    .dataframe tbody tr th:only-of-type {\n",
       "        vertical-align: middle;\n",
       "    }\n",
       "\n",
       "    .dataframe tbody tr th {\n",
       "        vertical-align: top;\n",
       "    }\n",
       "\n",
       "    .dataframe thead th {\n",
       "        text-align: right;\n",
       "    }\n",
       "</style>\n",
       "<table border=\"1\" class=\"dataframe\">\n",
       "  <thead>\n",
       "    <tr style=\"text-align: right;\">\n",
       "      <th></th>\n",
       "      <th>card_number</th>\n",
       "      <th>number_win</th>\n",
       "      <th>number_defeats</th>\n",
       "      <th>bet_value</th>\n",
       "      <th>win_value</th>\n",
       "      <th>cashout</th>\n",
       "      <th>card_type</th>\n",
       "      <th>result</th>\n",
       "      <th>bet_type</th>\n",
       "      <th>date</th>\n",
       "    </tr>\n",
       "  </thead>\n",
       "  <tbody>\n",
       "    <tr>\n",
       "      <th>0</th>\n",
       "      <td>3</td>\n",
       "      <td>1</td>\n",
       "      <td>2</td>\n",
       "      <td>1.0</td>\n",
       "      <td>11.08</td>\n",
       "      <td>0.0</td>\n",
       "      <td>combo</td>\n",
       "      <td>defeats</td>\n",
       "      <td>per goal</td>\n",
       "      <td>2024-09-02</td>\n",
       "    </tr>\n",
       "    <tr>\n",
       "      <th>1</th>\n",
       "      <td>6</td>\n",
       "      <td>5</td>\n",
       "      <td>1</td>\n",
       "      <td>1.0</td>\n",
       "      <td>9.95</td>\n",
       "      <td>0.0</td>\n",
       "      <td>combo</td>\n",
       "      <td>defeats</td>\n",
       "      <td>per goal</td>\n",
       "      <td>2024-09-01</td>\n",
       "    </tr>\n",
       "    <tr>\n",
       "      <th>2</th>\n",
       "      <td>6</td>\n",
       "      <td>3</td>\n",
       "      <td>3</td>\n",
       "      <td>1.0</td>\n",
       "      <td>31.48</td>\n",
       "      <td>0.0</td>\n",
       "      <td>combo</td>\n",
       "      <td>defeats</td>\n",
       "      <td>per goal</td>\n",
       "      <td>2024-09-01</td>\n",
       "    </tr>\n",
       "    <tr>\n",
       "      <th>3</th>\n",
       "      <td>4</td>\n",
       "      <td>1</td>\n",
       "      <td>3</td>\n",
       "      <td>1.0</td>\n",
       "      <td>6.78</td>\n",
       "      <td>0.0</td>\n",
       "      <td>combo</td>\n",
       "      <td>defeats</td>\n",
       "      <td>per goal</td>\n",
       "      <td>2024-09-01</td>\n",
       "    </tr>\n",
       "    <tr>\n",
       "      <th>4</th>\n",
       "      <td>9</td>\n",
       "      <td>5</td>\n",
       "      <td>4</td>\n",
       "      <td>2.0</td>\n",
       "      <td>30.48</td>\n",
       "      <td>0.0</td>\n",
       "      <td>combo</td>\n",
       "      <td>defeats</td>\n",
       "      <td>per goal</td>\n",
       "      <td>2024-09-01</td>\n",
       "    </tr>\n",
       "  </tbody>\n",
       "</table>\n",
       "</div>"
      ],
      "text/plain": [
       "   card_number  number_win  number_defeats  bet_value  win_value  cashout  \\\n",
       "0            3           1               2        1.0      11.08      0.0   \n",
       "1            6           5               1        1.0       9.95      0.0   \n",
       "2            6           3               3        1.0      31.48      0.0   \n",
       "3            4           1               3        1.0       6.78      0.0   \n",
       "4            9           5               4        2.0      30.48      0.0   \n",
       "\n",
       "  card_type   result  bet_type        date  \n",
       "0     combo  defeats  per goal  2024-09-02  \n",
       "1     combo  defeats  per goal  2024-09-01  \n",
       "2     combo  defeats  per goal  2024-09-01  \n",
       "3     combo  defeats  per goal  2024-09-01  \n",
       "4     combo  defeats  per goal  2024-09-01  "
      ]
     },
     "execution_count": 40,
     "metadata": {},
     "output_type": "execute_result"
    }
   ],
   "source": [
    "result=df_result.loc[filter_result]\n",
    "result.head()"
   ]
  },
  {
   "cell_type": "code",
   "execution_count": 42,
   "metadata": {},
   "outputs": [
    {
     "name": "stderr",
     "output_type": "stream",
     "text": [
      "/home/iva/anaconda3/lib/python3.7/site-packages/seaborn/regression.py:546: UserWarning: The `size` paramter has been renamed to `height`; please update your code.\n",
      "  warnings.warn(msg, UserWarning)\n"
     ]
    },
    {
     "data": {
      "text/plain": [
       "<seaborn.axisgrid.FacetGrid at 0x70e567f34860>"
      ]
     },
     "execution_count": 42,
     "metadata": {},
     "output_type": "execute_result"
    },
    {
     "data": {
      "image/png": "[encoded data removed]",
      "text/plain": [
       "<Figure size 505.5x432 with 1 Axes>"
      ]
     },
     "metadata": {},
     "output_type": "display_data"
    }
   ],
   "source": [
    "sns.set_style('whitegrid')\n",
    "sns.lmplot('number_win','number_defeats',data=result, hue='result',\n",
    "           palette='coolwarm',size=6,aspect=1,fit_reg=False)"
   ]
  },
  {
   "cell_type": "code",
   "execution_count": 43,
   "metadata": {},
   "outputs": [
    {
     "name": "stderr",
     "output_type": "stream",
     "text": [
      "/home/iva/anaconda3/lib/python3.7/site-packages/seaborn/regression.py:546: UserWarning: The `size` paramter has been renamed to `height`; please update your code.\n",
      "  warnings.warn(msg, UserWarning)\n"
     ]
    },
    {
     "data": {
      "text/plain": [
       "<seaborn.axisgrid.FacetGrid at 0x70e567f585f8>"
      ]
     },
     "execution_count": 43,
     "metadata": {},
     "output_type": "execute_result"
    },
    {
     "data": {
      "image/png": "[encoded data removed]",
      "text/plain": [
       "<Figure size 505.5x432 with 1 Axes>"
      ]
     },
     "metadata": {},
     "output_type": "display_data"
    }
   ],
   "source": [
    "sns.set_style('whitegrid')\n",
    "sns.lmplot('card_number','win_value',data=result, hue='result',\n",
    "           palette='coolwarm',size=6,aspect=1,fit_reg=False)"
   ]
  },
  {
   "cell_type": "code",
   "execution_count": 44,
   "metadata": {},
   "outputs": [],
   "source": [
    "filter_win = np.where((df_result['result'] == 'win'))"
   ]
  },
  {
   "cell_type": "code",
   "execution_count": 45,
   "metadata": {},
   "outputs": [
    {
     "data": {
      "text/html": [
       "<div>\n",
       "<style scoped>\n",
       "    .dataframe tbody tr th:only-of-type {\n",
       "        vertical-align: middle;\n",
       "    }\n",
       "\n",
       "    .dataframe tbody tr th {\n",
       "        vertical-align: top;\n",
       "    }\n",
       "\n",
       "    .dataframe thead th {\n",
       "        text-align: right;\n",
       "    }\n",
       "</style>\n",
       "<table border=\"1\" class=\"dataframe\">\n",
       "  <thead>\n",
       "    <tr style=\"text-align: right;\">\n",
       "      <th></th>\n",
       "      <th>card_number</th>\n",
       "      <th>number_win</th>\n",
       "      <th>number_defeats</th>\n",
       "      <th>bet_value</th>\n",
       "      <th>win_value</th>\n",
       "      <th>cashout</th>\n",
       "      <th>card_type</th>\n",
       "      <th>result</th>\n",
       "      <th>bet_type</th>\n",
       "      <th>date</th>\n",
       "    </tr>\n",
       "  </thead>\n",
       "  <tbody>\n",
       "    <tr>\n",
       "      <th>10</th>\n",
       "      <td>4</td>\n",
       "      <td>4</td>\n",
       "      <td>0</td>\n",
       "      <td>1.57</td>\n",
       "      <td>8.61</td>\n",
       "      <td>0.0</td>\n",
       "      <td>combo</td>\n",
       "      <td>win</td>\n",
       "      <td>per goal</td>\n",
       "      <td>2024-09-01</td>\n",
       "    </tr>\n",
       "    <tr>\n",
       "      <th>41</th>\n",
       "      <td>4</td>\n",
       "      <td>4</td>\n",
       "      <td>0</td>\n",
       "      <td>1.63</td>\n",
       "      <td>7.75</td>\n",
       "      <td>0.0</td>\n",
       "      <td>combo</td>\n",
       "      <td>win</td>\n",
       "      <td>per win</td>\n",
       "      <td>2024-08-31</td>\n",
       "    </tr>\n",
       "    <tr>\n",
       "      <th>42</th>\n",
       "      <td>5</td>\n",
       "      <td>5</td>\n",
       "      <td>0</td>\n",
       "      <td>1.00</td>\n",
       "      <td>4.63</td>\n",
       "      <td>0.0</td>\n",
       "      <td>combo</td>\n",
       "      <td>win</td>\n",
       "      <td>per win</td>\n",
       "      <td>2024-08-31</td>\n",
       "    </tr>\n",
       "    <tr>\n",
       "      <th>48</th>\n",
       "      <td>1</td>\n",
       "      <td>1</td>\n",
       "      <td>0</td>\n",
       "      <td>0.95</td>\n",
       "      <td>1.24</td>\n",
       "      <td>0.0</td>\n",
       "      <td>unique</td>\n",
       "      <td>win</td>\n",
       "      <td>per win</td>\n",
       "      <td>2024-08-31</td>\n",
       "    </tr>\n",
       "    <tr>\n",
       "      <th>49</th>\n",
       "      <td>1</td>\n",
       "      <td>1</td>\n",
       "      <td>0</td>\n",
       "      <td>0.95</td>\n",
       "      <td>1.19</td>\n",
       "      <td>0.0</td>\n",
       "      <td>unique</td>\n",
       "      <td>win</td>\n",
       "      <td>per win</td>\n",
       "      <td>2024-08-31</td>\n",
       "    </tr>\n",
       "  </tbody>\n",
       "</table>\n",
       "</div>"
      ],
      "text/plain": [
       "    card_number  number_win  number_defeats  bet_value  win_value  cashout  \\\n",
       "10            4           4               0       1.57       8.61      0.0   \n",
       "41            4           4               0       1.63       7.75      0.0   \n",
       "42            5           5               0       1.00       4.63      0.0   \n",
       "48            1           1               0       0.95       1.24      0.0   \n",
       "49            1           1               0       0.95       1.19      0.0   \n",
       "\n",
       "   card_type result  bet_type        date  \n",
       "10     combo    win  per goal  2024-09-01  \n",
       "41     combo    win   per win  2024-08-31  \n",
       "42     combo    win   per win  2024-08-31  \n",
       "48    unique    win   per win  2024-08-31  \n",
       "49    unique    win   per win  2024-08-31  "
      ]
     },
     "execution_count": 45,
     "metadata": {},
     "output_type": "execute_result"
    }
   ],
   "source": [
    "result_win=df_result.loc[filter_win]\n",
    "result_win.head()"
   ]
  },
  {
   "cell_type": "code",
   "execution_count": 46,
   "metadata": {},
   "outputs": [
    {
     "name": "stderr",
     "output_type": "stream",
     "text": [
      "/home/iva/anaconda3/lib/python3.7/site-packages/seaborn/axisgrid.py:230: UserWarning: The `size` paramter has been renamed to `height`; please update your code.\n",
      "  warnings.warn(msg, UserWarning)\n"
     ]
    },
    {
     "data": {
      "image/png": "[encoded data removed]",
      "text/plain": [
       "<Figure size 720x360 with 1 Axes>"
      ]
     },
     "metadata": {},
     "output_type": "display_data"
    }
   ],
   "source": [
    "sns.set_style('darkgrid')\n",
    "g = sns.FacetGrid(result_win,hue=\"result\",palette='coolwarm',size=5,aspect=2)\n",
    "g = g.map(plt.hist,'win_value',bins=10,alpha=0.9)"
   ]
  },
  {
   "cell_type": "code",
   "execution_count": 90,
   "metadata": {},
   "outputs": [
    {
     "data": {
      "text/html": [
       "<div>\n",
       "<style scoped>\n",
       "    .dataframe tbody tr th:only-of-type {\n",
       "        vertical-align: middle;\n",
       "    }\n",
       "\n",
       "    .dataframe tbody tr th {\n",
       "        vertical-align: top;\n",
       "    }\n",
       "\n",
       "    .dataframe thead th {\n",
       "        text-align: right;\n",
       "    }\n",
       "</style>\n",
       "<table border=\"1\" class=\"dataframe\">\n",
       "  <thead>\n",
       "    <tr style=\"text-align: right;\">\n",
       "      <th></th>\n",
       "      <th>card_number</th>\n",
       "      <th>number_win</th>\n",
       "      <th>number_defeats</th>\n",
       "      <th>bet_value</th>\n",
       "      <th>win_value</th>\n",
       "      <th>cashout</th>\n",
       "      <th>card_type</th>\n",
       "      <th>result</th>\n",
       "      <th>bet_type</th>\n",
       "      <th>date</th>\n",
       "    </tr>\n",
       "  </thead>\n",
       "  <tbody>\n",
       "    <tr>\n",
       "      <th>0</th>\n",
       "      <td>4</td>\n",
       "      <td>2</td>\n",
       "      <td>2</td>\n",
       "      <td>1.0</td>\n",
       "      <td>14.05</td>\n",
       "      <td>0.0</td>\n",
       "      <td>combo</td>\n",
       "      <td>defeats</td>\n",
       "      <td>per goal</td>\n",
       "      <td>2024-08-01</td>\n",
       "    </tr>\n",
       "    <tr>\n",
       "      <th>1</th>\n",
       "      <td>4</td>\n",
       "      <td>3</td>\n",
       "      <td>1</td>\n",
       "      <td>1.0</td>\n",
       "      <td>7.81</td>\n",
       "      <td>0.0</td>\n",
       "      <td>combo</td>\n",
       "      <td>defeats</td>\n",
       "      <td>per goal</td>\n",
       "      <td>2024-08-01</td>\n",
       "    </tr>\n",
       "    <tr>\n",
       "      <th>2</th>\n",
       "      <td>3</td>\n",
       "      <td>1</td>\n",
       "      <td>2</td>\n",
       "      <td>1.0</td>\n",
       "      <td>15.77</td>\n",
       "      <td>0.0</td>\n",
       "      <td>combo</td>\n",
       "      <td>defeats</td>\n",
       "      <td>per goal</td>\n",
       "      <td>2024-08-01</td>\n",
       "    </tr>\n",
       "    <tr>\n",
       "      <th>3</th>\n",
       "      <td>5</td>\n",
       "      <td>3</td>\n",
       "      <td>2</td>\n",
       "      <td>1.0</td>\n",
       "      <td>16.88</td>\n",
       "      <td>0.0</td>\n",
       "      <td>combo</td>\n",
       "      <td>defeats</td>\n",
       "      <td>per goal</td>\n",
       "      <td>2024-08-01</td>\n",
       "    </tr>\n",
       "    <tr>\n",
       "      <th>5</th>\n",
       "      <td>4</td>\n",
       "      <td>2</td>\n",
       "      <td>2</td>\n",
       "      <td>2.0</td>\n",
       "      <td>51.74</td>\n",
       "      <td>0.0</td>\n",
       "      <td>combo</td>\n",
       "      <td>defeats</td>\n",
       "      <td>per goal</td>\n",
       "      <td>2024-08-01</td>\n",
       "    </tr>\n",
       "  </tbody>\n",
       "</table>\n",
       "</div>"
      ],
      "text/plain": [
       "   card_number  number_win  number_defeats  bet_value  win_value  cashout  \\\n",
       "0            4           2               2        1.0      14.05      0.0   \n",
       "1            4           3               1        1.0       7.81      0.0   \n",
       "2            3           1               2        1.0      15.77      0.0   \n",
       "3            5           3               2        1.0      16.88      0.0   \n",
       "5            4           2               2        2.0      51.74      0.0   \n",
       "\n",
       "  card_type   result  bet_type        date  \n",
       "0     combo  defeats  per goal  2024-08-01  \n",
       "1     combo  defeats  per goal  2024-08-01  \n",
       "2     combo  defeats  per goal  2024-08-01  \n",
       "3     combo  defeats  per goal  2024-08-01  \n",
       "5     combo  defeats  per goal  2024-08-01  "
      ]
     },
     "execution_count": 90,
     "metadata": {},
     "output_type": "execute_result"
    }
   ],
   "source": [
    "filter_defeats = np.where((df_result['result'] == 'defeats'))\n",
    "result_defeats=df_result.loc[filter_defeats]\n",
    "result_defeats.head()"
   ]
  },
  {
   "cell_type": "code",
   "execution_count": 91,
   "metadata": {},
   "outputs": [
    {
     "name": "stderr",
     "output_type": "stream",
     "text": [
      "/home/iva/anaconda3/lib/python3.7/site-packages/seaborn/axisgrid.py:230: UserWarning: The `size` paramter has been renamed to `height`; please update your code.\n",
      "  warnings.warn(msg, UserWarning)\n"
     ]
    },
    {
     "data": {
      "image/png": "[encoded data removed]",
      "text/plain": [
       "<Figure size 720x360 with 1 Axes>"
      ]
     },
     "metadata": {},
     "output_type": "display_data"
    }
   ],
   "source": [
    "sns.set_style('darkgrid')\n",
    "g = sns.FacetGrid(result_defeats,hue=\"result\",palette='coolwarm',size=5,aspect=2)\n",
    "g = g.map(plt.hist,'win_value',bins=10,alpha=0.9)"
   ]
  },
  {
   "cell_type": "code",
   "execution_count": 92,
   "metadata": {},
   "outputs": [
    {
     "name": "stderr",
     "output_type": "stream",
     "text": [
      "/home/iva/anaconda3/lib/python3.7/site-packages/seaborn/axisgrid.py:230: UserWarning: The `size` paramter has been renamed to `height`; please update your code.\n",
      "  warnings.warn(msg, UserWarning)\n"
     ]
    },
    {
     "data": {
      "image/png": "[encoded data removed]",
      "text/plain": [
       "<Figure size 864x432 with 1 Axes>"
      ]
     },
     "metadata": {},
     "output_type": "display_data"
    }
   ],
   "source": [
    "sns.set_style('whitegrid')\n",
    "g = sns.FacetGrid(result_defeats,hue=\"result\",palette='coolwarm',size=6,aspect=2)\n",
    "g = g.map(plt.hist,'number_defeats',bins=20,alpha=1)"
   ]
  }
 ],
 "metadata": {
  "kernelspec": {
   "display_name": "Python 3",
   "language": "python",
   "name": "python3"
  },
  "language_info": {
   "codemirror_mode": {
    "name": "ipython",
    "version": 3
   },
   "file_extension": ".py",
   "mimetype": "text/x-python",
   "name": "python",
   "nbconvert_exporter": "python",
   "pygments_lexer": "ipython3",
   "version": "3.7.0"
  }
 },
 "nbformat": 4,
 "nbformat_minor": 2
}
