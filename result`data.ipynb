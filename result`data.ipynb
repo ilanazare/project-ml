{
 "cells": [
  {
   "cell_type": "code",
   "execution_count": 91,
   "metadata": {},
   "outputs": [],
   "source": [
    "import numpy as np"
   ]
  },
  {
   "cell_type": "code",
   "execution_count": 92,
   "metadata": {},
   "outputs": [],
   "source": [
    "import pandas as pd"
   ]
  },
  {
   "cell_type": "code",
   "execution_count": 93,
   "metadata": {},
   "outputs": [],
   "source": [
    "import seaborn as sns"
   ]
  },
  {
   "cell_type": "code",
   "execution_count": 94,
   "metadata": {},
   "outputs": [],
   "source": [
    "import matplotlib.pyplot as plt"
   ]
  },
  {
   "cell_type": "code",
   "execution_count": 98,
   "metadata": {},
   "outputs": [],
   "source": [
    "%matplotlib inline"
   ]
  },
  {
   "cell_type": "code",
   "execution_count": 276,
   "metadata": {},
   "outputs": [],
   "source": [
    "df_result = pd.read_csv(\"result`data.csv\")"
   ]
  },
  {
   "cell_type": "code",
   "execution_count": 277,
   "metadata": {},
   "outputs": [
    {
     "data": {
      "text/html": [
       "<div>\n",
       "<style scoped>\n",
       "    .dataframe tbody tr th:only-of-type {\n",
       "        vertical-align: middle;\n",
       "    }\n",
       "\n",
       "    .dataframe tbody tr th {\n",
       "        vertical-align: top;\n",
       "    }\n",
       "\n",
       "    .dataframe thead th {\n",
       "        text-align: right;\n",
       "    }\n",
       "</style>\n",
       "<table border=\"1\" class=\"dataframe\">\n",
       "  <thead>\n",
       "    <tr style=\"text-align: right;\">\n",
       "      <th></th>\n",
       "      <th>card_number</th>\n",
       "      <th>number_win</th>\n",
       "      <th>number_defeats</th>\n",
       "      <th>bet_value</th>\n",
       "      <th>win_value</th>\n",
       "      <th>card_type</th>\n",
       "      <th>result</th>\n",
       "      <th>bet_type</th>\n",
       "      <th>date</th>\n",
       "    </tr>\n",
       "  </thead>\n",
       "  <tbody>\n",
       "    <tr>\n",
       "      <th>0</th>\n",
       "      <td>4</td>\n",
       "      <td>2</td>\n",
       "      <td>2</td>\n",
       "      <td>1.00</td>\n",
       "      <td>14.05</td>\n",
       "      <td>unique</td>\n",
       "      <td>defeats</td>\n",
       "      <td>per goal</td>\n",
       "      <td>2024-08-01</td>\n",
       "    </tr>\n",
       "    <tr>\n",
       "      <th>1</th>\n",
       "      <td>4</td>\n",
       "      <td>3</td>\n",
       "      <td>1</td>\n",
       "      <td>1.00</td>\n",
       "      <td>7.81</td>\n",
       "      <td>unique</td>\n",
       "      <td>defeats</td>\n",
       "      <td>per goal</td>\n",
       "      <td>2024-08-01</td>\n",
       "    </tr>\n",
       "    <tr>\n",
       "      <th>2</th>\n",
       "      <td>3</td>\n",
       "      <td>1</td>\n",
       "      <td>2</td>\n",
       "      <td>1.00</td>\n",
       "      <td>15.77</td>\n",
       "      <td>unique</td>\n",
       "      <td>defeats</td>\n",
       "      <td>per goal</td>\n",
       "      <td>2024-08-01</td>\n",
       "    </tr>\n",
       "    <tr>\n",
       "      <th>3</th>\n",
       "      <td>5</td>\n",
       "      <td>3</td>\n",
       "      <td>2</td>\n",
       "      <td>1.00</td>\n",
       "      <td>16.88</td>\n",
       "      <td>unique</td>\n",
       "      <td>defeats</td>\n",
       "      <td>per goal</td>\n",
       "      <td>2024-08-01</td>\n",
       "    </tr>\n",
       "    <tr>\n",
       "      <th>4</th>\n",
       "      <td>4</td>\n",
       "      <td>4</td>\n",
       "      <td>0</td>\n",
       "      <td>1.57</td>\n",
       "      <td>8.61</td>\n",
       "      <td>unique</td>\n",
       "      <td>win</td>\n",
       "      <td>per goal</td>\n",
       "      <td>2024-08-01</td>\n",
       "    </tr>\n",
       "  </tbody>\n",
       "</table>\n",
       "</div>"
      ],
      "text/plain": [
       "   card_number  number_win  number_defeats  bet_value  win_value card_type  \\\n",
       "0            4           2               2       1.00      14.05    unique   \n",
       "1            4           3               1       1.00       7.81    unique   \n",
       "2            3           1               2       1.00      15.77    unique   \n",
       "3            5           3               2       1.00      16.88    unique   \n",
       "4            4           4               0       1.57       8.61    unique   \n",
       "\n",
       "    result  bet_type        date  \n",
       "0  defeats  per goal  2024-08-01  \n",
       "1  defeats  per goal  2024-08-01  \n",
       "2  defeats  per goal  2024-08-01  \n",
       "3  defeats  per goal  2024-08-01  \n",
       "4      win  per goal  2024-08-01  "
      ]
     },
     "execution_count": 277,
     "metadata": {},
     "output_type": "execute_result"
    }
   ],
   "source": [
    "df_result.head()"
   ]
  },
  {
   "cell_type": "code",
   "execution_count": 101,
   "metadata": {},
   "outputs": [
    {
     "data": {
      "text/html": [
       "<div>\n",
       "<style scoped>\n",
       "    .dataframe tbody tr th:only-of-type {\n",
       "        vertical-align: middle;\n",
       "    }\n",
       "\n",
       "    .dataframe tbody tr th {\n",
       "        vertical-align: top;\n",
       "    }\n",
       "\n",
       "    .dataframe thead th {\n",
       "        text-align: right;\n",
       "    }\n",
       "</style>\n",
       "<table border=\"1\" class=\"dataframe\">\n",
       "  <thead>\n",
       "    <tr style=\"text-align: right;\">\n",
       "      <th></th>\n",
       "      <th>card_number</th>\n",
       "      <th>number_win</th>\n",
       "      <th>number_defeats</th>\n",
       "      <th>bet_value</th>\n",
       "      <th>win_value</th>\n",
       "      <th>card_type</th>\n",
       "      <th>result</th>\n",
       "      <th>bet_type</th>\n",
       "      <th>date</th>\n",
       "    </tr>\n",
       "  </thead>\n",
       "  <tbody>\n",
       "    <tr>\n",
       "      <th>64</th>\n",
       "      <td>5</td>\n",
       "      <td>2</td>\n",
       "      <td>3</td>\n",
       "      <td>1.00</td>\n",
       "      <td>22.46</td>\n",
       "      <td>single</td>\n",
       "      <td>defeats</td>\n",
       "      <td>per win</td>\n",
       "      <td>2024-08-27</td>\n",
       "    </tr>\n",
       "    <tr>\n",
       "      <th>65</th>\n",
       "      <td>3</td>\n",
       "      <td>1</td>\n",
       "      <td>2</td>\n",
       "      <td>1.28</td>\n",
       "      <td>18.03</td>\n",
       "      <td>single</td>\n",
       "      <td>defeats</td>\n",
       "      <td>per win</td>\n",
       "      <td>2024-08-27</td>\n",
       "    </tr>\n",
       "    <tr>\n",
       "      <th>66</th>\n",
       "      <td>4</td>\n",
       "      <td>3</td>\n",
       "      <td>1</td>\n",
       "      <td>1.00</td>\n",
       "      <td>18.03</td>\n",
       "      <td>single</td>\n",
       "      <td>defeats</td>\n",
       "      <td>per win</td>\n",
       "      <td>2024-08-27</td>\n",
       "    </tr>\n",
       "    <tr>\n",
       "      <th>67</th>\n",
       "      <td>4</td>\n",
       "      <td>3</td>\n",
       "      <td>1</td>\n",
       "      <td>1.00</td>\n",
       "      <td>11.48</td>\n",
       "      <td>single</td>\n",
       "      <td>cashout(0.69)</td>\n",
       "      <td>per win</td>\n",
       "      <td>2024-08-27</td>\n",
       "    </tr>\n",
       "    <tr>\n",
       "      <th>68</th>\n",
       "      <td>2</td>\n",
       "      <td>2</td>\n",
       "      <td>0</td>\n",
       "      <td>1.00</td>\n",
       "      <td>8.12</td>\n",
       "      <td>single</td>\n",
       "      <td>win</td>\n",
       "      <td>per win</td>\n",
       "      <td>2024-08-27</td>\n",
       "    </tr>\n",
       "  </tbody>\n",
       "</table>\n",
       "</div>"
      ],
      "text/plain": [
       "    card_number  number_win  number_defeats  bet_value  win_value card_type  \\\n",
       "64            5           2               3       1.00      22.46    single   \n",
       "65            3           1               2       1.28      18.03    single   \n",
       "66            4           3               1       1.00      18.03    single   \n",
       "67            4           3               1       1.00      11.48    single   \n",
       "68            2           2               0       1.00       8.12    single   \n",
       "\n",
       "           result bet_type        date  \n",
       "64        defeats  per win  2024-08-27  \n",
       "65        defeats  per win  2024-08-27  \n",
       "66        defeats  per win  2024-08-27  \n",
       "67  cashout(0.69)  per win  2024-08-27  \n",
       "68            win  per win  2024-08-27  "
      ]
     },
     "execution_count": 101,
     "metadata": {},
     "output_type": "execute_result"
    }
   ],
   "source": [
    "df_result.tail()"
   ]
  },
  {
   "cell_type": "code",
   "execution_count": 102,
   "metadata": {
    "scrolled": true
   },
   "outputs": [
    {
     "name": "stdout",
     "output_type": "stream",
     "text": [
      "<class 'pandas.core.frame.DataFrame'>\n",
      "RangeIndex: 69 entries, 0 to 68\n",
      "Data columns (total 9 columns):\n",
      "card_number       69 non-null int64\n",
      "number_win        69 non-null int64\n",
      "number_defeats    69 non-null int64\n",
      "bet_value         69 non-null float64\n",
      "win_value         69 non-null float64\n",
      "card_type         69 non-null object\n",
      "result            69 non-null object\n",
      "bet_type          69 non-null object\n",
      "date              69 non-null object\n",
      "dtypes: float64(2), int64(3), object(4)\n",
      "memory usage: 4.9+ KB\n"
     ]
    }
   ],
   "source": [
    "df_result.info()"
   ]
  },
  {
   "cell_type": "code",
   "execution_count": 103,
   "metadata": {
    "scrolled": true
   },
   "outputs": [
    {
     "data": {
      "text/html": [
       "<div>\n",
       "<style scoped>\n",
       "    .dataframe tbody tr th:only-of-type {\n",
       "        vertical-align: middle;\n",
       "    }\n",
       "\n",
       "    .dataframe tbody tr th {\n",
       "        vertical-align: top;\n",
       "    }\n",
       "\n",
       "    .dataframe thead th {\n",
       "        text-align: right;\n",
       "    }\n",
       "</style>\n",
       "<table border=\"1\" class=\"dataframe\">\n",
       "  <thead>\n",
       "    <tr style=\"text-align: right;\">\n",
       "      <th></th>\n",
       "      <th>card_number</th>\n",
       "      <th>number_win</th>\n",
       "      <th>number_defeats</th>\n",
       "      <th>bet_value</th>\n",
       "      <th>win_value</th>\n",
       "    </tr>\n",
       "  </thead>\n",
       "  <tbody>\n",
       "    <tr>\n",
       "      <th>count</th>\n",
       "      <td>69.000000</td>\n",
       "      <td>69.000000</td>\n",
       "      <td>69.000000</td>\n",
       "      <td>69.000000</td>\n",
       "      <td>69.000000</td>\n",
       "    </tr>\n",
       "    <tr>\n",
       "      <th>mean</th>\n",
       "      <td>3.753623</td>\n",
       "      <td>2.144928</td>\n",
       "      <td>1.608696</td>\n",
       "      <td>1.004348</td>\n",
       "      <td>11.728261</td>\n",
       "    </tr>\n",
       "    <tr>\n",
       "      <th>std</th>\n",
       "      <td>1.743946</td>\n",
       "      <td>1.691461</td>\n",
       "      <td>1.003192</td>\n",
       "      <td>0.382259</td>\n",
       "      <td>9.749140</td>\n",
       "    </tr>\n",
       "    <tr>\n",
       "      <th>min</th>\n",
       "      <td>1.000000</td>\n",
       "      <td>0.000000</td>\n",
       "      <td>0.000000</td>\n",
       "      <td>0.500000</td>\n",
       "      <td>1.190000</td>\n",
       "    </tr>\n",
       "    <tr>\n",
       "      <th>25%</th>\n",
       "      <td>3.000000</td>\n",
       "      <td>1.000000</td>\n",
       "      <td>1.000000</td>\n",
       "      <td>0.950000</td>\n",
       "      <td>4.750000</td>\n",
       "    </tr>\n",
       "    <tr>\n",
       "      <th>50%</th>\n",
       "      <td>3.000000</td>\n",
       "      <td>2.000000</td>\n",
       "      <td>2.000000</td>\n",
       "      <td>1.000000</td>\n",
       "      <td>8.120000</td>\n",
       "    </tr>\n",
       "    <tr>\n",
       "      <th>75%</th>\n",
       "      <td>4.000000</td>\n",
       "      <td>3.000000</td>\n",
       "      <td>2.000000</td>\n",
       "      <td>1.000000</td>\n",
       "      <td>14.580000</td>\n",
       "    </tr>\n",
       "    <tr>\n",
       "      <th>max</th>\n",
       "      <td>10.000000</td>\n",
       "      <td>9.000000</td>\n",
       "      <td>4.000000</td>\n",
       "      <td>2.440000</td>\n",
       "      <td>51.740000</td>\n",
       "    </tr>\n",
       "  </tbody>\n",
       "</table>\n",
       "</div>"
      ],
      "text/plain": [
       "       card_number  number_win  number_defeats  bet_value  win_value\n",
       "count    69.000000   69.000000       69.000000  69.000000  69.000000\n",
       "mean      3.753623    2.144928        1.608696   1.004348  11.728261\n",
       "std       1.743946    1.691461        1.003192   0.382259   9.749140\n",
       "min       1.000000    0.000000        0.000000   0.500000   1.190000\n",
       "25%       3.000000    1.000000        1.000000   0.950000   4.750000\n",
       "50%       3.000000    2.000000        2.000000   1.000000   8.120000\n",
       "75%       4.000000    3.000000        2.000000   1.000000  14.580000\n",
       "max      10.000000    9.000000        4.000000   2.440000  51.740000"
      ]
     },
     "execution_count": 103,
     "metadata": {},
     "output_type": "execute_result"
    }
   ],
   "source": [
    "df_result.describe()"
   ]
  },
  {
   "cell_type": "code",
   "execution_count": 104,
   "metadata": {},
   "outputs": [
    {
     "data": {
      "text/plain": [
       "Index(['card_number', 'number_win', 'number_defeats', 'bet_value', 'win_value',\n",
       "       'card_type', 'result', 'bet_type', 'date'],\n",
       "      dtype='object')"
      ]
     },
     "execution_count": 104,
     "metadata": {},
     "output_type": "execute_result"
    }
   ],
   "source": [
    "df_result.columns"
   ]
  },
  {
   "cell_type": "code",
   "execution_count": 105,
   "metadata": {},
   "outputs": [
    {
     "data": {
      "text/plain": [
       "0    4\n",
       "1    4\n",
       "Name: card_number, dtype: int64"
      ]
     },
     "execution_count": 105,
     "metadata": {},
     "output_type": "execute_result"
    }
   ],
   "source": [
    "df_result['card_number'].head(2)"
   ]
  },
  {
   "cell_type": "code",
   "execution_count": 106,
   "metadata": {},
   "outputs": [
    {
     "data": {
      "text/plain": [
       "<seaborn.axisgrid.PairGrid at 0x759d4e5e0048>"
      ]
     },
     "execution_count": 106,
     "metadata": {},
     "output_type": "execute_result"
    },
    {
     "data": {
      "image/png": "[encoded data removed]",
      "text/plain": [
       "<Figure size 900x900 with 30 Axes>"
      ]
     },
     "metadata": {
      "needs_background": "light"
     },
     "output_type": "display_data"
    }
   ],
   "source": [
    "sns.pairplot(df_result)"
   ]
  },
  {
   "cell_type": "code",
   "execution_count": 108,
   "metadata": {},
   "outputs": [
    {
     "name": "stderr",
     "output_type": "stream",
     "text": [
      "/home/iva/anaconda3/lib/python3.7/site-packages/scipy/stats/stats.py:1713: FutureWarning: Using a non-tuple sequence for multidimensional indexing is deprecated; use `arr[tuple(seq)]` instead of `arr[seq]`. In the future this will be interpreted as an array index, `arr[np.array(seq)]`, which will result either in an error or a different result.\n",
      "  return np.add.reduce(sorted[indexer] * weights, axis=axis) / sumval\n"
     ]
    },
    {
     "data": {
      "text/plain": [
       "<matplotlib.axes._subplots.AxesSubplot at 0x759d4d5b3da0>"
      ]
     },
     "execution_count": 108,
     "metadata": {},
     "output_type": "execute_result"
    },
    {
     "data": {
      "image/png": "[encoded data removed]",
      "text/plain": [
       "<Figure size 432x288 with 1 Axes>"
      ]
     },
     "metadata": {
      "needs_background": "light"
     },
     "output_type": "display_data"
    }
   ],
   "source": [
    "sns.distplot(df_result['card_number'], kde=True, bins=5)"
   ]
  },
  {
   "cell_type": "code",
   "execution_count": 109,
   "metadata": {},
   "outputs": [
    {
     "data": {
      "text/plain": [
       "<matplotlib.axes._subplots.AxesSubplot at 0x759d4d4856a0>"
      ]
     },
     "execution_count": 109,
     "metadata": {},
     "output_type": "execute_result"
    },
    {
     "data": {
      "image/png": "[encoded data removed]",
      "text/plain": [
       "<Figure size 432x288 with 2 Axes>"
      ]
     },
     "metadata": {
      "needs_background": "light"
     },
     "output_type": "display_data"
    }
   ],
   "source": [
    "sns.heatmap(df_result.corr())"
   ]
  },
  {
   "cell_type": "code",
   "execution_count": 110,
   "metadata": {},
   "outputs": [
    {
     "name": "stderr",
     "output_type": "stream",
     "text": [
      "/home/iva/anaconda3/lib/python3.7/site-packages/scipy/stats/stats.py:1713: FutureWarning: Using a non-tuple sequence for multidimensional indexing is deprecated; use `arr[tuple(seq)]` instead of `arr[seq]`. In the future this will be interpreted as an array index, `arr[np.array(seq)]`, which will result either in an error or a different result.\n",
      "  return np.add.reduce(sorted[indexer] * weights, axis=axis) / sumval\n"
     ]
    },
    {
     "data": {
      "text/plain": [
       "<seaborn.axisgrid.JointGrid at 0x759d4d405be0>"
      ]
     },
     "execution_count": 110,
     "metadata": {},
     "output_type": "execute_result"
    },
    {
     "data": {
      "image/png": "[encoded data removed]",
      "text/plain": [
       "<Figure size 432x432 with 3 Axes>"
      ]
     },
     "metadata": {
      "needs_background": "light"
     },
     "output_type": "display_data"
    }
   ],
   "source": [
    "sns.jointplot(x='card_number', y='win_value', data=df_result, kind='kde')"
   ]
  },
  {
   "cell_type": "code",
   "execution_count": 111,
   "metadata": {},
   "outputs": [
    {
     "name": "stderr",
     "output_type": "stream",
     "text": [
      "/home/iva/anaconda3/lib/python3.7/site-packages/scipy/stats/stats.py:1713: FutureWarning: Using a non-tuple sequence for multidimensional indexing is deprecated; use `arr[tuple(seq)]` instead of `arr[seq]`. In the future this will be interpreted as an array index, `arr[np.array(seq)]`, which will result either in an error or a different result.\n",
      "  return np.add.reduce(sorted[indexer] * weights, axis=axis) / sumval\n"
     ]
    },
    {
     "data": {
      "text/plain": [
       "<seaborn.axisgrid.JointGrid at 0x759d4d3524e0>"
      ]
     },
     "execution_count": 111,
     "metadata": {},
     "output_type": "execute_result"
    },
    {
     "data": {
      "image/png": "[encoded data removed]",
      "text/plain": [
       "<Figure size 432x432 with 3 Axes>"
      ]
     },
     "metadata": {
      "needs_background": "light"
     },
     "output_type": "display_data"
    }
   ],
   "source": [
    "sns.jointplot(x='card_number', y='win_value', data=df_result, kind = \"hex\")"
   ]
  },
  {
   "cell_type": "code",
   "execution_count": 112,
   "metadata": {},
   "outputs": [
    {
     "name": "stderr",
     "output_type": "stream",
     "text": [
      "/home/iva/anaconda3/lib/python3.7/site-packages/scipy/stats/stats.py:1713: FutureWarning: Using a non-tuple sequence for multidimensional indexing is deprecated; use `arr[tuple(seq)]` instead of `arr[seq]`. In the future this will be interpreted as an array index, `arr[np.array(seq)]`, which will result either in an error or a different result.\n",
      "  return np.add.reduce(sorted[indexer] * weights, axis=axis) / sumval\n",
      "/home/iva/anaconda3/lib/python3.7/site-packages/matplotlib/contour.py:1230: UserWarning: No contour levels were found within the data range.\n",
      "  warnings.warn(\"No contour levels were found\"\n"
     ]
    },
    {
     "data": {
      "text/plain": [
       "<seaborn.axisgrid.JointGrid at 0x759d4cec3860>"
      ]
     },
     "execution_count": 112,
     "metadata": {},
     "output_type": "execute_result"
    },
    {
     "data": {
      "image/png": "[encoded data removed]",
      "text/plain": [
       "<Figure size 432x432 with 3 Axes>"
      ]
     },
     "metadata": {
      "needs_background": "light"
     },
     "output_type": "display_data"
    }
   ],
   "source": [
    "g = sns.jointplot(data=df_result, x='card_number', y='number_defeats')\n",
    "g.plot_joint(sns.kdeplot, color=\"r\", zorder=0, levels=6)\n",
    "g.plot_marginals(sns.rugplot, color=\"r\", height=-.15, clip_on=False)"
   ]
  },
  {
   "cell_type": "markdown",
   "metadata": {},
   "source": [
    "## K Means"
   ]
  },
  {
   "cell_type": "code",
   "execution_count": 232,
   "metadata": {},
   "outputs": [
    {
     "data": {
      "text/plain": [
       "array([[ 2.  , 14.05],\n",
       "       [ 3.  ,  7.81],\n",
       "       [ 1.  , 15.77],\n",
       "       [ 3.  , 16.88],\n",
       "       [ 4.  ,  8.61],\n",
       "       [ 2.  , 51.74],\n",
       "       [ 3.  , 23.22],\n",
       "       [ 2.  ,  5.77],\n",
       "       [ 3.  , 13.06],\n",
       "       [ 2.  , 10.62],\n",
       "       [ 3.  , 10.99],\n",
       "       [ 3.  ,  6.48],\n",
       "       [ 1.  , 12.12],\n",
       "       [ 3.  , 11.62],\n",
       "       [ 0.  ,  8.74],\n",
       "       [ 0.  , 23.8 ],\n",
       "       [ 2.  ,  7.6 ],\n",
       "       [ 1.  ,  7.91],\n",
       "       [ 1.  ,  6.93],\n",
       "       [ 2.  , 32.12],\n",
       "       [ 1.  , 29.42],\n",
       "       [ 6.  , 35.02],\n",
       "       [ 2.  , 34.31],\n",
       "       [ 1.  , 10.44],\n",
       "       [ 1.  ,  3.36],\n",
       "       [ 4.  , 29.22],\n",
       "       [ 0.  , 12.  ],\n",
       "       [ 1.  ,  3.28],\n",
       "       [ 2.  , 14.58],\n",
       "       [ 2.  ,  9.79],\n",
       "       [ 1.  , 27.96],\n",
       "       [ 1.  , 10.19],\n",
       "       [ 2.  , 17.85],\n",
       "       [ 0.  , 21.93],\n",
       "       [ 4.  ,  7.75],\n",
       "       [ 5.  ,  4.63],\n",
       "       [ 2.  ,  1.64],\n",
       "       [ 3.  ,  2.94],\n",
       "       [ 2.  ,  6.8 ],\n",
       "       [ 3.  ,  7.03],\n",
       "       [ 1.  ,  5.04],\n",
       "       [ 1.  ,  1.24],\n",
       "       [ 1.  ,  1.19],\n",
       "       [ 1.  ,  1.27],\n",
       "       [ 3.  ,  7.08],\n",
       "       [ 2.  ,  5.65],\n",
       "       [ 2.  ,  3.42],\n",
       "       [ 3.  ,  2.04],\n",
       "       [ 3.  ,  4.46],\n",
       "       [ 1.  ,  4.62],\n",
       "       [ 2.  ,  3.69],\n",
       "       [ 3.  ,  2.31],\n",
       "       [ 1.  ,  3.68],\n",
       "       [ 1.  ,  6.32],\n",
       "       [ 3.  ,  6.86],\n",
       "       [ 2.  ,  4.75],\n",
       "       [ 1.  , 17.12],\n",
       "       [ 1.  ,  4.22],\n",
       "       [ 1.  ,  5.14],\n",
       "       [ 9.  , 14.35],\n",
       "       [ 2.  , 13.84],\n",
       "       [ 9.  , 14.35],\n",
       "       [ 0.  ,  7.86],\n",
       "       [ 0.  ,  4.65],\n",
       "       [ 2.  , 22.46],\n",
       "       [ 1.  , 18.03],\n",
       "       [ 3.  , 18.03],\n",
       "       [ 3.  , 11.48],\n",
       "       [ 2.  ,  8.12]])"
      ]
     },
     "execution_count": 232,
     "metadata": {},
     "output_type": "execute_result"
    }
   ],
   "source": [
    "df_means=df_result.iloc[:,[1,4]].values\n",
    "df_means"
   ]
  },
  {
   "cell_type": "code",
   "execution_count": 208,
   "metadata": {},
   "outputs": [
    {
     "data": {
      "text/plain": [
       "array([ 4,  4,  3,  5,  4,  4,  5,  3,  5,  6,  5,  6,  4,  4,  2,  2,  3,\n",
       "        3,  3,  4,  5,  8,  5,  3,  2,  7,  2,  2,  3,  3,  3,  3,  3,  3,\n",
       "        4,  5,  3,  4,  4,  7,  2,  1,  1,  1,  3,  4,  3,  3,  4,  2,  3,\n",
       "        4,  2,  4,  4,  4,  3,  3,  3, 10,  4, 10,  3,  2,  5,  3,  4,  4,\n",
       "        2])"
      ]
     },
     "execution_count": 208,
     "metadata": {},
     "output_type": "execute_result"
    }
   ],
   "source": [
    "list_rcn = df_result[df_result.columns[0]].tolist()\n",
    "array_rcn = np.array(list_rcn)\n",
    "array_rcn"
   ]
  },
  {
   "cell_type": "code",
   "execution_count": 209,
   "metadata": {},
   "outputs": [
    {
     "data": {
      "text/plain": [
       "array([2, 3, 1, 3, 4, 2, 3, 2, 3, 2, 3, 3, 1, 3, 0, 0, 2, 1, 1, 2, 1, 6,\n",
       "       2, 1, 1, 4, 0, 1, 2, 2, 1, 1, 2, 0, 4, 5, 2, 3, 2, 3, 1, 1, 1, 1,\n",
       "       3, 2, 2, 3, 3, 1, 2, 3, 1, 1, 3, 2, 1, 1, 1, 9, 2, 9, 0, 0, 2, 1,\n",
       "       3, 3, 2])"
      ]
     },
     "execution_count": 209,
     "metadata": {},
     "output_type": "execute_result"
    }
   ],
   "source": [
    "list_rw = df_result[df_result.columns[1]].tolist()\n",
    "array_rw = np.array(list_rw)\n",
    "array_rw"
   ]
  },
  {
   "cell_type": "code",
   "execution_count": 210,
   "metadata": {},
   "outputs": [
    {
     "data": {
      "text/plain": [
       "array([14.05,  7.81, 15.77, 16.88,  8.61, 51.74, 23.22,  5.77, 13.06,\n",
       "       10.62, 10.99,  6.48, 12.12, 11.62,  8.74, 23.8 ,  7.6 ,  7.91,\n",
       "        6.93, 32.12, 29.42, 35.02, 34.31, 10.44,  3.36, 29.22, 12.  ,\n",
       "        3.28, 14.58,  9.79, 27.96, 10.19, 17.85, 21.93,  7.75,  4.63,\n",
       "        1.64,  2.94,  6.8 ,  7.03,  5.04,  1.24,  1.19,  1.27,  7.08,\n",
       "        5.65,  3.42,  2.04,  4.46,  4.62,  3.69,  2.31,  3.68,  6.32,\n",
       "        6.86,  4.75, 17.12,  4.22,  5.14, 14.35, 13.84, 14.35,  7.86,\n",
       "        4.65, 22.46, 18.03, 18.03, 11.48,  8.12])"
      ]
     },
     "execution_count": 210,
     "metadata": {},
     "output_type": "execute_result"
    }
   ],
   "source": [
    "list_rwv = df_result[df_result.columns[4]].tolist()\n",
    "array_rwv = np.array(list_rwv)\n",
    "array_rwv"
   ]
  },
  {
   "cell_type": "code",
   "execution_count": 227,
   "metadata": {},
   "outputs": [
    {
     "data": {
      "text/plain": [
       "array([2., 3., 1., 3., 4., 2., 3., 2., 3., 2., 3., 3., 1., 3., 0., 0., 2.,\n",
       "       1., 1., 2., 1., 6., 2., 1., 1., 4., 0., 1., 2., 2., 1., 1., 2., 0.,\n",
       "       4., 5., 2., 3., 2., 3., 1., 1., 1., 1., 3., 2., 2., 3., 3., 1., 2.,\n",
       "       3., 1., 1., 3., 2., 1., 1., 1., 9., 2., 9., 0., 0., 2., 1., 3., 3.,\n",
       "       2.])"
      ]
     },
     "execution_count": 227,
     "metadata": {},
     "output_type": "execute_result"
    }
   ],
   "source": [
    "list_result=[df_means,array_rcn]\n",
    "list_result[0][:,0]"
   ]
  },
  {
   "cell_type": "code",
   "execution_count": 228,
   "metadata": {
    "scrolled": true
   },
   "outputs": [
    {
     "data": {
      "text/plain": [
       "array([14.05,  7.81, 15.77, 16.88,  8.61, 51.74, 23.22,  5.77, 13.06,\n",
       "       10.62, 10.99,  6.48, 12.12, 11.62,  8.74, 23.8 ,  7.6 ,  7.91,\n",
       "        6.93, 32.12, 29.42, 35.02, 34.31, 10.44,  3.36, 29.22, 12.  ,\n",
       "        3.28, 14.58,  9.79, 27.96, 10.19, 17.85, 21.93,  7.75,  4.63,\n",
       "        1.64,  2.94,  6.8 ,  7.03,  5.04,  1.24,  1.19,  1.27,  7.08,\n",
       "        5.65,  3.42,  2.04,  4.46,  4.62,  3.69,  2.31,  3.68,  6.32,\n",
       "        6.86,  4.75, 17.12,  4.22,  5.14, 14.35, 13.84, 14.35,  7.86,\n",
       "        4.65, 22.46, 18.03, 18.03, 11.48,  8.12])"
      ]
     },
     "execution_count": 228,
     "metadata": {},
     "output_type": "execute_result"
    }
   ],
   "source": [
    "list_result[0][:,1]"
   ]
  },
  {
   "cell_type": "code",
   "execution_count": 229,
   "metadata": {},
   "outputs": [
    {
     "data": {
      "text/plain": [
       "array([ 4,  4,  3,  5,  4,  4,  5,  3,  5,  6,  5,  6,  4,  4,  2,  2,  3,\n",
       "        3,  3,  4,  5,  8,  5,  3,  2,  7,  2,  2,  3,  3,  3,  3,  3,  3,\n",
       "        4,  5,  3,  4,  4,  7,  2,  1,  1,  1,  3,  4,  3,  3,  4,  2,  3,\n",
       "        4,  2,  4,  4,  4,  3,  3,  3, 10,  4, 10,  3,  2,  5,  3,  4,  4,\n",
       "        2])"
      ]
     },
     "execution_count": 229,
     "metadata": {},
     "output_type": "execute_result"
    }
   ],
   "source": [
    "list_result[1]"
   ]
  },
  {
   "cell_type": "code",
   "execution_count": 157,
   "metadata": {},
   "outputs": [],
   "source": [
    "from sklearn.datasets import make_blobs"
   ]
  },
  {
   "cell_type": "code",
   "execution_count": 230,
   "metadata": {
    "scrolled": true
   },
   "outputs": [
    {
     "data": {
      "text/plain": [
       "<matplotlib.collections.PathCollection at 0x759d4b5fd5f8>"
      ]
     },
     "execution_count": 230,
     "metadata": {},
     "output_type": "execute_result"
    },
    {
     "data": {
      "image/png": "[encoded data removed]",
      "text/plain": [
       "<Figure size 432x288 with 1 Axes>"
      ]
     },
     "metadata": {
      "needs_background": "light"
     },
     "output_type": "display_data"
    }
   ],
   "source": [
    "plt.scatter(list_result[0][:,0],list_result[0][:,1],c=list_result[1],cmap='rainbow')"
   ]
  },
  {
   "cell_type": "code",
   "execution_count": 233,
   "metadata": {},
   "outputs": [],
   "source": [
    "from sklearn.cluster import KMeans"
   ]
  },
  {
   "cell_type": "code",
   "execution_count": 234,
   "metadata": {},
   "outputs": [],
   "source": [
    "kmeans = KMeans(n_clusters=3)"
   ]
  },
  {
   "cell_type": "code",
   "execution_count": 235,
   "metadata": {},
   "outputs": [
    {
     "data": {
      "text/plain": [
       "KMeans(algorithm='auto', copy_x=True, init='k-means++', max_iter=300,\n",
       "    n_clusters=3, n_init=10, n_jobs=1, precompute_distances='auto',\n",
       "    random_state=None, tol=0.0001, verbose=0)"
      ]
     },
     "execution_count": 235,
     "metadata": {},
     "output_type": "execute_result"
    }
   ],
   "source": [
    "kmeans.fit(df_means)"
   ]
  },
  {
   "cell_type": "code",
   "execution_count": 238,
   "metadata": {},
   "outputs": [
    {
     "data": {
      "text/plain": [
       "array([[ 1.87804878,  5.65682927],\n",
       "       [ 2.52380952, 16.07285714],\n",
       "       [ 2.57142857, 34.25571429]])"
      ]
     },
     "execution_count": 238,
     "metadata": {},
     "output_type": "execute_result"
    }
   ],
   "source": [
    "kmeans.cluster_centers_"
   ]
  },
  {
   "cell_type": "code",
   "execution_count": 239,
   "metadata": {},
   "outputs": [
    {
     "data": {
      "text/plain": [
       "array([1, 0, 1, 1, 0, 2, 1, 0, 1, 0, 1, 0, 1, 1, 0, 1, 0, 0, 0, 2, 2, 2,\n",
       "       2, 0, 0, 2, 1, 0, 1, 0, 2, 0, 1, 1, 0, 0, 0, 0, 0, 0, 0, 0, 0, 0,\n",
       "       0, 0, 0, 0, 0, 0, 0, 0, 0, 0, 0, 0, 1, 0, 0, 1, 1, 1, 0, 0, 1, 1,\n",
       "       1, 1, 0], dtype=int32)"
      ]
     },
     "execution_count": 239,
     "metadata": {},
     "output_type": "execute_result"
    }
   ],
   "source": [
    "kmeans.labels_"
   ]
  },
  {
   "cell_type": "code",
   "execution_count": 242,
   "metadata": {},
   "outputs": [
    {
     "data": {
      "text/plain": [
       "<matplotlib.collections.PathCollection at 0x759d4b4ae4a8>"
      ]
     },
     "execution_count": 242,
     "metadata": {},
     "output_type": "execute_result"
    },
    {
     "data": {
      "image/png": "[encoded data removed]",
      "text/plain": [
       "<Figure size 720x432 with 2 Axes>"
      ]
     },
     "metadata": {
      "needs_background": "light"
     },
     "output_type": "display_data"
    }
   ],
   "source": [
    "f, (ax1, ax2) = plt.subplots(1, 2, sharey=True,figsize=(10,6))\n",
    "ax1.set_title('K Means')\n",
    "ax1.scatter(list_result[0][:,0],list_result[0][:,1],c=kmeans.labels_,cmap='rainbow')\n",
    "ax2.set_title(\"Original\")\n",
    "ax2.scatter(list_result[0][:,0],list_result[0][:,1],c=list_result[1],cmap='rainbow')"
   ]
  },
  {
   "cell_type": "code",
   "execution_count": 275,
   "metadata": {},
   "outputs": [
    {
     "data": {
      "text/html": [
       "<div>\n",
       "<style scoped>\n",
       "    .dataframe tbody tr th:only-of-type {\n",
       "        vertical-align: middle;\n",
       "    }\n",
       "\n",
       "    .dataframe tbody tr th {\n",
       "        vertical-align: top;\n",
       "    }\n",
       "\n",
       "    .dataframe thead th {\n",
       "        text-align: right;\n",
       "    }\n",
       "</style>\n",
       "<table border=\"1\" class=\"dataframe\">\n",
       "  <thead>\n",
       "    <tr style=\"text-align: right;\">\n",
       "      <th></th>\n",
       "      <th>card_number</th>\n",
       "      <th>number_win</th>\n",
       "      <th>number_defeats</th>\n",
       "      <th>bet_value</th>\n",
       "      <th>win_value</th>\n",
       "      <th>card_type</th>\n",
       "      <th>result</th>\n",
       "      <th>bet_type</th>\n",
       "      <th>date</th>\n",
       "    </tr>\n",
       "  </thead>\n",
       "  <tbody>\n",
       "    <tr>\n",
       "      <th>0</th>\n",
       "      <td>4</td>\n",
       "      <td>2</td>\n",
       "      <td>2</td>\n",
       "      <td>1.0</td>\n",
       "      <td>14.05</td>\n",
       "      <td>unique</td>\n",
       "      <td>defeats</td>\n",
       "      <td>per goal</td>\n",
       "      <td>2024-08-01</td>\n",
       "    </tr>\n",
       "  </tbody>\n",
       "</table>\n",
       "</div>"
      ],
      "text/plain": [
       "   card_number  number_win  number_defeats  bet_value  win_value card_type  \\\n",
       "0            4           2               2        1.0      14.05    unique   \n",
       "\n",
       "    result  bet_type        date  \n",
       "0  defeats  per goal  2024-08-01  "
      ]
     },
     "execution_count": 275,
     "metadata": {},
     "output_type": "execute_result"
    }
   ],
   "source": [
    "df_result.head(1)"
   ]
  },
  {
   "cell_type": "code",
   "execution_count": 246,
   "metadata": {},
   "outputs": [
    {
     "name": "stderr",
     "output_type": "stream",
     "text": [
      "/home/iva/anaconda3/lib/python3.7/site-packages/seaborn/regression.py:546: UserWarning: The `size` paramter has been renamed to `height`; please update your code.\n",
      "  warnings.warn(msg, UserWarning)\n"
     ]
    },
    {
     "data": {
      "text/plain": [
       "<seaborn.axisgrid.FacetGrid at 0x759d4b1c00b8>"
      ]
     },
     "execution_count": 246,
     "metadata": {},
     "output_type": "execute_result"
    },
    {
     "data": {
      "image/png": "[encoded data removed]",
      "text/plain": [
       "<Figure size 543.875x432 with 1 Axes>"
      ]
     },
     "metadata": {},
     "output_type": "display_data"
    }
   ],
   "source": [
    "sns.set_style('whitegrid')\n",
    "sns.lmplot('number_win','number_defeats',data=df_result, hue='result',\n",
    "           palette='coolwarm',size=6,aspect=1,fit_reg=False)"
   ]
  },
  {
   "cell_type": "code",
   "execution_count": 291,
   "metadata": {},
   "outputs": [],
   "source": [
    "filter_result = np.where((df_result['result'] == 'win') | (df_result['result'] == 'defeats'))"
   ]
  },
  {
   "cell_type": "code",
   "execution_count": 293,
   "metadata": {},
   "outputs": [
    {
     "data": {
      "text/plain": [
       "(array([ 0,  1,  2,  3,  4,  5,  8,  9, 10, 11, 12, 13, 14, 15, 16, 17, 18,\n",
       "        20, 22, 23, 24, 25, 26, 27, 28, 29, 30, 31, 32, 33, 34, 35, 36, 37,\n",
       "        38, 39, 40, 41, 42, 43, 44, 45, 46, 47, 48, 49, 50, 51, 52, 53, 54,\n",
       "        55, 56, 57, 58, 59, 60, 61, 62, 63, 64, 65, 66, 68]),)"
      ]
     },
     "execution_count": 293,
     "metadata": {},
     "output_type": "execute_result"
    }
   ],
   "source": [
    "filter_result "
   ]
  },
  {
   "cell_type": "code",
   "execution_count": 298,
   "metadata": {},
   "outputs": [
    {
     "data": {
      "text/html": [
       "<div>\n",
       "<style scoped>\n",
       "    .dataframe tbody tr th:only-of-type {\n",
       "        vertical-align: middle;\n",
       "    }\n",
       "\n",
       "    .dataframe tbody tr th {\n",
       "        vertical-align: top;\n",
       "    }\n",
       "\n",
       "    .dataframe thead th {\n",
       "        text-align: right;\n",
       "    }\n",
       "</style>\n",
       "<table border=\"1\" class=\"dataframe\">\n",
       "  <thead>\n",
       "    <tr style=\"text-align: right;\">\n",
       "      <th></th>\n",
       "      <th>card_number</th>\n",
       "      <th>number_win</th>\n",
       "      <th>number_defeats</th>\n",
       "      <th>bet_value</th>\n",
       "      <th>win_value</th>\n",
       "      <th>card_type</th>\n",
       "      <th>result</th>\n",
       "      <th>bet_type</th>\n",
       "      <th>date</th>\n",
       "    </tr>\n",
       "  </thead>\n",
       "  <tbody>\n",
       "    <tr>\n",
       "      <th>0</th>\n",
       "      <td>4</td>\n",
       "      <td>2</td>\n",
       "      <td>2</td>\n",
       "      <td>1.00</td>\n",
       "      <td>14.05</td>\n",
       "      <td>unique</td>\n",
       "      <td>defeats</td>\n",
       "      <td>per goal</td>\n",
       "      <td>2024-08-01</td>\n",
       "    </tr>\n",
       "    <tr>\n",
       "      <th>1</th>\n",
       "      <td>4</td>\n",
       "      <td>3</td>\n",
       "      <td>1</td>\n",
       "      <td>1.00</td>\n",
       "      <td>7.81</td>\n",
       "      <td>unique</td>\n",
       "      <td>defeats</td>\n",
       "      <td>per goal</td>\n",
       "      <td>2024-08-01</td>\n",
       "    </tr>\n",
       "    <tr>\n",
       "      <th>2</th>\n",
       "      <td>3</td>\n",
       "      <td>1</td>\n",
       "      <td>2</td>\n",
       "      <td>1.00</td>\n",
       "      <td>15.77</td>\n",
       "      <td>unique</td>\n",
       "      <td>defeats</td>\n",
       "      <td>per goal</td>\n",
       "      <td>2024-08-01</td>\n",
       "    </tr>\n",
       "    <tr>\n",
       "      <th>3</th>\n",
       "      <td>5</td>\n",
       "      <td>3</td>\n",
       "      <td>2</td>\n",
       "      <td>1.00</td>\n",
       "      <td>16.88</td>\n",
       "      <td>unique</td>\n",
       "      <td>defeats</td>\n",
       "      <td>per goal</td>\n",
       "      <td>2024-08-01</td>\n",
       "    </tr>\n",
       "    <tr>\n",
       "      <th>4</th>\n",
       "      <td>4</td>\n",
       "      <td>4</td>\n",
       "      <td>0</td>\n",
       "      <td>1.57</td>\n",
       "      <td>8.61</td>\n",
       "      <td>unique</td>\n",
       "      <td>win</td>\n",
       "      <td>per goal</td>\n",
       "      <td>2024-08-01</td>\n",
       "    </tr>\n",
       "  </tbody>\n",
       "</table>\n",
       "</div>"
      ],
      "text/plain": [
       "   card_number  number_win  number_defeats  bet_value  win_value card_type  \\\n",
       "0            4           2               2       1.00      14.05    unique   \n",
       "1            4           3               1       1.00       7.81    unique   \n",
       "2            3           1               2       1.00      15.77    unique   \n",
       "3            5           3               2       1.00      16.88    unique   \n",
       "4            4           4               0       1.57       8.61    unique   \n",
       "\n",
       "    result  bet_type        date  \n",
       "0  defeats  per goal  2024-08-01  \n",
       "1  defeats  per goal  2024-08-01  \n",
       "2  defeats  per goal  2024-08-01  \n",
       "3  defeats  per goal  2024-08-01  \n",
       "4      win  per goal  2024-08-01  "
      ]
     },
     "execution_count": 298,
     "metadata": {},
     "output_type": "execute_result"
    }
   ],
   "source": [
    "result=df_result.loc[filter_result]\n",
    "result.head()"
   ]
  },
  {
   "cell_type": "code",
   "execution_count": 299,
   "metadata": {},
   "outputs": [
    {
     "name": "stderr",
     "output_type": "stream",
     "text": [
      "/home/iva/anaconda3/lib/python3.7/site-packages/seaborn/regression.py:546: UserWarning: The `size` paramter has been renamed to `height`; please update your code.\n",
      "  warnings.warn(msg, UserWarning)\n"
     ]
    },
    {
     "data": {
      "text/plain": [
       "<seaborn.axisgrid.FacetGrid at 0x759d4b04df60>"
      ]
     },
     "execution_count": 299,
     "metadata": {},
     "output_type": "execute_result"
    },
    {
     "data": {
      "image/png": "[encoded data removed]",
      "text/plain": [
       "<Figure size 505.5x432 with 1 Axes>"
      ]
     },
     "metadata": {},
     "output_type": "display_data"
    }
   ],
   "source": [
    "sns.set_style('whitegrid')\n",
    "sns.lmplot('number_win','number_defeats',data=result, hue='result',\n",
    "           palette='coolwarm',size=6,aspect=1,fit_reg=False)"
   ]
  }
 ],
 "metadata": {
  "kernelspec": {
   "display_name": "Python 3",
   "language": "python",
   "name": "python3"
  },
  "language_info": {
   "codemirror_mode": {
    "name": "ipython",
    "version": 3
   },
   "file_extension": ".py",
   "mimetype": "text/x-python",
   "name": "python",
   "nbconvert_exporter": "python",
   "pygments_lexer": "ipython3",
   "version": "3.7.0"
  }
 },
 "nbformat": 4,
 "nbformat_minor": 2
}
